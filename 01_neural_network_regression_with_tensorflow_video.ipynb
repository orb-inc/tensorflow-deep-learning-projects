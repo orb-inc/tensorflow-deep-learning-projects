{
  "cells": [
    {
      "cell_type": "markdown",
      "metadata": {
        "id": "view-in-github",
        "colab_type": "text"
      },
      "source": [
        "<a href=\"https://colab.research.google.com/github/orb-inc/tensorflow-deep-learning-projects/blob/main/01_neural_network_regression_with_tensorflow_video.ipynb\" target=\"_parent\"><img src=\"https://colab.research.google.com/assets/colab-badge.svg\" alt=\"Open In Colab\"/></a>"
      ]
    },
    {
      "cell_type": "markdown",
      "metadata": {
        "id": "wvY69JYIJkMj"
      },
      "source": [
        "# Introduction to regression with Neural Networks in TensorFlow\n",
        "\n",
        "There are many definitions for a regression problem but in our case, we're going to simplify it: predicting a numerical variable based on some other combination of variables, even shorter... predicting a number.  "
      ]
    },
    {
      "cell_type": "code",
      "execution_count": 1,
      "metadata": {
        "colab": {
          "base_uri": "https://localhost:8080/"
        },
        "id": "7aolzeOxKu1Q",
        "outputId": "574337c6-0d9f-43a9-e178-3b02b8da4d5e"
      },
      "outputs": [
        {
          "output_type": "stream",
          "name": "stdout",
          "text": [
            "TensorFlow version is 2.12.0\n"
          ]
        }
      ],
      "source": [
        "# Import TensorFlow\n",
        "import tensorflow as tf\n",
        "print(f'TensorFlow version is {tf.__version__}')"
      ]
    },
    {
      "cell_type": "markdown",
      "metadata": {
        "id": "aabrhwN7MbX8"
      },
      "source": [
        "## Creating data to view and fit "
      ]
    },
    {
      "cell_type": "code",
      "execution_count": 2,
      "metadata": {
        "colab": {
          "base_uri": "https://localhost:8080/",
          "height": 435
        },
        "id": "jpqVU36YMyJk",
        "outputId": "0e7c37c3-3c58-461a-89cc-eea67d5316cb"
      },
      "outputs": [
        {
          "output_type": "display_data",
          "data": {
            "text/plain": [
              "<Figure size 640x480 with 1 Axes>"
            ],
            "image/png": "[encoded data removed]"
          },
          "metadata": {}
        }
      ],
      "source": [
        "import numpy as np\n",
        "import matplotlib.pyplot as plt\n",
        "\n",
        "# Create features\n",
        "X = np.array([-7.0, -4.0, -1.0, 2.0, 5.0, 8.0, 11.0, 14.0])\n",
        "\n",
        "# Create labels\n",
        "y = np.array([3.0, 6.0, 9.0, 12.0, 15.0, 18.0, 21.0, 24.0])\n",
        "\n",
        "# Visualize it\n",
        "plt.scatter(X, y);"
      ]
    },
    {
      "cell_type": "code",
      "execution_count": 3,
      "metadata": {
        "colab": {
          "base_uri": "https://localhost:8080/"
        },
        "id": "ODKHY2lqPFZw",
        "outputId": "21f4ae1d-0109-4a0c-ea6c-3cfb9eb1bbf1"
      },
      "outputs": [
        {
          "output_type": "execute_result",
          "data": {
            "text/plain": [
              "array([ True,  True,  True,  True,  True,  True,  True,  True])"
            ]
          },
          "metadata": {},
          "execution_count": 3
        }
      ],
      "source": [
        "y == X + 10"
      ]
    },
    {
      "cell_type": "markdown",
      "metadata": {
        "id": "Vz6f3T2xPmic"
      },
      "source": [
        "## Input and output shapes "
      ]
    },
    {
      "cell_type": "code",
      "execution_count": 4,
      "metadata": {
        "colab": {
          "base_uri": "https://localhost:8080/"
        },
        "id": "8F6eCW65QC4F",
        "outputId": "52028827-c1c9-4126-d4a3-6abc09b3357e"
      },
      "outputs": [
        {
          "output_type": "execute_result",
          "data": {
            "text/plain": [
              "(<tf.Tensor: shape=(3,), dtype=string, numpy=array([b'bedroom', b'bathroom', b'garage'], dtype=object)>,\n",
              " <tf.Tensor: shape=(1,), dtype=int32, numpy=array([939700], dtype=int32)>)"
            ]
          },
          "metadata": {},
          "execution_count": 4
        }
      ],
      "source": [
        "# Creat a demo tensor for our housing price prediction problem\n",
        "house_info = tf.constant([\"bedroom\", \"bathroom\", \"garage\"])\n",
        "house_price = tf.constant([939_700])\n",
        "house_info, house_price"
      ]
    },
    {
      "cell_type": "code",
      "execution_count": 5,
      "metadata": {
        "colab": {
          "base_uri": "https://localhost:8080/"
        },
        "id": "NJNCaPewRNCR",
        "outputId": "0c1eef98-3093-42a9-e814-76dc6796880e"
      },
      "outputs": [
        {
          "output_type": "execute_result",
          "data": {
            "text/plain": [
              "((8,), (8,))"
            ]
          },
          "metadata": {},
          "execution_count": 5
        }
      ],
      "source": [
        "input_shape = X.shape\n",
        "output_shape = y.shape\n",
        "input_shape, output_shape"
      ]
    },
    {
      "cell_type": "code",
      "execution_count": 6,
      "metadata": {
        "colab": {
          "base_uri": "https://localhost:8080/"
        },
        "id": "5F55kF3CRNf4",
        "outputId": "40ab4c8e-d336-40de-b4a6-2e73864061a9"
      },
      "outputs": [
        {
          "output_type": "execute_result",
          "data": {
            "text/plain": [
              "(-7.0, 3.0)"
            ]
          },
          "metadata": {},
          "execution_count": 6
        }
      ],
      "source": [
        "X[0], y[0]"
      ]
    },
    {
      "cell_type": "code",
      "execution_count": 7,
      "metadata": {
        "colab": {
          "base_uri": "https://localhost:8080/"
        },
        "id": "e87q3SPSVftm",
        "outputId": "dbb820ff-62ef-4419-f043-97fb35d9b863"
      },
      "outputs": [
        {
          "output_type": "execute_result",
          "data": {
            "text/plain": [
              "(-4.0, 6.0)"
            ]
          },
          "metadata": {},
          "execution_count": 7
        }
      ],
      "source": [
        "X[1], y[1]"
      ]
    },
    {
      "cell_type": "code",
      "execution_count": 8,
      "metadata": {
        "colab": {
          "base_uri": "https://localhost:8080/"
        },
        "id": "kKxUkY1TVlfw",
        "outputId": "77d1cd4a-cc2c-490f-a5b9-1dbf4e4c1184"
      },
      "outputs": [
        {
          "output_type": "execute_result",
          "data": {
            "text/plain": [
              "((), ())"
            ]
          },
          "metadata": {},
          "execution_count": 8
        }
      ],
      "source": [
        "X[0].shape, y[0].shape"
      ]
    },
    {
      "cell_type": "code",
      "execution_count": 9,
      "metadata": {
        "colab": {
          "base_uri": "https://localhost:8080/"
        },
        "id": "HOIuSfyDVnnX",
        "outputId": "cb914db2-bc34-469a-a3d3-96de8edbac03"
      },
      "outputs": [
        {
          "output_type": "execute_result",
          "data": {
            "text/plain": [
              "0"
            ]
          },
          "metadata": {},
          "execution_count": 9
        }
      ],
      "source": [
        "X[0].ndim"
      ]
    },
    {
      "cell_type": "code",
      "execution_count": 10,
      "metadata": {
        "colab": {
          "base_uri": "https://localhost:8080/"
        },
        "id": "SJ6ITyyvQSmc",
        "outputId": "c65c9bde-41a4-4826-dc0a-de3047b162e9"
      },
      "outputs": [
        {
          "output_type": "execute_result",
          "data": {
            "text/plain": [
              "(<tf.Tensor: shape=(8,), dtype=float32, numpy=array([-7., -4., -1.,  2.,  5.,  8., 11., 14.], dtype=float32)>,\n",
              " <tf.Tensor: shape=(8,), dtype=float32, numpy=array([ 3.,  6.,  9., 12., 15., 18., 21., 24.], dtype=float32)>)"
            ]
          },
          "metadata": {},
          "execution_count": 10
        }
      ],
      "source": [
        "# Turn our NumPy arrays into tensors \n",
        "X = tf.cast(tf.constant(X), dtype=tf.float32)\n",
        "y = tf.cast(tf.constant(y), dtype=tf.float32)\n",
        "X, y"
      ]
    },
    {
      "cell_type": "code",
      "execution_count": 11,
      "metadata": {
        "colab": {
          "base_uri": "https://localhost:8080/"
        },
        "id": "c4pl8LrfQVNd",
        "outputId": "47cefad0-ba9f-4dbe-df79-98b2f324b9fd"
      },
      "outputs": [
        {
          "output_type": "execute_result",
          "data": {
            "text/plain": [
              "(TensorShape([]), TensorShape([]))"
            ]
          },
          "metadata": {},
          "execution_count": 11
        }
      ],
      "source": [
        "input_shape = X[0].shape\n",
        "output_shape = y[0].shape\n",
        "input_shape, output_shape"
      ]
    },
    {
      "cell_type": "code",
      "execution_count": 12,
      "metadata": {
        "colab": {
          "base_uri": "https://localhost:8080/",
          "height": 435
        },
        "id": "FByArDS0QVuv",
        "outputId": "9d42fc88-5bed-4ac2-d977-7cd800850fe4"
      },
      "outputs": [
        {
          "output_type": "display_data",
          "data": {
            "text/plain": [
              "<Figure size 640x480 with 1 Axes>"
            ],
            "image/png": "[encoded data removed]"
          },
          "metadata": {}
        }
      ],
      "source": [
        "plt.scatter(X, y);"
      ]
    },
    {
      "cell_type": "markdown",
      "metadata": {
        "id": "ADFjHhRqQWIH"
      },
      "source": [
        "## Steps in modelling with TensorFlow\n",
        "\n",
        "1. **Creating a model** - define the input and output layers, as well as the hidden layers of a deep learning model. \n",
        "2. **Compile a model** - define the loss function (in other words, the function which tells our model how wrong it is) and the optimizer(tells our model how to improve the patterns it's learning and evaluation metrics (what we can use to interpret the performance of our model).\n",
        "3. **Fitting a model** - letting the model try to find patterns between X & y (features and labels)."
      ]
    },
    {
      "cell_type": "code",
      "execution_count": 13,
      "metadata": {
        "colab": {
          "base_uri": "https://localhost:8080/"
        },
        "id": "s-0XwCpHaa_8",
        "outputId": "3e130bc4-0ca8-4829-ec08-5d65bb80df66"
      },
      "outputs": [
        {
          "output_type": "stream",
          "name": "stdout",
          "text": [
            "Epoch 1/5\n",
            "1/1 [==============================] - 1s 672ms/step - loss: 13.0963 - mae: 13.0963\n",
            "Epoch 2/5\n",
            "1/1 [==============================] - 0s 16ms/step - loss: 12.9638 - mae: 12.9638\n",
            "Epoch 3/5\n",
            "1/1 [==============================] - 0s 14ms/step - loss: 12.8313 - mae: 12.8313\n",
            "Epoch 4/5\n",
            "1/1 [==============================] - 0s 12ms/step - loss: 12.6988 - mae: 12.6988\n",
            "Epoch 5/5\n",
            "1/1 [==============================] - 0s 12ms/step - loss: 12.5663 - mae: 12.5663\n"
          ]
        },
        {
          "output_type": "execute_result",
          "data": {
            "text/plain": [
              "<keras.callbacks.History at 0x7f550977eca0>"
            ]
          },
          "metadata": {},
          "execution_count": 13
        }
      ],
      "source": [
        "# Set random seed \n",
        "tf.random.set_seed(42)\n",
        "\n",
        "# Create a model using the Sequential API\n",
        "model = tf.keras.Sequential([\n",
        "    tf.keras.layers.Dense(1)\n",
        "])\n",
        "\n",
        "# 2. Compile the model \n",
        "model.compile(loss=tf.keras.losses.mae, # mae is short for mean absolute error\n",
        "              optimizer=tf.keras.optimizers.SGD(), # sgd is short for stochastic gradient descent\n",
        "              metrics=[\"mae\"]) \n",
        "\n",
        "# 3. Fit the model \n",
        "model.fit(tf.expand_dims(X, -1), y, epochs=5)"
      ]
    },
    {
      "cell_type": "code",
      "execution_count": 14,
      "metadata": {
        "colab": {
          "base_uri": "https://localhost:8080/"
        },
        "id": "M7pO8k7-7tLo",
        "outputId": "af8af62b-de1e-411b-9f45-0968b8610917"
      },
      "outputs": [
        {
          "output_type": "stream",
          "name": "stdout",
          "text": [
            "1/1 [==============================] - 0s 122ms/step\n"
          ]
        },
        {
          "output_type": "execute_result",
          "data": {
            "text/plain": [
              "array([[4.985861]], dtype=float32)"
            ]
          },
          "metadata": {},
          "execution_count": 14
        }
      ],
      "source": [
        "model.predict([17])"
      ]
    },
    {
      "cell_type": "markdown",
      "metadata": {
        "id": "7D5kFg7hTiqq"
      },
      "source": [
        "## Improving our model \n",
        "\n",
        "We can improve our model, by altering the steps we took to create a model. \n",
        "\n",
        "1. **Creating a model** - here we might add more layers, increase the number of hidden units (also called neurons) within each of the hidden layers, change the activation function of each layer. \n",
        "2. **Compiling a model** - here we might change the optimization function or perhaps the **learning rate** of the optimization function. \n",
        "3. **Fitting a model** - here we might fit a model for more **epochs** (leave it training for longer) or on more data (give the model more examples to learn from). \n",
        "   "
      ]
    },
    {
      "cell_type": "code",
      "execution_count": 15,
      "metadata": {
        "colab": {
          "base_uri": "https://localhost:8080/"
        },
        "id": "3R-r7IqsUlCZ",
        "outputId": "d8d9cfa6-ca2c-4b01-fc7d-ebf5a4578248"
      },
      "outputs": [
        {
          "output_type": "stream",
          "name": "stdout",
          "text": [
            "Epoch 1/100\n",
            "1/1 [==============================] - 0s 441ms/step - loss: 9.3057 - mae: 9.3057\n",
            "Epoch 2/100\n",
            "1/1 [==============================] - 0s 13ms/step - loss: 9.1732 - mae: 9.1732\n",
            "Epoch 3/100\n",
            "1/1 [==============================] - 0s 15ms/step - loss: 9.0407 - mae: 9.0407\n",
            "Epoch 4/100\n",
            "1/1 [==============================] - 0s 13ms/step - loss: 8.9082 - mae: 8.9082\n",
            "Epoch 5/100\n",
            "1/1 [==============================] - 0s 12ms/step - loss: 8.7757 - mae: 8.7757\n",
            "Epoch 6/100\n",
            "1/1 [==============================] - 0s 13ms/step - loss: 8.6432 - mae: 8.6432\n",
            "Epoch 7/100\n",
            "1/1 [==============================] - 0s 19ms/step - loss: 8.5107 - mae: 8.5107\n",
            "Epoch 8/100\n",
            "1/1 [==============================] - 0s 17ms/step - loss: 8.3782 - mae: 8.3782\n",
            "Epoch 9/100\n",
            "1/1 [==============================] - 0s 18ms/step - loss: 8.2457 - mae: 8.2457\n",
            "Epoch 10/100\n",
            "1/1 [==============================] - 0s 12ms/step - loss: 8.1132 - mae: 8.1132\n",
            "Epoch 11/100\n",
            "1/1 [==============================] - 0s 16ms/step - loss: 7.9807 - mae: 7.9807\n",
            "Epoch 12/100\n",
            "1/1 [==============================] - 0s 16ms/step - loss: 7.8482 - mae: 7.8482\n",
            "Epoch 13/100\n",
            "1/1 [==============================] - 0s 17ms/step - loss: 7.7157 - mae: 7.7157\n",
            "Epoch 14/100\n",
            "1/1 [==============================] - 0s 15ms/step - loss: 7.5832 - mae: 7.5832\n",
            "Epoch 15/100\n",
            "1/1 [==============================] - 0s 16ms/step - loss: 7.4507 - mae: 7.4507\n",
            "Epoch 16/100\n",
            "1/1 [==============================] - 0s 11ms/step - loss: 7.3875 - mae: 7.3875\n",
            "Epoch 17/100\n",
            "1/1 [==============================] - 0s 11ms/step - loss: 7.3819 - mae: 7.3819\n",
            "Epoch 18/100\n",
            "1/1 [==============================] - 0s 13ms/step - loss: 7.3763 - mae: 7.3763\n",
            "Epoch 19/100\n",
            "1/1 [==============================] - 0s 13ms/step - loss: 7.3706 - mae: 7.3706\n",
            "Epoch 20/100\n",
            "1/1 [==============================] - 0s 12ms/step - loss: 7.3650 - mae: 7.3650\n",
            "Epoch 21/100\n",
            "1/1 [==============================] - 0s 11ms/step - loss: 7.3594 - mae: 7.3594\n",
            "Epoch 22/100\n",
            "1/1 [==============================] - 0s 30ms/step - loss: 7.3537 - mae: 7.3537\n",
            "Epoch 23/100\n",
            "1/1 [==============================] - 0s 12ms/step - loss: 7.3481 - mae: 7.3481\n",
            "Epoch 24/100\n",
            "1/1 [==============================] - 0s 11ms/step - loss: 7.3425 - mae: 7.3425\n",
            "Epoch 25/100\n",
            "1/1 [==============================] - 0s 14ms/step - loss: 7.3369 - mae: 7.3369\n",
            "Epoch 26/100\n",
            "1/1 [==============================] - 0s 12ms/step - loss: 7.3313 - mae: 7.3313\n",
            "Epoch 27/100\n",
            "1/1 [==============================] - 0s 14ms/step - loss: 7.3256 - mae: 7.3256\n",
            "Epoch 28/100\n",
            "1/1 [==============================] - 0s 11ms/step - loss: 7.3200 - mae: 7.3200\n",
            "Epoch 29/100\n",
            "1/1 [==============================] - 0s 12ms/step - loss: 7.3144 - mae: 7.3144\n",
            "Epoch 30/100\n",
            "1/1 [==============================] - 0s 12ms/step - loss: 7.3088 - mae: 7.3088\n",
            "Epoch 31/100\n",
            "1/1 [==============================] - 0s 13ms/step - loss: 7.3031 - mae: 7.3031\n",
            "Epoch 32/100\n",
            "1/1 [==============================] - 0s 13ms/step - loss: 7.2975 - mae: 7.2975\n",
            "Epoch 33/100\n",
            "1/1 [==============================] - 0s 13ms/step - loss: 7.2919 - mae: 7.2919\n",
            "Epoch 34/100\n",
            "1/1 [==============================] - 0s 12ms/step - loss: 7.2862 - mae: 7.2862\n",
            "Epoch 35/100\n",
            "1/1 [==============================] - 0s 11ms/step - loss: 7.2806 - mae: 7.2806\n",
            "Epoch 36/100\n",
            "1/1 [==============================] - 0s 16ms/step - loss: 7.2750 - mae: 7.2750\n",
            "Epoch 37/100\n",
            "1/1 [==============================] - 0s 13ms/step - loss: 7.2694 - mae: 7.2694\n",
            "Epoch 38/100\n",
            "1/1 [==============================] - 0s 13ms/step - loss: 7.2638 - mae: 7.2638\n",
            "Epoch 39/100\n",
            "1/1 [==============================] - 0s 13ms/step - loss: 7.2581 - mae: 7.2581\n",
            "Epoch 40/100\n",
            "1/1 [==============================] - 0s 11ms/step - loss: 7.2525 - mae: 7.2525\n",
            "Epoch 41/100\n",
            "1/1 [==============================] - 0s 13ms/step - loss: 7.2469 - mae: 7.2469\n",
            "Epoch 42/100\n",
            "1/1 [==============================] - 0s 11ms/step - loss: 7.2413 - mae: 7.2413\n",
            "Epoch 43/100\n",
            "1/1 [==============================] - 0s 15ms/step - loss: 7.2356 - mae: 7.2356\n",
            "Epoch 44/100\n",
            "1/1 [==============================] - 0s 16ms/step - loss: 7.2300 - mae: 7.2300\n",
            "Epoch 45/100\n",
            "1/1 [==============================] - 0s 15ms/step - loss: 7.2244 - mae: 7.2244\n",
            "Epoch 46/100\n",
            "1/1 [==============================] - 0s 13ms/step - loss: 7.2188 - mae: 7.2188\n",
            "Epoch 47/100\n",
            "1/1 [==============================] - 0s 16ms/step - loss: 7.2131 - mae: 7.2131\n",
            "Epoch 48/100\n",
            "1/1 [==============================] - 0s 15ms/step - loss: 7.2075 - mae: 7.2075\n",
            "Epoch 49/100\n",
            "1/1 [==============================] - 0s 23ms/step - loss: 7.2019 - mae: 7.2019\n",
            "Epoch 50/100\n",
            "1/1 [==============================] - 0s 13ms/step - loss: 7.1963 - mae: 7.1963\n",
            "Epoch 51/100\n",
            "1/1 [==============================] - 0s 12ms/step - loss: 7.1906 - mae: 7.1906\n",
            "Epoch 52/100\n",
            "1/1 [==============================] - 0s 16ms/step - loss: 7.1850 - mae: 7.1850\n",
            "Epoch 53/100\n",
            "1/1 [==============================] - 0s 15ms/step - loss: 7.1794 - mae: 7.1794\n",
            "Epoch 54/100\n",
            "1/1 [==============================] - 0s 12ms/step - loss: 7.1737 - mae: 7.1737\n",
            "Epoch 55/100\n",
            "1/1 [==============================] - 0s 18ms/step - loss: 7.1681 - mae: 7.1681\n",
            "Epoch 56/100\n",
            "1/1 [==============================] - 0s 13ms/step - loss: 7.1625 - mae: 7.1625\n",
            "Epoch 57/100\n",
            "1/1 [==============================] - 0s 16ms/step - loss: 7.1569 - mae: 7.1569\n",
            "Epoch 58/100\n",
            "1/1 [==============================] - 0s 13ms/step - loss: 7.1512 - mae: 7.1512\n",
            "Epoch 59/100\n",
            "1/1 [==============================] - 0s 17ms/step - loss: 7.1456 - mae: 7.1456\n",
            "Epoch 60/100\n",
            "1/1 [==============================] - 0s 14ms/step - loss: 7.1400 - mae: 7.1400\n",
            "Epoch 61/100\n",
            "1/1 [==============================] - 0s 21ms/step - loss: 7.1344 - mae: 7.1344\n",
            "Epoch 62/100\n",
            "1/1 [==============================] - 0s 11ms/step - loss: 7.1287 - mae: 7.1287\n",
            "Epoch 63/100\n",
            "1/1 [==============================] - 0s 19ms/step - loss: 7.1231 - mae: 7.1231\n",
            "Epoch 64/100\n",
            "1/1 [==============================] - 0s 12ms/step - loss: 7.1175 - mae: 7.1175\n",
            "Epoch 65/100\n",
            "1/1 [==============================] - 0s 12ms/step - loss: 7.1119 - mae: 7.1119\n",
            "Epoch 66/100\n",
            "1/1 [==============================] - 0s 14ms/step - loss: 7.1062 - mae: 7.1062\n",
            "Epoch 67/100\n",
            "1/1 [==============================] - 0s 15ms/step - loss: 7.1006 - mae: 7.1006\n",
            "Epoch 68/100\n",
            "1/1 [==============================] - 0s 12ms/step - loss: 7.0950 - mae: 7.0950\n",
            "Epoch 69/100\n",
            "1/1 [==============================] - 0s 16ms/step - loss: 7.0894 - mae: 7.0894\n",
            "Epoch 70/100\n",
            "1/1 [==============================] - 0s 30ms/step - loss: 7.0838 - mae: 7.0838\n",
            "Epoch 71/100\n",
            "1/1 [==============================] - 0s 12ms/step - loss: 7.0781 - mae: 7.0781\n",
            "Epoch 72/100\n",
            "1/1 [==============================] - 0s 12ms/step - loss: 7.0725 - mae: 7.0725\n",
            "Epoch 73/100\n",
            "1/1 [==============================] - 0s 12ms/step - loss: 7.0669 - mae: 7.0669\n",
            "Epoch 74/100\n",
            "1/1 [==============================] - 0s 13ms/step - loss: 7.0613 - mae: 7.0613\n",
            "Epoch 75/100\n",
            "1/1 [==============================] - 0s 15ms/step - loss: 7.0556 - mae: 7.0556\n",
            "Epoch 76/100\n",
            "1/1 [==============================] - 0s 14ms/step - loss: 7.0500 - mae: 7.0500\n",
            "Epoch 77/100\n",
            "1/1 [==============================] - 0s 13ms/step - loss: 7.0444 - mae: 7.0444\n",
            "Epoch 78/100\n",
            "1/1 [==============================] - 0s 13ms/step - loss: 7.0387 - mae: 7.0387\n",
            "Epoch 79/100\n",
            "1/1 [==============================] - 0s 13ms/step - loss: 7.0331 - mae: 7.0331\n",
            "Epoch 80/100\n",
            "1/1 [==============================] - 0s 15ms/step - loss: 7.0275 - mae: 7.0275\n",
            "Epoch 81/100\n",
            "1/1 [==============================] - 0s 14ms/step - loss: 7.0219 - mae: 7.0219\n",
            "Epoch 82/100\n",
            "1/1 [==============================] - 0s 13ms/step - loss: 7.0163 - mae: 7.0163\n",
            "Epoch 83/100\n",
            "1/1 [==============================] - 0s 13ms/step - loss: 7.0106 - mae: 7.0106\n",
            "Epoch 84/100\n",
            "1/1 [==============================] - 0s 13ms/step - loss: 7.0050 - mae: 7.0050\n",
            "Epoch 85/100\n",
            "1/1 [==============================] - 0s 13ms/step - loss: 6.9994 - mae: 6.9994\n",
            "Epoch 86/100\n",
            "1/1 [==============================] - 0s 15ms/step - loss: 6.9938 - mae: 6.9938\n",
            "Epoch 87/100\n",
            "1/1 [==============================] - 0s 12ms/step - loss: 6.9881 - mae: 6.9881\n",
            "Epoch 88/100\n",
            "1/1 [==============================] - 0s 13ms/step - loss: 6.9825 - mae: 6.9825\n",
            "Epoch 89/100\n",
            "1/1 [==============================] - 0s 14ms/step - loss: 6.9769 - mae: 6.9769\n",
            "Epoch 90/100\n",
            "1/1 [==============================] - 0s 25ms/step - loss: 6.9713 - mae: 6.9713\n",
            "Epoch 91/100\n",
            "1/1 [==============================] - 0s 13ms/step - loss: 6.9656 - mae: 6.9656\n",
            "Epoch 92/100\n",
            "1/1 [==============================] - 0s 19ms/step - loss: 6.9600 - mae: 6.9600\n",
            "Epoch 93/100\n",
            "1/1 [==============================] - 0s 13ms/step - loss: 6.9544 - mae: 6.9544\n",
            "Epoch 94/100\n",
            "1/1 [==============================] - 0s 13ms/step - loss: 6.9488 - mae: 6.9488\n",
            "Epoch 95/100\n",
            "1/1 [==============================] - 0s 14ms/step - loss: 6.9431 - mae: 6.9431\n",
            "Epoch 96/100\n",
            "1/1 [==============================] - 0s 20ms/step - loss: 6.9375 - mae: 6.9375\n",
            "Epoch 97/100\n",
            "1/1 [==============================] - 0s 17ms/step - loss: 6.9319 - mae: 6.9319\n",
            "Epoch 98/100\n",
            "1/1 [==============================] - 0s 13ms/step - loss: 6.9262 - mae: 6.9262\n",
            "Epoch 99/100\n",
            "1/1 [==============================] - 0s 13ms/step - loss: 6.9206 - mae: 6.9206\n",
            "Epoch 100/100\n",
            "1/1 [==============================] - 0s 13ms/step - loss: 6.9150 - mae: 6.9150\n"
          ]
        },
        {
          "output_type": "execute_result",
          "data": {
            "text/plain": [
              "<keras.callbacks.History at 0x7f5508f14fa0>"
            ]
          },
          "metadata": {},
          "execution_count": 15
        }
      ],
      "source": [
        "# Let's rebuild our model \n",
        "\n",
        "# Create the model \n",
        "model = tf.keras.Sequential([\n",
        "    tf.keras.layers.Dense(1)\n",
        "])\n",
        "\n",
        "# 2. Compile the model \n",
        "model.compile(loss=tf.keras.losses.mae,\n",
        "              optimizer=tf.keras.optimizers.SGD(),\n",
        "              metrics=[\"mae\"])\n",
        "\n",
        "# 3. Fit the model (this time we'll train for longer)\n",
        "model.fit(tf.expand_dims(X, -1), y, epochs=100)"
      ]
    },
    {
      "cell_type": "code",
      "execution_count": 16,
      "metadata": {
        "colab": {
          "base_uri": "https://localhost:8080/"
        },
        "id": "wlxrh08wTkP5",
        "outputId": "8c13bf95-9a43-4928-cd16-d71061fd53c0"
      },
      "outputs": [
        {
          "output_type": "execute_result",
          "data": {
            "text/plain": [
              "(<tf.Tensor: shape=(8,), dtype=float32, numpy=array([-7., -4., -1.,  2.,  5.,  8., 11., 14.], dtype=float32)>,\n",
              " <tf.Tensor: shape=(8,), dtype=float32, numpy=array([ 3.,  6.,  9., 12., 15., 18., 21., 24.], dtype=float32)>)"
            ]
          },
          "metadata": {},
          "execution_count": 16
        }
      ],
      "source": [
        "# Remind ourself of the data \n",
        "X, y"
      ]
    },
    {
      "cell_type": "code",
      "execution_count": 17,
      "metadata": {
        "colab": {
          "base_uri": "https://localhost:8080/"
        },
        "id": "i9PDCPJSIFQ5",
        "outputId": "37618a30-470f-475e-f134-3a8c506d21e2"
      },
      "outputs": [
        {
          "output_type": "stream",
          "name": "stdout",
          "text": [
            "1/1 [==============================] - 0s 77ms/step\n"
          ]
        },
        {
          "output_type": "execute_result",
          "data": {
            "text/plain": [
              "array([[30.084763]], dtype=float32)"
            ]
          },
          "metadata": {},
          "execution_count": 17
        }
      ],
      "source": [
        "# Let's see if our model's prediction has improved...\n",
        "model.predict([17.0])"
      ]
    },
    {
      "cell_type": "code",
      "execution_count": 18,
      "metadata": {
        "colab": {
          "base_uri": "https://localhost:8080/"
        },
        "id": "vkowv4Dquf1y",
        "outputId": "91fe4332-280e-44a7-cbdf-e3fc49ab0bdd"
      },
      "outputs": [
        {
          "output_type": "stream",
          "name": "stdout",
          "text": [
            "Epoch 1/100\n",
            "1/1 [==============================] - 1s 536ms/step - loss: 10.4813 - mae: 10.4813\n",
            "Epoch 2/100\n",
            "1/1 [==============================] - 0s 14ms/step - loss: 10.0313 - mae: 10.0313\n",
            "Epoch 3/100\n",
            "1/1 [==============================] - 0s 15ms/step - loss: 9.5813 - mae: 9.5813\n",
            "Epoch 4/100\n",
            "1/1 [==============================] - 0s 14ms/step - loss: 9.1313 - mae: 9.1313\n",
            "Epoch 5/100\n",
            "1/1 [==============================] - 0s 17ms/step - loss: 8.6813 - mae: 8.6813\n",
            "Epoch 6/100\n",
            "1/1 [==============================] - 0s 14ms/step - loss: 8.2313 - mae: 8.2313\n",
            "Epoch 7/100\n",
            "1/1 [==============================] - 0s 13ms/step - loss: 7.7813 - mae: 7.7813\n",
            "Epoch 8/100\n",
            "1/1 [==============================] - 0s 13ms/step - loss: 7.3313 - mae: 7.3313\n",
            "Epoch 9/100\n",
            "1/1 [==============================] - 0s 12ms/step - loss: 6.9000 - mae: 6.9000\n",
            "Epoch 10/100\n",
            "1/1 [==============================] - 0s 11ms/step - loss: 6.8262 - mae: 6.8262\n",
            "Epoch 11/100\n",
            "1/1 [==============================] - 0s 11ms/step - loss: 6.7861 - mae: 6.7861\n",
            "Epoch 12/100\n",
            "1/1 [==============================] - 0s 11ms/step - loss: 6.8918 - mae: 6.8918\n",
            "Epoch 13/100\n",
            "1/1 [==============================] - 0s 16ms/step - loss: 6.9444 - mae: 6.9444\n",
            "Epoch 14/100\n",
            "1/1 [==============================] - 0s 14ms/step - loss: 6.9524 - mae: 6.9524\n",
            "Epoch 15/100\n",
            "1/1 [==============================] - 0s 13ms/step - loss: 6.9224 - mae: 6.9224\n",
            "Epoch 16/100\n",
            "1/1 [==============================] - 0s 15ms/step - loss: 6.8600 - mae: 6.8600\n",
            "Epoch 17/100\n",
            "1/1 [==============================] - 0s 13ms/step - loss: 6.7696 - mae: 6.7696\n",
            "Epoch 18/100\n",
            "1/1 [==============================] - 0s 15ms/step - loss: 6.6548 - mae: 6.6548\n",
            "Epoch 19/100\n",
            "1/1 [==============================] - 0s 12ms/step - loss: 6.5190 - mae: 6.5190\n",
            "Epoch 20/100\n",
            "1/1 [==============================] - 0s 13ms/step - loss: 6.3646 - mae: 6.3646\n",
            "Epoch 21/100\n",
            "1/1 [==============================] - 0s 12ms/step - loss: 6.1939 - mae: 6.1939\n",
            "Epoch 22/100\n",
            "1/1 [==============================] - 0s 18ms/step - loss: 6.0532 - mae: 6.0532\n",
            "Epoch 23/100\n",
            "1/1 [==============================] - 0s 15ms/step - loss: 5.9918 - mae: 5.9918\n",
            "Epoch 24/100\n",
            "1/1 [==============================] - 0s 15ms/step - loss: 5.9289 - mae: 5.9289\n",
            "Epoch 25/100\n",
            "1/1 [==============================] - 0s 13ms/step - loss: 5.8646 - mae: 5.8646\n",
            "Epoch 26/100\n",
            "1/1 [==============================] - 0s 11ms/step - loss: 5.8086 - mae: 5.8086\n",
            "Epoch 27/100\n",
            "1/1 [==============================] - 0s 13ms/step - loss: 5.7817 - mae: 5.7817\n",
            "Epoch 28/100\n",
            "1/1 [==============================] - 0s 12ms/step - loss: 5.6972 - mae: 5.6972\n",
            "Epoch 29/100\n",
            "1/1 [==============================] - 0s 17ms/step - loss: 5.5886 - mae: 5.5886\n",
            "Epoch 30/100\n",
            "1/1 [==============================] - 0s 16ms/step - loss: 5.5162 - mae: 5.5162\n",
            "Epoch 31/100\n",
            "1/1 [==============================] - 0s 13ms/step - loss: 5.4438 - mae: 5.4438\n",
            "Epoch 32/100\n",
            "1/1 [==============================] - 0s 12ms/step - loss: 5.3714 - mae: 5.3714\n",
            "Epoch 33/100\n",
            "1/1 [==============================] - 0s 12ms/step - loss: 5.2988 - mae: 5.2988\n",
            "Epoch 34/100\n",
            "1/1 [==============================] - 0s 11ms/step - loss: 5.2262 - mae: 5.2262\n",
            "Epoch 35/100\n",
            "1/1 [==============================] - 0s 11ms/step - loss: 5.1536 - mae: 5.1536\n",
            "Epoch 36/100\n",
            "1/1 [==============================] - 0s 14ms/step - loss: 5.0809 - mae: 5.0809\n",
            "Epoch 37/100\n",
            "1/1 [==============================] - 0s 14ms/step - loss: 5.0081 - mae: 5.0081\n",
            "Epoch 38/100\n",
            "1/1 [==============================] - 0s 12ms/step - loss: 4.9488 - mae: 4.9488\n",
            "Epoch 39/100\n",
            "1/1 [==============================] - 0s 12ms/step - loss: 4.8814 - mae: 4.8814\n",
            "Epoch 40/100\n",
            "1/1 [==============================] - 0s 11ms/step - loss: 4.7953 - mae: 4.7953\n",
            "Epoch 41/100\n",
            "1/1 [==============================] - 0s 11ms/step - loss: 4.7256 - mae: 4.7256\n",
            "Epoch 42/100\n",
            "1/1 [==============================] - 0s 12ms/step - loss: 4.6555 - mae: 4.6555\n",
            "Epoch 43/100\n",
            "1/1 [==============================] - 0s 12ms/step - loss: 4.5850 - mae: 4.5850\n",
            "Epoch 44/100\n",
            "1/1 [==============================] - 0s 12ms/step - loss: 4.5141 - mae: 4.5141\n",
            "Epoch 45/100\n",
            "1/1 [==============================] - 0s 12ms/step - loss: 4.4429 - mae: 4.4429\n",
            "Epoch 46/100\n",
            "1/1 [==============================] - 0s 12ms/step - loss: 4.3714 - mae: 4.3714\n",
            "Epoch 47/100\n",
            "1/1 [==============================] - 0s 13ms/step - loss: 4.2996 - mae: 4.2996\n",
            "Epoch 48/100\n",
            "1/1 [==============================] - 0s 11ms/step - loss: 4.2276 - mae: 4.2276\n",
            "Epoch 49/100\n",
            "1/1 [==============================] - 0s 11ms/step - loss: 4.1553 - mae: 4.1553\n",
            "Epoch 50/100\n",
            "1/1 [==============================] - 0s 11ms/step - loss: 4.0829 - mae: 4.0829\n",
            "Epoch 51/100\n",
            "1/1 [==============================] - 0s 14ms/step - loss: 4.0102 - mae: 4.0102\n",
            "Epoch 52/100\n",
            "1/1 [==============================] - 0s 23ms/step - loss: 3.9374 - mae: 3.9374\n",
            "Epoch 53/100\n",
            "1/1 [==============================] - 0s 40ms/step - loss: 3.8645 - mae: 3.8645\n",
            "Epoch 54/100\n",
            "1/1 [==============================] - 0s 29ms/step - loss: 3.7914 - mae: 3.7914\n",
            "Epoch 55/100\n",
            "1/1 [==============================] - 0s 20ms/step - loss: 3.7182 - mae: 3.7182\n",
            "Epoch 56/100\n",
            "1/1 [==============================] - 0s 20ms/step - loss: 3.6449 - mae: 3.6449\n",
            "Epoch 57/100\n",
            "1/1 [==============================] - 0s 23ms/step - loss: 3.5715 - mae: 3.5715\n",
            "Epoch 58/100\n",
            "1/1 [==============================] - 0s 20ms/step - loss: 3.5130 - mae: 3.5130\n",
            "Epoch 59/100\n",
            "1/1 [==============================] - 0s 23ms/step - loss: 3.4266 - mae: 3.4266\n",
            "Epoch 60/100\n",
            "1/1 [==============================] - 0s 26ms/step - loss: 3.3548 - mae: 3.3548\n",
            "Epoch 61/100\n",
            "1/1 [==============================] - 0s 24ms/step - loss: 3.2827 - mae: 3.2827\n",
            "Epoch 62/100\n",
            "1/1 [==============================] - 0s 30ms/step - loss: 3.2104 - mae: 3.2104\n",
            "Epoch 63/100\n",
            "1/1 [==============================] - 0s 20ms/step - loss: 3.1379 - mae: 3.1379\n",
            "Epoch 64/100\n",
            "1/1 [==============================] - 0s 28ms/step - loss: 3.0651 - mae: 3.0651\n",
            "Epoch 65/100\n",
            "1/1 [==============================] - 0s 19ms/step - loss: 2.9922 - mae: 2.9922\n",
            "Epoch 66/100\n",
            "1/1 [==============================] - 0s 30ms/step - loss: 2.9190 - mae: 2.9190\n",
            "Epoch 67/100\n",
            "1/1 [==============================] - 0s 11ms/step - loss: 2.8458 - mae: 2.8458\n",
            "Epoch 68/100\n",
            "1/1 [==============================] - 0s 15ms/step - loss: 2.7723 - mae: 2.7723\n",
            "Epoch 69/100\n",
            "1/1 [==============================] - 0s 21ms/step - loss: 2.6988 - mae: 2.6988\n",
            "Epoch 70/100\n",
            "1/1 [==============================] - 0s 25ms/step - loss: 2.6251 - mae: 2.6251\n",
            "Epoch 71/100\n",
            "1/1 [==============================] - 0s 26ms/step - loss: 2.5514 - mae: 2.5514\n",
            "Epoch 72/100\n",
            "1/1 [==============================] - 0s 23ms/step - loss: 2.4775 - mae: 2.4775\n",
            "Epoch 73/100\n",
            "1/1 [==============================] - 0s 21ms/step - loss: 2.4071 - mae: 2.4071\n",
            "Epoch 74/100\n",
            "1/1 [==============================] - 0s 18ms/step - loss: 2.3318 - mae: 2.3318\n",
            "Epoch 75/100\n",
            "1/1 [==============================] - 0s 40ms/step - loss: 2.2596 - mae: 2.2596\n",
            "Epoch 76/100\n",
            "1/1 [==============================] - 0s 38ms/step - loss: 2.1872 - mae: 2.1872\n",
            "Epoch 77/100\n",
            "1/1 [==============================] - 0s 14ms/step - loss: 2.1146 - mae: 2.1146\n",
            "Epoch 78/100\n",
            "1/1 [==============================] - 0s 23ms/step - loss: 2.0417 - mae: 2.0417\n",
            "Epoch 79/100\n",
            "1/1 [==============================] - 0s 29ms/step - loss: 1.9686 - mae: 1.9686\n",
            "Epoch 80/100\n",
            "1/1 [==============================] - 0s 19ms/step - loss: 1.8953 - mae: 1.8953\n",
            "Epoch 81/100\n",
            "1/1 [==============================] - 0s 17ms/step - loss: 1.8218 - mae: 1.8218\n",
            "Epoch 82/100\n",
            "1/1 [==============================] - 0s 44ms/step - loss: 1.7482 - mae: 1.7482\n",
            "Epoch 83/100\n",
            "1/1 [==============================] - 0s 29ms/step - loss: 1.6745 - mae: 1.6745\n",
            "Epoch 84/100\n",
            "1/1 [==============================] - 0s 18ms/step - loss: 1.6006 - mae: 1.6006\n",
            "Epoch 85/100\n",
            "1/1 [==============================] - 0s 30ms/step - loss: 1.5267 - mae: 1.5267\n",
            "Epoch 86/100\n",
            "1/1 [==============================] - 0s 17ms/step - loss: 1.4526 - mae: 1.4526\n",
            "Epoch 87/100\n",
            "1/1 [==============================] - 0s 18ms/step - loss: 1.3784 - mae: 1.3784\n",
            "Epoch 88/100\n",
            "1/1 [==============================] - 0s 26ms/step - loss: 1.3042 - mae: 1.3042\n",
            "Epoch 89/100\n",
            "1/1 [==============================] - 0s 18ms/step - loss: 1.2299 - mae: 1.2299\n",
            "Epoch 90/100\n",
            "1/1 [==============================] - 0s 26ms/step - loss: 1.1555 - mae: 1.1555\n",
            "Epoch 91/100\n",
            "1/1 [==============================] - 0s 24ms/step - loss: 1.0811 - mae: 1.0811\n",
            "Epoch 92/100\n",
            "1/1 [==============================] - 0s 38ms/step - loss: 1.0094 - mae: 1.0094\n",
            "Epoch 93/100\n",
            "1/1 [==============================] - 0s 24ms/step - loss: 0.9343 - mae: 0.9343\n",
            "Epoch 94/100\n",
            "1/1 [==============================] - 0s 27ms/step - loss: 0.8618 - mae: 0.8618\n",
            "Epoch 95/100\n",
            "1/1 [==============================] - 0s 22ms/step - loss: 0.8076 - mae: 0.8076\n",
            "Epoch 96/100\n",
            "1/1 [==============================] - 0s 17ms/step - loss: 0.7137 - mae: 0.7137\n",
            "Epoch 97/100\n",
            "1/1 [==============================] - 0s 18ms/step - loss: 0.6542 - mae: 0.6542\n",
            "Epoch 98/100\n",
            "1/1 [==============================] - 0s 23ms/step - loss: 0.5756 - mae: 0.5756\n",
            "Epoch 99/100\n",
            "1/1 [==============================] - 0s 27ms/step - loss: 0.4982 - mae: 0.4982\n",
            "Epoch 100/100\n",
            "1/1 [==============================] - 0s 31ms/step - loss: 0.4213 - mae: 0.4213\n"
          ]
        },
        {
          "output_type": "execute_result",
          "data": {
            "text/plain": [
              "<keras.callbacks.History at 0x7f550a04d220>"
            ]
          },
          "metadata": {},
          "execution_count": 18
        }
      ],
      "source": [
        "# Trying to do this on my own \n",
        "# Let's rebuild a model \n",
        "\n",
        "# 1. Create a model \n",
        "model = tf.keras.Sequential([\n",
        "    # tf.keras.layers.Dense(1),\n",
        "    # tf.keras.layers.Dense(1),\n",
        "    tf.keras.layers.Dense(1)\n",
        "])\n",
        "\n",
        "# Compile the model \n",
        "model.compile(loss=tf.keras.losses.mae,\n",
        "              optimizer=tf.keras.optimizers.Adam(0.1),\n",
        "              metrics=[\"mae\"])\n",
        "\n",
        "# Fit model\n",
        "model.fit(tf.expand_dims(X, -1), y, epochs=100)"
      ]
    },
    {
      "cell_type": "code",
      "execution_count": 19,
      "metadata": {
        "colab": {
          "base_uri": "https://localhost:8080/"
        },
        "id": "SAYdTcPUbeB6",
        "outputId": "8df6cb6c-75f3-4d6f-90b7-304f3a9c8f35"
      },
      "outputs": [
        {
          "output_type": "stream",
          "name": "stdout",
          "text": [
            "1/1 [==============================] - 0s 242ms/step\n"
          ]
        },
        {
          "output_type": "execute_result",
          "data": {
            "text/plain": [
              "array([[27.236776]], dtype=float32)"
            ]
          },
          "metadata": {},
          "execution_count": 19
        }
      ],
      "source": [
        "model.predict([17])"
      ]
    },
    {
      "cell_type": "code",
      "execution_count": 20,
      "metadata": {
        "colab": {
          "base_uri": "https://localhost:8080/"
        },
        "id": "RBHvQvBn0vc-",
        "outputId": "bed27431-a086-41cb-e573-f1200e93e95b"
      },
      "outputs": [
        {
          "output_type": "stream",
          "name": "stdout",
          "text": [
            "Epoch 1/100\n",
            "1/1 [==============================] - 3s 3s/step - loss: 12.5139 - mae: 12.5139\n",
            "Epoch 2/100\n",
            "1/1 [==============================] - 0s 28ms/step - loss: 11.8737 - mae: 11.8737\n",
            "Epoch 3/100\n",
            "1/1 [==============================] - 0s 25ms/step - loss: 11.2280 - mae: 11.2280\n",
            "Epoch 4/100\n",
            "1/1 [==============================] - 0s 31ms/step - loss: 10.5718 - mae: 10.5718\n",
            "Epoch 5/100\n",
            "1/1 [==============================] - 0s 18ms/step - loss: 9.9020 - mae: 9.9020\n",
            "Epoch 6/100\n",
            "1/1 [==============================] - 0s 25ms/step - loss: 9.2157 - mae: 9.2157\n",
            "Epoch 7/100\n",
            "1/1 [==============================] - 0s 30ms/step - loss: 8.5100 - mae: 8.5100\n",
            "Epoch 8/100\n",
            "1/1 [==============================] - 0s 20ms/step - loss: 7.7823 - mae: 7.7823\n",
            "Epoch 9/100\n",
            "1/1 [==============================] - 0s 14ms/step - loss: 7.0298 - mae: 7.0298\n",
            "Epoch 10/100\n",
            "1/1 [==============================] - 0s 17ms/step - loss: 6.8264 - mae: 6.8264\n",
            "Epoch 11/100\n",
            "1/1 [==============================] - 0s 19ms/step - loss: 7.2082 - mae: 7.2082\n",
            "Epoch 12/100\n",
            "1/1 [==============================] - 0s 20ms/step - loss: 7.4994 - mae: 7.4994\n",
            "Epoch 13/100\n",
            "1/1 [==============================] - 0s 14ms/step - loss: 7.7324 - mae: 7.7324\n",
            "Epoch 14/100\n",
            "1/1 [==============================] - 0s 36ms/step - loss: 7.7293 - mae: 7.7293\n",
            "Epoch 15/100\n",
            "1/1 [==============================] - 0s 31ms/step - loss: 7.5515 - mae: 7.5515\n",
            "Epoch 16/100\n",
            "1/1 [==============================] - 0s 22ms/step - loss: 7.2437 - mae: 7.2437\n",
            "Epoch 17/100\n",
            "1/1 [==============================] - 0s 24ms/step - loss: 6.9699 - mae: 6.9699\n",
            "Epoch 18/100\n",
            "1/1 [==============================] - 0s 38ms/step - loss: 6.7015 - mae: 6.7015\n",
            "Epoch 19/100\n",
            "1/1 [==============================] - 0s 13ms/step - loss: 6.4224 - mae: 6.4224\n",
            "Epoch 20/100\n",
            "1/1 [==============================] - 0s 12ms/step - loss: 6.2435 - mae: 6.2435\n",
            "Epoch 21/100\n",
            "1/1 [==============================] - 0s 16ms/step - loss: 6.2043 - mae: 6.2043\n",
            "Epoch 22/100\n",
            "1/1 [==============================] - 0s 34ms/step - loss: 6.2508 - mae: 6.2508\n",
            "Epoch 23/100\n",
            "1/1 [==============================] - 0s 26ms/step - loss: 6.3328 - mae: 6.3328\n",
            "Epoch 24/100\n",
            "1/1 [==============================] - 0s 21ms/step - loss: 6.3159 - mae: 6.3159\n",
            "Epoch 25/100\n",
            "1/1 [==============================] - 0s 24ms/step - loss: 6.2122 - mae: 6.2122\n",
            "Epoch 26/100\n",
            "1/1 [==============================] - 0s 25ms/step - loss: 6.0308 - mae: 6.0308\n",
            "Epoch 27/100\n",
            "1/1 [==============================] - 0s 21ms/step - loss: 5.7855 - mae: 5.7855\n",
            "Epoch 28/100\n",
            "1/1 [==============================] - 0s 22ms/step - loss: 5.6877 - mae: 5.6877\n",
            "Epoch 29/100\n",
            "1/1 [==============================] - 0s 34ms/step - loss: 5.5867 - mae: 5.5867\n",
            "Epoch 30/100\n",
            "1/1 [==============================] - 0s 15ms/step - loss: 5.4824 - mae: 5.4824\n",
            "Epoch 31/100\n",
            "1/1 [==============================] - 0s 13ms/step - loss: 5.4667 - mae: 5.4667\n",
            "Epoch 32/100\n",
            "1/1 [==============================] - 0s 19ms/step - loss: 5.4373 - mae: 5.4373\n",
            "Epoch 33/100\n",
            "1/1 [==============================] - 0s 24ms/step - loss: 5.3672 - mae: 5.3672\n",
            "Epoch 34/100\n",
            "1/1 [==============================] - 0s 23ms/step - loss: 5.2596 - mae: 5.2596\n",
            "Epoch 35/100\n",
            "1/1 [==============================] - 0s 25ms/step - loss: 5.1176 - mae: 5.1176\n",
            "Epoch 36/100\n",
            "1/1 [==============================] - 0s 30ms/step - loss: 4.9443 - mae: 4.9443\n",
            "Epoch 37/100\n",
            "1/1 [==============================] - 0s 17ms/step - loss: 4.8152 - mae: 4.8152\n",
            "Epoch 38/100\n",
            "1/1 [==============================] - 0s 15ms/step - loss: 4.7226 - mae: 4.7226\n",
            "Epoch 39/100\n",
            "1/1 [==============================] - 0s 21ms/step - loss: 4.6221 - mae: 4.6221\n",
            "Epoch 40/100\n",
            "1/1 [==============================] - 0s 17ms/step - loss: 4.5135 - mae: 4.5135\n",
            "Epoch 41/100\n",
            "1/1 [==============================] - 0s 20ms/step - loss: 4.4601 - mae: 4.4601\n",
            "Epoch 42/100\n",
            "1/1 [==============================] - 0s 18ms/step - loss: 4.2958 - mae: 4.2958\n",
            "Epoch 43/100\n",
            "1/1 [==============================] - 0s 24ms/step - loss: 4.1075 - mae: 4.1075\n",
            "Epoch 44/100\n",
            "1/1 [==============================] - 0s 25ms/step - loss: 3.9465 - mae: 3.9465\n",
            "Epoch 45/100\n",
            "1/1 [==============================] - 0s 33ms/step - loss: 3.7781 - mae: 3.7781\n",
            "Epoch 46/100\n",
            "1/1 [==============================] - 0s 32ms/step - loss: 3.7175 - mae: 3.7175\n",
            "Epoch 47/100\n",
            "1/1 [==============================] - 0s 18ms/step - loss: 3.6026 - mae: 3.6026\n",
            "Epoch 48/100\n",
            "1/1 [==============================] - 0s 18ms/step - loss: 3.4348 - mae: 3.4348\n",
            "Epoch 49/100\n",
            "1/1 [==============================] - 0s 29ms/step - loss: 3.2167 - mae: 3.2167\n",
            "Epoch 50/100\n",
            "1/1 [==============================] - 0s 29ms/step - loss: 2.9508 - mae: 2.9508\n",
            "Epoch 51/100\n",
            "1/1 [==============================] - 0s 17ms/step - loss: 2.7658 - mae: 2.7658\n",
            "Epoch 52/100\n",
            "1/1 [==============================] - 0s 19ms/step - loss: 2.6736 - mae: 2.6736\n",
            "Epoch 53/100\n",
            "1/1 [==============================] - 0s 20ms/step - loss: 2.5051 - mae: 2.5051\n",
            "Epoch 54/100\n",
            "1/1 [==============================] - 0s 24ms/step - loss: 2.1837 - mae: 2.1837\n",
            "Epoch 55/100\n",
            "1/1 [==============================] - 0s 18ms/step - loss: 1.9188 - mae: 1.9188\n",
            "Epoch 56/100\n",
            "1/1 [==============================] - 0s 23ms/step - loss: 1.7821 - mae: 1.7821\n",
            "Epoch 57/100\n",
            "1/1 [==============================] - 0s 19ms/step - loss: 1.5770 - mae: 1.5770\n",
            "Epoch 58/100\n",
            "1/1 [==============================] - 0s 20ms/step - loss: 1.3061 - mae: 1.3061\n",
            "Epoch 59/100\n",
            "1/1 [==============================] - 0s 32ms/step - loss: 0.9723 - mae: 0.9723\n",
            "Epoch 60/100\n",
            "1/1 [==============================] - 0s 38ms/step - loss: 0.7466 - mae: 0.7466\n",
            "Epoch 61/100\n",
            "1/1 [==============================] - 0s 17ms/step - loss: 0.5182 - mae: 0.5182\n",
            "Epoch 62/100\n",
            "1/1 [==============================] - 0s 35ms/step - loss: 0.1108 - mae: 0.1108\n",
            "Epoch 63/100\n",
            "1/1 [==============================] - 0s 24ms/step - loss: 0.4661 - mae: 0.4661\n",
            "Epoch 64/100\n",
            "1/1 [==============================] - 0s 42ms/step - loss: 0.7261 - mae: 0.7261\n",
            "Epoch 65/100\n",
            "1/1 [==============================] - 0s 15ms/step - loss: 0.7494 - mae: 0.7494\n",
            "Epoch 66/100\n",
            "1/1 [==============================] - 0s 36ms/step - loss: 0.8262 - mae: 0.8262\n",
            "Epoch 67/100\n",
            "1/1 [==============================] - 0s 47ms/step - loss: 1.0833 - mae: 1.0833\n",
            "Epoch 68/100\n",
            "1/1 [==============================] - 0s 35ms/step - loss: 1.0814 - mae: 1.0814\n",
            "Epoch 69/100\n",
            "1/1 [==============================] - 0s 18ms/step - loss: 0.8982 - mae: 0.8982\n",
            "Epoch 70/100\n",
            "1/1 [==============================] - 0s 32ms/step - loss: 0.9424 - mae: 0.9424\n",
            "Epoch 71/100\n",
            "1/1 [==============================] - 0s 18ms/step - loss: 0.9507 - mae: 0.9507\n",
            "Epoch 72/100\n",
            "1/1 [==============================] - 0s 35ms/step - loss: 0.7642 - mae: 0.7642\n",
            "Epoch 73/100\n",
            "1/1 [==============================] - 0s 15ms/step - loss: 0.5421 - mae: 0.5421\n",
            "Epoch 74/100\n",
            "1/1 [==============================] - 0s 20ms/step - loss: 0.5290 - mae: 0.5290\n",
            "Epoch 75/100\n",
            "1/1 [==============================] - 0s 19ms/step - loss: 0.3506 - mae: 0.3506\n",
            "Epoch 76/100\n",
            "1/1 [==============================] - 0s 17ms/step - loss: 0.1349 - mae: 0.1349\n",
            "Epoch 77/100\n",
            "1/1 [==============================] - 0s 18ms/step - loss: 0.2151 - mae: 0.2151\n",
            "Epoch 78/100\n",
            "1/1 [==============================] - 0s 30ms/step - loss: 0.2947 - mae: 0.2947\n",
            "Epoch 79/100\n",
            "1/1 [==============================] - 0s 15ms/step - loss: 0.3900 - mae: 0.3900\n",
            "Epoch 80/100\n",
            "1/1 [==============================] - 0s 51ms/step - loss: 0.3500 - mae: 0.3500\n",
            "Epoch 81/100\n",
            "1/1 [==============================] - 0s 21ms/step - loss: 0.3719 - mae: 0.3719\n",
            "Epoch 82/100\n",
            "1/1 [==============================] - 0s 23ms/step - loss: 0.3338 - mae: 0.3338\n",
            "Epoch 83/100\n",
            "1/1 [==============================] - 0s 31ms/step - loss: 0.2846 - mae: 0.2846\n",
            "Epoch 84/100\n",
            "1/1 [==============================] - 0s 16ms/step - loss: 0.2069 - mae: 0.2069\n",
            "Epoch 85/100\n",
            "1/1 [==============================] - 0s 34ms/step - loss: 0.2381 - mae: 0.2381\n",
            "Epoch 86/100\n",
            "1/1 [==============================] - 0s 18ms/step - loss: 0.0923 - mae: 0.0923\n",
            "Epoch 87/100\n",
            "1/1 [==============================] - 0s 37ms/step - loss: 0.3406 - mae: 0.3406\n",
            "Epoch 88/100\n",
            "1/1 [==============================] - 0s 30ms/step - loss: 0.4266 - mae: 0.4266\n",
            "Epoch 89/100\n",
            "1/1 [==============================] - 0s 40ms/step - loss: 0.2716 - mae: 0.2716\n",
            "Epoch 90/100\n",
            "1/1 [==============================] - 0s 24ms/step - loss: 0.4340 - mae: 0.4340\n",
            "Epoch 91/100\n",
            "1/1 [==============================] - 0s 31ms/step - loss: 0.5306 - mae: 0.5306\n",
            "Epoch 92/100\n",
            "1/1 [==============================] - 0s 25ms/step - loss: 0.4596 - mae: 0.4596\n",
            "Epoch 93/100\n",
            "1/1 [==============================] - 0s 34ms/step - loss: 0.2081 - mae: 0.2081\n",
            "Epoch 94/100\n",
            "1/1 [==============================] - 0s 25ms/step - loss: 0.3433 - mae: 0.3433\n",
            "Epoch 95/100\n",
            "1/1 [==============================] - 0s 26ms/step - loss: 0.4421 - mae: 0.4421\n",
            "Epoch 96/100\n",
            "1/1 [==============================] - 0s 27ms/step - loss: 0.2898 - mae: 0.2898\n",
            "Epoch 97/100\n",
            "1/1 [==============================] - 0s 27ms/step - loss: 0.2153 - mae: 0.2153\n",
            "Epoch 98/100\n",
            "1/1 [==============================] - 0s 27ms/step - loss: 0.3715 - mae: 0.3715\n",
            "Epoch 99/100\n",
            "1/1 [==============================] - 0s 30ms/step - loss: 0.2917 - mae: 0.2917\n",
            "Epoch 100/100\n",
            "1/1 [==============================] - 0s 23ms/step - loss: 0.2511 - mae: 0.2511\n"
          ]
        },
        {
          "output_type": "execute_result",
          "data": {
            "text/plain": [
              "<keras.callbacks.History at 0x7f5509f875e0>"
            ]
          },
          "metadata": {},
          "execution_count": 20
        }
      ],
      "source": [
        "# Let's see if we can make another change to improve our model \n",
        "\n",
        "# 1. Create the model (this time with an extra hidden layer with 100 hidden units)\n",
        "model = tf.keras.Sequential([\n",
        "    tf.keras.layers.Dense(50, activation=None),\n",
        "    tf.keras.layers.Dense(1)\n",
        "]) \n",
        "\n",
        "# 2. Compile the model\n",
        "model.compile(loss=tf.keras.losses.mae,\n",
        "              optimizer=tf.keras.optimizers.Adam(0.01),\n",
        "              metrics=[\"mae\"])\n",
        "\n",
        "# 3. Fit the model \n",
        "model.fit(tf.expand_dims(X, -1), y, epochs=100)"
      ]
    },
    {
      "cell_type": "code",
      "execution_count": 21,
      "metadata": {
        "colab": {
          "base_uri": "https://localhost:8080/"
        },
        "id": "dOaP3poFay09",
        "outputId": "b605bded-d129-429d-e7bb-ecbaf7e3fd79"
      },
      "outputs": [
        {
          "output_type": "stream",
          "name": "stdout",
          "text": [
            "1/1 [==============================] - 0s 285ms/step\n"
          ]
        },
        {
          "output_type": "execute_result",
          "data": {
            "text/plain": [
              "array([[26.428284]], dtype=float32)"
            ]
          },
          "metadata": {},
          "execution_count": 21
        }
      ],
      "source": [
        "# Let's try to make a prediction\n",
        "model.predict([17.0])"
      ]
    },
    {
      "cell_type": "markdown",
      "metadata": {
        "id": "AWR8kELqoPEl"
      },
      "source": [
        "## Evaluating a model\n",
        "\n",
        "In practice, a typical workflow you'll go through when building neural networks is:\n",
        "\n",
        "```\n",
        "Build a model -> fit it -> evaluate it -> tweak a model -> fit it -> evaluate it -> tweak a model -> fit it -> evaluate it...\n",
        "```\n"
      ]
    },
    {
      "cell_type": "markdown",
      "metadata": {
        "id": "eswIRA0i8AGX"
      },
      "source": [
        "When it comes to evaluation... there are 3 words you should memorize:\n",
        "\n",
        "> \"Visualize\", \"visualize\", \"visualize\"\n",
        "\n",
        "It's a good idea to visualize:\n",
        "* The data - What data are we working with? what does it look like?\n",
        "* The model itself - what does our model look like?\n",
        "* The training of a model - how does a model perform while it learns?\n",
        "* The predictions of the model - how do the predictions of a model line up against the ground truth (the original labels)?"
      ]
    },
    {
      "cell_type": "code",
      "execution_count": 22,
      "metadata": {
        "colab": {
          "base_uri": "https://localhost:8080/"
        },
        "id": "j4P4HQZ6oQNC",
        "outputId": "f802db77-d8ce-48cf-f8be-88de612e9834"
      },
      "outputs": [
        {
          "output_type": "execute_result",
          "data": {
            "text/plain": [
              "<tf.Tensor: shape=(50,), dtype=int32, numpy=\n",
              "array([-100,  -96,  -92,  -88,  -84,  -80,  -76,  -72,  -68,  -64,  -60,\n",
              "        -56,  -52,  -48,  -44,  -40,  -36,  -32,  -28,  -24,  -20,  -16,\n",
              "        -12,   -8,   -4,    0,    4,    8,   12,   16,   20,   24,   28,\n",
              "         32,   36,   40,   44,   48,   52,   56,   60,   64,   68,   72,\n",
              "         76,   80,   84,   88,   92,   96], dtype=int32)>"
            ]
          },
          "metadata": {},
          "execution_count": 22
        }
      ],
      "source": [
        "# Make a big dataset \n",
        "X = tf.range(-100, 100, 4)\n",
        "X"
      ]
    },
    {
      "cell_type": "code",
      "execution_count": 23,
      "metadata": {
        "colab": {
          "base_uri": "https://localhost:8080/"
        },
        "id": "2eyzjjUGBhoB",
        "outputId": "c01848cd-ee9b-425b-bf5c-ba27702e3dc9"
      },
      "outputs": [
        {
          "output_type": "execute_result",
          "data": {
            "text/plain": [
              "<tf.Tensor: shape=(50,), dtype=int32, numpy=\n",
              "array([-90, -86, -82, -78, -74, -70, -66, -62, -58, -54, -50, -46, -42,\n",
              "       -38, -34, -30, -26, -22, -18, -14, -10,  -6,  -2,   2,   6,  10,\n",
              "        14,  18,  22,  26,  30,  34,  38,  42,  46,  50,  54,  58,  62,\n",
              "        66,  70,  74,  78,  82,  86,  90,  94,  98, 102, 106], dtype=int32)>"
            ]
          },
          "metadata": {},
          "execution_count": 23
        }
      ],
      "source": [
        "# Make labels for the dataset \n",
        "y = X + 10\n",
        "y"
      ]
    },
    {
      "cell_type": "code",
      "execution_count": 24,
      "metadata": {
        "colab": {
          "base_uri": "https://localhost:8080/",
          "height": 430
        },
        "id": "mkmQlYzbCC98",
        "outputId": "71667838-e5eb-467f-ca07-ff09c6d39599"
      },
      "outputs": [
        {
          "output_type": "display_data",
          "data": {
            "text/plain": [
              "<Figure size 640x480 with 1 Axes>"
            ],
            "image/png": "[encoded data removed]"
          },
          "metadata": {}
        }
      ],
      "source": [
        "import matplotlib.pyplot as plt\n",
        "\n",
        "plt.scatter(X, y);"
      ]
    },
    {
      "cell_type": "markdown",
      "metadata": {
        "id": "GKT_N_EFCf5A"
      },
      "source": [
        "### The 3 sets...\n",
        "\n",
        "* **Training set** - the model learns from this data, which is typically 70%-80% of the total data you have available. \n",
        "* **Validation set** - the model gets tuned on this data, which is typically 10-15% of the data available.\n",
        "* **Test set** - the model gets evaluated on this data to test what it has learned, this set is typically 10-15% of the total data available.  "
      ]
    },
    {
      "cell_type": "code",
      "execution_count": 25,
      "metadata": {
        "colab": {
          "base_uri": "https://localhost:8080/"
        },
        "id": "_0RpuIcKO4ey",
        "outputId": "6165d004-e8c9-4b69-f208-4f08022a795a"
      },
      "outputs": [
        {
          "output_type": "execute_result",
          "data": {
            "text/plain": [
              "50"
            ]
          },
          "metadata": {},
          "execution_count": 25
        }
      ],
      "source": [
        "# Check the lenght of how many samples we have \n",
        "len(X)"
      ]
    },
    {
      "cell_type": "code",
      "execution_count": 26,
      "metadata": {
        "colab": {
          "base_uri": "https://localhost:8080/"
        },
        "id": "regn5W-MR_kP",
        "outputId": "40e0acc4-c2cd-4304-dff6-cf5ed234bef5"
      },
      "outputs": [
        {
          "output_type": "execute_result",
          "data": {
            "text/plain": [
              "(40, 10, 40, 10)"
            ]
          },
          "metadata": {},
          "execution_count": 26
        }
      ],
      "source": [
        "# Split the data into train and test sets \n",
        "X_train = X[:40] # first 40 are training samples (80% of the data)\n",
        "y_train = y[:40]\n",
        "\n",
        "X_test = X[40:] # last 10 are testing samples (20% of the data)\n",
        "y_test = y[40:]\n",
        "\n",
        "len(X_train), len(X_test), len(y_train), len(y_test)"
      ]
    },
    {
      "cell_type": "markdown",
      "metadata": {
        "id": "VSG-F1FcgJUH"
      },
      "source": [
        "### Visualizing the data \n",
        "\n",
        "Now we've got our data in training and test sets... let's visualize it again!"
      ]
    },
    {
      "cell_type": "code",
      "execution_count": 27,
      "metadata": {
        "colab": {
          "base_uri": "https://localhost:8080/",
          "height": 514
        },
        "id": "fSuVIpn1hWff",
        "outputId": "92341f36-eaf0-4f22-b5bc-517b66faf154"
      },
      "outputs": [
        {
          "output_type": "display_data",
          "data": {
            "text/plain": [
              "<Figure size 1000x700 with 1 Axes>"
            ],
            "image/png": "[encoded data removed]"
          },
          "metadata": {}
        }
      ],
      "source": [
        "plt.figure(figsize=(10, 7))\n",
        "# Plot training data in blue \n",
        "plt.scatter(X_train, y_train, c=\"b\", label=\"Training data\")\n",
        "# Plot test data in green\n",
        "plt.scatter(X_test, y_test, c=\"g\", label=\"Testing data\")\n",
        "# Show a legend \n",
        "plt.legend();"
      ]
    },
    {
      "cell_type": "code",
      "execution_count": 28,
      "metadata": {
        "id": "wHz5L4-musky"
      },
      "outputs": [],
      "source": [
        "# Let's have a look at how to build a neural network for our data \n",
        "\n",
        "# 1. Create a model \n",
        "model = tf.keras.Sequential([\n",
        "    tf.keras.layers.Dense(1)\n",
        "])\n",
        "\n",
        "# 2. Compile the model \n",
        "model.compile(loss=tf.keras.losses.mae,\n",
        "              optimizer=tf.keras.optimizers.SGD(),\n",
        "              metrics=([\"mae\"]))\n",
        "\n",
        "# 3. Fit the model\n",
        "# model.fit(X_train, y_train, epochs=100)"
      ]
    },
    {
      "cell_type": "markdown",
      "metadata": {
        "id": "fBgI9FIAx5Mi"
      },
      "source": [
        "### Visualizing the model "
      ]
    },
    {
      "cell_type": "code",
      "execution_count": 29,
      "metadata": {
        "colab": {
          "base_uri": "https://localhost:8080/",
          "height": 329
        },
        "id": "yzCW8mmqVTmc",
        "outputId": "ef2a4072-c98e-4892-ef86-d6dfd92089cc"
      },
      "outputs": [
        {
          "output_type": "error",
          "ename": "ValueError",
          "evalue": "ignored",
          "traceback": [
            "\u001b[0;31m---------------------------------------------------------------------------\u001b[0m",
            "\u001b[0;31mValueError\u001b[0m                                Traceback (most recent call last)",
            "\u001b[0;32m<ipython-input-29-5f15418b3570>\u001b[0m in \u001b[0;36m<cell line: 1>\u001b[0;34m()\u001b[0m\n\u001b[0;32m----> 1\u001b[0;31m \u001b[0mmodel\u001b[0m\u001b[0;34m.\u001b[0m\u001b[0msummary\u001b[0m\u001b[0;34m(\u001b[0m\u001b[0;34m)\u001b[0m\u001b[0;34m\u001b[0m\u001b[0;34m\u001b[0m\u001b[0m\n\u001b[0m",
            "\u001b[0;32m/usr/local/lib/python3.9/dist-packages/keras/engine/training.py\u001b[0m in \u001b[0;36msummary\u001b[0;34m(self, line_length, positions, print_fn, expand_nested, show_trainable, layer_range)\u001b[0m\n\u001b[1;32m   3227\u001b[0m         \"\"\"\n\u001b[1;32m   3228\u001b[0m         \u001b[0;32mif\u001b[0m \u001b[0;32mnot\u001b[0m \u001b[0mself\u001b[0m\u001b[0;34m.\u001b[0m\u001b[0mbuilt\u001b[0m\u001b[0;34m:\u001b[0m\u001b[0;34m\u001b[0m\u001b[0;34m\u001b[0m\u001b[0m\n\u001b[0;32m-> 3229\u001b[0;31m             raise ValueError(\n\u001b[0m\u001b[1;32m   3230\u001b[0m                 \u001b[0;34m\"This model has not yet been built. \"\u001b[0m\u001b[0;34m\u001b[0m\u001b[0;34m\u001b[0m\u001b[0m\n\u001b[1;32m   3231\u001b[0m                 \u001b[0;34m\"Build the model first by calling `build()` or by calling \"\u001b[0m\u001b[0;34m\u001b[0m\u001b[0;34m\u001b[0m\u001b[0m\n",
            "\u001b[0;31mValueError\u001b[0m: This model has not yet been built. Build the model first by calling `build()` or by calling the model on a batch of data."
          ]
        }
      ],
      "source": [
        "model.summary()"
      ]
    },
    {
      "cell_type": "code",
      "execution_count": 30,
      "metadata": {
        "colab": {
          "base_uri": "https://localhost:8080/"
        },
        "id": "6Tz8W_N7iuPg",
        "outputId": "7dd60ef6-6b5a-4dac-864c-e5d5cb223853"
      },
      "outputs": [
        {
          "output_type": "execute_result",
          "data": {
            "text/plain": [
              "TensorShape([])"
            ]
          },
          "metadata": {},
          "execution_count": 30
        }
      ],
      "source": [
        "X[0].shape"
      ]
    },
    {
      "cell_type": "code",
      "execution_count": 31,
      "metadata": {
        "id": "Lor2OEojVdWO"
      },
      "outputs": [],
      "source": [
        "# Let's create a model which builds automatically by defining the input shape arguement in the first layer \n",
        "tf.random.set_seed(42)\n",
        "\n",
        "# 1. Create a model (same as above)\n",
        "model = tf.keras.Sequential([\n",
        "    tf.keras.layers.Dense(10, input_shape=[1], name=\"input_layer\"),\n",
        "    tf.keras.layers.Dense(1, name=\"output_layer\")], name=\"model_1\",\n",
        ")\n",
        "\n",
        "# 2. Compile the model (same as above)\n",
        "model.compile(loss=tf.keras.losses.mae,\n",
        "              optimizer=tf.keras.optimizers.SGD(),\n",
        "              metrics=([\"mae\"]))\n"
      ]
    },
    {
      "cell_type": "code",
      "execution_count": 32,
      "metadata": {
        "colab": {
          "base_uri": "https://localhost:8080/"
        },
        "id": "ZJbUH7oWlPSs",
        "outputId": "d47307c8-79f7-41c3-8a0d-bb053a3e0afa"
      },
      "outputs": [
        {
          "output_type": "stream",
          "name": "stdout",
          "text": [
            "Model: \"model_1\"\n",
            "_________________________________________________________________\n",
            " Layer (type)                Output Shape              Param #   \n",
            "=================================================================\n",
            " input_layer (Dense)         (None, 10)                20        \n",
            "                                                                 \n",
            " output_layer (Dense)        (None, 1)                 11        \n",
            "                                                                 \n",
            "=================================================================\n",
            "Total params: 31\n",
            "Trainable params: 31\n",
            "Non-trainable params: 0\n",
            "_________________________________________________________________\n"
          ]
        }
      ],
      "source": [
        "model.summary()"
      ]
    },
    {
      "cell_type": "markdown",
      "metadata": {
        "id": "ocZcF4HMlTw-"
      },
      "source": [
        "* Total params - total number of parameters in the model. \n",
        "* The trainable parameters - these are the parameters (patterns) the model can update as it trains. \n",
        "* Non-trainable params - these parameters aren't updated during training (this is typical when you bring in already learned patterns or parameters from other models during **transfer learning**)\n",
        "\n",
        "📖 **Resource:** For a more in-depth overview within a layer, check out MIT's introduction to deep learning video. \n",
        "\n",
        "🛠 **Exercise** Try playing around with the number of hidden units in the dense layer, see how that effects the number of parameters (total and trainable) by calling `model.summary()`."
      ]
    },
    {
      "cell_type": "code",
      "execution_count": 33,
      "metadata": {
        "colab": {
          "base_uri": "https://localhost:8080/"
        },
        "id": "ggLBeLkAuvI-",
        "outputId": "cdcc4f42-d548-4b5b-84eb-eb1656162d6c"
      },
      "outputs": [
        {
          "output_type": "execute_result",
          "data": {
            "text/plain": [
              "<keras.callbacks.History at 0x7f550833cf40>"
            ]
          },
          "metadata": {},
          "execution_count": 33
        }
      ],
      "source": [
        "# Let's fit our model to the training data\n",
        "model.fit(X_train, y_train, epochs=100, verbose=0)"
      ]
    },
    {
      "cell_type": "code",
      "execution_count": 34,
      "metadata": {
        "colab": {
          "base_uri": "https://localhost:8080/"
        },
        "id": "cYFE8ZjH97-x",
        "outputId": "d41babdf-466b-48b6-98bc-b502c2c60dc2"
      },
      "outputs": [
        {
          "output_type": "stream",
          "name": "stdout",
          "text": [
            "Model: \"model_1\"\n",
            "_________________________________________________________________\n",
            " Layer (type)                Output Shape              Param #   \n",
            "=================================================================\n",
            " input_layer (Dense)         (None, 10)                20        \n",
            "                                                                 \n",
            " output_layer (Dense)        (None, 1)                 11        \n",
            "                                                                 \n",
            "=================================================================\n",
            "Total params: 31\n",
            "Trainable params: 31\n",
            "Non-trainable params: 0\n",
            "_________________________________________________________________\n"
          ]
        }
      ],
      "source": [
        "# Get a summary of our model \n",
        "model.summary()"
      ]
    },
    {
      "cell_type": "code",
      "execution_count": 35,
      "metadata": {
        "colab": {
          "base_uri": "https://localhost:8080/",
          "height": 312
        },
        "id": "ZzAyRBevAj-B",
        "outputId": "e8252615-7275-4b2e-93fc-6b089c75cb37"
      },
      "outputs": [
        {
          "output_type": "execute_result",
          "data": {
            "image/png": "[encoded data removed]",
            "text/plain": [
              "<IPython.core.display.Image object>"
            ]
          },
          "metadata": {},
          "execution_count": 35
        }
      ],
      "source": [
        "from tensorflow.keras.utils import plot_model\n",
        "\n",
        "plot_model(model=model, show_shapes=True)\n"
      ]
    },
    {
      "cell_type": "markdown",
      "metadata": {
        "id": "rvDoS84bM6Tf"
      },
      "source": [
        "### Visualizing our model's predictions\n",
        "\n",
        "To visualize predictions, it's a good idea to plot them against the ground truth labels. \n",
        "\n",
        "Often you'll see this in the form of `y_test` or `y_true` versus `y_pred` (ground truth versus your model's predictions). "
      ]
    },
    {
      "cell_type": "code",
      "execution_count": 36,
      "metadata": {
        "colab": {
          "base_uri": "https://localhost:8080/"
        },
        "id": "r6yqFdwn1MLs",
        "outputId": "f8623fed-8796-49df-bc3b-5043acd9d3e3"
      },
      "outputs": [
        {
          "output_type": "stream",
          "name": "stderr",
          "text": [
            "WARNING:tensorflow:5 out of the last 5 calls to <function Model.make_predict_function.<locals>.predict_function at 0x7f55082979d0> triggered tf.function retracing. Tracing is expensive and the excessive number of tracings could be due to (1) creating @tf.function repeatedly in a loop, (2) passing tensors with different shapes, (3) passing Python objects instead of tensors. For (1), please define your @tf.function outside of the loop. For (2), @tf.function has reduce_retracing=True option that can avoid unnecessary retracing. For (3), please refer to https://www.tensorflow.org/guide/function#controlling_retracing and https://www.tensorflow.org/api_docs/python/tf/function for  more details.\n"
          ]
        },
        {
          "output_type": "stream",
          "name": "stdout",
          "text": [
            "1/1 [==============================] - 0s 114ms/step\n"
          ]
        },
        {
          "output_type": "execute_result",
          "data": {
            "text/plain": [
              "array([[ 70.31279 ],\n",
              "       [ 74.8865  ],\n",
              "       [ 79.460205],\n",
              "       [ 84.03391 ],\n",
              "       [ 88.60762 ],\n",
              "       [ 93.18133 ],\n",
              "       [ 97.75504 ],\n",
              "       [102.32876 ],\n",
              "       [106.90245 ],\n",
              "       [111.476166]], dtype=float32)"
            ]
          },
          "metadata": {},
          "execution_count": 36
        }
      ],
      "source": [
        "# Make some predictions\n",
        "y_pred = model. predict(X_test)\n",
        "y_pred"
      ]
    },
    {
      "cell_type": "code",
      "execution_count": 37,
      "metadata": {
        "colab": {
          "base_uri": "https://localhost:8080/"
        },
        "id": "9S9X4ni-3JwA",
        "outputId": "0539d692-afe2-4059-c0bc-f55de348e4dc"
      },
      "outputs": [
        {
          "output_type": "execute_result",
          "data": {
            "text/plain": [
              "<tf.Tensor: shape=(10,), dtype=int32, numpy=array([ 70,  74,  78,  82,  86,  90,  94,  98, 102, 106], dtype=int32)>"
            ]
          },
          "metadata": {},
          "execution_count": 37
        }
      ],
      "source": [
        "y_test"
      ]
    },
    {
      "cell_type": "markdown",
      "metadata": {
        "id": "bYBswo7z35Mf"
      },
      "source": [
        "🔑 **Note:** If you feel like you're going to reuse some kind of functionality in the future, it's a goog idea to turn it into a function. "
      ]
    },
    {
      "cell_type": "code",
      "execution_count": 38,
      "metadata": {
        "id": "4NEConwn3P-v"
      },
      "outputs": [],
      "source": [
        "# Let's create a plotting function \n",
        "def plot_predictions(train_data=X_train,\n",
        "                     train_labels=y_train,\n",
        "                     test_data=X_test,\n",
        "                     test_labels=y_test,\n",
        "                     predictions=y_pred):\n",
        "  \"\"\"\n",
        "  Plots training data, test data and compares predictions to ground truth labels.\n",
        "  \"\"\"\n",
        "  plt.figure(figsize=(10, 7))\n",
        "  # Plot training data in blue \n",
        "  plt.scatter(train_data, train_labels, c=\"b\", label=\"Training data\") \n",
        "  # Plot testing data in green \n",
        "  plt.scatter(test_data, test_labels, c=\"g\", label=\"Testing data\")\n",
        "  # Plot model's predictions in red \n",
        "  plt.scatter(test_data, predictions, c=\"r\", label=\"Predictions\")\n",
        "  # Show the legend \n",
        "  plt.legend(); \n"
      ]
    },
    {
      "cell_type": "code",
      "execution_count": 39,
      "metadata": {
        "colab": {
          "base_uri": "https://localhost:8080/",
          "height": 509
        },
        "id": "yGvE57zx--zQ",
        "outputId": "00a461eb-4e1c-4b9a-a9c4-7bbfc283af59"
      },
      "outputs": [
        {
          "output_type": "display_data",
          "data": {
            "text/plain": [
              "<Figure size 1000x700 with 1 Axes>"
            ],
            "image/png": "[encoded data removed]"
          },
          "metadata": {}
        }
      ],
      "source": [
        "plot_predictions()"
      ]
    },
    {
      "cell_type": "markdown",
      "metadata": {
        "id": "beSPCgq7_Cjf"
      },
      "source": [
        "### Evaluating our model's predictions with regression evaluation metrics \n",
        "\n",
        "Depending on the problem you're working on, there will be different evaluation metrics to evaluate your model's performance. \n",
        "\n",
        "Since we're working on a regression problem, two of the main metrics:\n",
        "* MAE - mean absolute error, \"on average, how wrong is each of my model's predictions\"\n",
        "* MSE - mean square error, \"square the average errors\""
      ]
    },
    {
      "cell_type": "code",
      "execution_count": 40,
      "metadata": {
        "colab": {
          "base_uri": "https://localhost:8080/"
        },
        "id": "xMk88cBnHG4z",
        "outputId": "36d37a4b-b412-4212-fd48-b7b9c08a1608"
      },
      "outputs": [
        {
          "output_type": "stream",
          "name": "stdout",
          "text": [
            "1/1 [==============================] - 0s 322ms/step - loss: 2.8945 - mae: 2.8945\n"
          ]
        },
        {
          "output_type": "execute_result",
          "data": {
            "text/plain": [
              "[2.8944764137268066, 2.8944764137268066]"
            ]
          },
          "metadata": {},
          "execution_count": 40
        }
      ],
      "source": [
        "# Evaluate the model on the test set \n",
        "model.evaluate(X_test, y_test)"
      ]
    },
    {
      "cell_type": "code",
      "execution_count": 41,
      "metadata": {
        "colab": {
          "base_uri": "https://localhost:8080/"
        },
        "id": "EfJDzSx1W_LG",
        "outputId": "e9817e55-5ae7-4c17-d2ce-c2a055826591"
      },
      "outputs": [
        {
          "output_type": "execute_result",
          "data": {
            "text/plain": [
              "<tf.Tensor: shape=(10,), dtype=float32, numpy=\n",
              "array([17.749767, 14.268102, 11.815918, 10.393217, 10.      , 10.636266,\n",
              "       12.302017, 15.063006, 18.90245 , 23.476166], dtype=float32)>"
            ]
          },
          "metadata": {},
          "execution_count": 41
        }
      ],
      "source": [
        "# Calculate the mean absolute error \n",
        "mae = tf.keras.losses.MAE(y_true=y_test, \n",
        "                          y_pred=tf.constant(y_pred))\n",
        "mae"
      ]
    },
    {
      "cell_type": "code",
      "execution_count": 42,
      "metadata": {
        "colab": {
          "base_uri": "https://localhost:8080/"
        },
        "id": "eYqrWIQGWsp_",
        "outputId": "34da631e-9b94-453a-a923-f1318878a3fb"
      },
      "outputs": [
        {
          "output_type": "execute_result",
          "data": {
            "text/plain": [
              "<tf.Tensor: shape=(10, 1), dtype=float32, numpy=\n",
              "array([[ 70.31279 ],\n",
              "       [ 74.8865  ],\n",
              "       [ 79.460205],\n",
              "       [ 84.03391 ],\n",
              "       [ 88.60762 ],\n",
              "       [ 93.18133 ],\n",
              "       [ 97.75504 ],\n",
              "       [102.32876 ],\n",
              "       [106.90245 ],\n",
              "       [111.476166]], dtype=float32)>"
            ]
          },
          "metadata": {},
          "execution_count": 42
        }
      ],
      "source": [
        "tf.constant(y_pred)"
      ]
    },
    {
      "cell_type": "code",
      "execution_count": 43,
      "metadata": {
        "colab": {
          "base_uri": "https://localhost:8080/"
        },
        "id": "x7p5363jHZqI",
        "outputId": "db8834a2-6b70-4375-efc2-73d2b03640f6"
      },
      "outputs": [
        {
          "output_type": "execute_result",
          "data": {
            "text/plain": [
              "<tf.Tensor: shape=(10,), dtype=float32, numpy=\n",
              "array([ 70.31279 ,  74.8865  ,  79.460205,  84.03391 ,  88.60762 ,\n",
              "        93.18133 ,  97.75504 , 102.32876 , 106.90245 , 111.476166],\n",
              "      dtype=float32)>"
            ]
          },
          "metadata": {},
          "execution_count": 43
        }
      ],
      "source": [
        "tf.squeeze(y_pred)"
      ]
    },
    {
      "cell_type": "code",
      "execution_count": 44,
      "metadata": {
        "colab": {
          "base_uri": "https://localhost:8080/"
        },
        "id": "_wg6uIgKW-Bd",
        "outputId": "8ec0822b-cc3f-4f21-9841-8eb97e3c30ee"
      },
      "outputs": [
        {
          "output_type": "execute_result",
          "data": {
            "text/plain": [
              "<tf.Tensor: shape=(10,), dtype=int32, numpy=array([ 70,  74,  78,  82,  86,  90,  94,  98, 102, 106], dtype=int32)>"
            ]
          },
          "metadata": {},
          "execution_count": 44
        }
      ],
      "source": [
        "y_test"
      ]
    },
    {
      "cell_type": "code",
      "execution_count": 45,
      "metadata": {
        "colab": {
          "base_uri": "https://localhost:8080/"
        },
        "id": "48Up6h5UG_Rk",
        "outputId": "af83759c-ebda-4c7e-fcc6-8e6f258c2415"
      },
      "outputs": [
        {
          "output_type": "execute_result",
          "data": {
            "text/plain": [
              "<tf.Tensor: shape=(), dtype=float32, numpy=2.8944771>"
            ]
          },
          "metadata": {},
          "execution_count": 45
        }
      ],
      "source": [
        "# Calculate the mean absolute error \n",
        "mae = tf.metrics.mean_absolute_error(y_true=y_test,\n",
        "                                     y_pred=tf.squeeze(y_pred))\n",
        "mae"
      ]
    },
    {
      "cell_type": "code",
      "execution_count": 46,
      "metadata": {
        "colab": {
          "base_uri": "https://localhost:8080/"
        },
        "id": "PmNXYxBTHq63",
        "outputId": "1abf9519-94d3-4f34-9975-2f4ecd2bbfd1"
      },
      "outputs": [
        {
          "output_type": "execute_result",
          "data": {
            "text/plain": [
              "<tf.Tensor: shape=(), dtype=float32, numpy=11.093416>"
            ]
          },
          "metadata": {},
          "execution_count": 46
        }
      ],
      "source": [
        "# Calculate the mean square error\n",
        "mse = tf.metrics.mean_squared_error(y_true=y_test,\n",
        "                                    y_pred=tf.squeeze(y_pred))\n",
        "mse"
      ]
    },
    {
      "cell_type": "code",
      "execution_count": 47,
      "metadata": {
        "id": "xSR8dGKlJ56P"
      },
      "outputs": [],
      "source": [
        "# Make some functions to reuse MAE and MSE\n",
        "def mae(y_true, y_pred):\n",
        "  return tf.metrics.mean_absolute_error(y_true=y_test,\n",
        "                                        y_pred=tf.squeeze(y_pred))\n",
        "  \n",
        "def mse(y_true, y_pred):\n",
        "  return tf.metrics.mean_squared_error(y_true=y_test,\n",
        "                                       y_pred=tf.squeeze(y_pred))"
      ]
    },
    {
      "cell_type": "markdown",
      "metadata": {
        "id": "u6nrY9gDL7pd"
      },
      "source": [
        "### Running experiment to improve our model \n",
        "\n",
        "```\n",
        "Build a model -> fit it -> evaluate it -> tweak it -> fit it -> evaluate it -> tweak it -> fit it -> evaluate it ...\n",
        "```\n",
        "\n",
        "1. Get more data - get more examples for your model to train on (more opportunities to learn patterns or relationships between features and labels).\n",
        "2. Make your model larger (using a more complex model) - this might come in the form of more layers or more hidden units in each layer. \n",
        "3. Train for longer - give your model more of a chance to find patterns in the data.\n",
        "\n",
        "Let's do 3 modelling experiments:\n",
        "\n",
        "1. `model_1` - same as the original model, 1 layer, trained for 100 epochs.\n",
        "2. `model_2` - 2 layers, trained for 100 epochs. \n",
        "3. `model_3` - 2 layers, trained for 500 epochs. \n",
        "\n",
        "**Build `model_1`** \n"
      ]
    },
    {
      "cell_type": "code",
      "execution_count": 48,
      "metadata": {
        "colab": {
          "base_uri": "https://localhost:8080/"
        },
        "id": "OBxSmRB-MAZ-",
        "outputId": "5861910f-2da7-4035-f0fd-bf7516993b22"
      },
      "outputs": [
        {
          "output_type": "stream",
          "name": "stdout",
          "text": [
            "Epoch 1/100\n",
            "2/2 [==============================] - 0s 17ms/step - loss: 56.9058 - mae: 56.9058\n",
            "Epoch 2/100\n",
            "2/2 [==============================] - 0s 8ms/step - loss: 22.5306 - mae: 22.5306\n",
            "Epoch 3/100\n",
            "2/2 [==============================] - 0s 8ms/step - loss: 10.7613 - mae: 10.7613\n",
            "Epoch 4/100\n",
            "2/2 [==============================] - 0s 8ms/step - loss: 11.2208 - mae: 11.2208\n",
            "Epoch 5/100\n",
            "2/2 [==============================] - 0s 9ms/step - loss: 12.4395 - mae: 12.4395\n",
            "Epoch 6/100\n",
            "2/2 [==============================] - 0s 8ms/step - loss: 9.6243 - mae: 9.6243\n",
            "Epoch 7/100\n",
            "2/2 [==============================] - 0s 8ms/step - loss: 8.7343 - mae: 8.7343\n",
            "Epoch 8/100\n",
            "2/2 [==============================] - 0s 11ms/step - loss: 9.0703 - mae: 9.0703\n",
            "Epoch 9/100\n",
            "2/2 [==============================] - 0s 8ms/step - loss: 19.1379 - mae: 19.1379\n",
            "Epoch 10/100\n",
            "2/2 [==============================] - 0s 12ms/step - loss: 10.3383 - mae: 10.3383\n",
            "Epoch 11/100\n",
            "2/2 [==============================] - 0s 10ms/step - loss: 8.4931 - mae: 8.4931\n",
            "Epoch 12/100\n",
            "2/2 [==============================] - 0s 11ms/step - loss: 10.8457 - mae: 10.8457\n",
            "Epoch 13/100\n",
            "2/2 [==============================] - 0s 10ms/step - loss: 9.8971 - mae: 9.8971\n",
            "Epoch 14/100\n",
            "2/2 [==============================] - 0s 8ms/step - loss: 12.1000 - mae: 12.1000\n",
            "Epoch 15/100\n",
            "2/2 [==============================] - 0s 10ms/step - loss: 12.4035 - mae: 12.4035\n",
            "Epoch 16/100\n",
            "2/2 [==============================] - 0s 10ms/step - loss: 8.4328 - mae: 8.4328\n",
            "Epoch 17/100\n",
            "2/2 [==============================] - 0s 9ms/step - loss: 13.3773 - mae: 13.3773\n",
            "Epoch 18/100\n",
            "2/2 [==============================] - 0s 7ms/step - loss: 11.1385 - mae: 11.1385\n",
            "Epoch 19/100\n",
            "2/2 [==============================] - 0s 10ms/step - loss: 18.4270 - mae: 18.4270\n",
            "Epoch 20/100\n",
            "2/2 [==============================] - 0s 9ms/step - loss: 15.1281 - mae: 15.1281\n",
            "Epoch 21/100\n",
            "2/2 [==============================] - 0s 9ms/step - loss: 11.0897 - mae: 11.0897\n",
            "Epoch 22/100\n",
            "2/2 [==============================] - 0s 9ms/step - loss: 8.2197 - mae: 8.2197\n",
            "Epoch 23/100\n",
            "2/2 [==============================] - 0s 8ms/step - loss: 9.4848 - mae: 9.4848\n",
            "Epoch 24/100\n",
            "2/2 [==============================] - 0s 11ms/step - loss: 7.6855 - mae: 7.6855\n",
            "Epoch 25/100\n",
            "2/2 [==============================] - 0s 8ms/step - loss: 13.0991 - mae: 13.0991\n",
            "Epoch 26/100\n",
            "2/2 [==============================] - 0s 8ms/step - loss: 16.4986 - mae: 16.4986\n",
            "Epoch 27/100\n",
            "2/2 [==============================] - 0s 8ms/step - loss: 13.2323 - mae: 13.2323\n",
            "Epoch 28/100\n",
            "2/2 [==============================] - 0s 8ms/step - loss: 14.3387 - mae: 14.3387\n",
            "Epoch 29/100\n",
            "2/2 [==============================] - 0s 9ms/step - loss: 10.0980 - mae: 10.0980\n",
            "Epoch 30/100\n",
            "2/2 [==============================] - 0s 8ms/step - loss: 16.4579 - mae: 16.4579\n",
            "Epoch 31/100\n",
            "2/2 [==============================] - 0s 8ms/step - loss: 23.5462 - mae: 23.5462\n",
            "Epoch 32/100\n",
            "2/2 [==============================] - 0s 8ms/step - loss: 7.6169 - mae: 7.6169\n",
            "Epoch 33/100\n",
            "2/2 [==============================] - 0s 9ms/step - loss: 9.3118 - mae: 9.3118\n",
            "Epoch 34/100\n",
            "2/2 [==============================] - 0s 9ms/step - loss: 13.6661 - mae: 13.6661\n",
            "Epoch 35/100\n",
            "2/2 [==============================] - 0s 8ms/step - loss: 11.1819 - mae: 11.1819\n",
            "Epoch 36/100\n",
            "2/2 [==============================] - 0s 9ms/step - loss: 13.4162 - mae: 13.4162\n",
            "Epoch 37/100\n",
            "2/2 [==============================] - 0s 10ms/step - loss: 9.4540 - mae: 9.4540\n",
            "Epoch 38/100\n",
            "2/2 [==============================] - 0s 9ms/step - loss: 10.1046 - mae: 10.1046\n",
            "Epoch 39/100\n",
            "2/2 [==============================] - 0s 9ms/step - loss: 8.9814 - mae: 8.9814\n",
            "Epoch 40/100\n",
            "2/2 [==============================] - 0s 8ms/step - loss: 9.6095 - mae: 9.6095\n",
            "Epoch 41/100\n",
            "2/2 [==============================] - 0s 8ms/step - loss: 10.5695 - mae: 10.5695\n",
            "Epoch 42/100\n",
            "2/2 [==============================] - 0s 8ms/step - loss: 10.6224 - mae: 10.6224\n",
            "Epoch 43/100\n",
            "2/2 [==============================] - 0s 8ms/step - loss: 7.2209 - mae: 7.2209\n",
            "Epoch 44/100\n",
            "2/2 [==============================] - 0s 10ms/step - loss: 8.0231 - mae: 8.0231\n",
            "Epoch 45/100\n",
            "2/2 [==============================] - 0s 9ms/step - loss: 9.8243 - mae: 9.8243\n",
            "Epoch 46/100\n",
            "2/2 [==============================] - 0s 9ms/step - loss: 8.9034 - mae: 8.9034\n",
            "Epoch 47/100\n",
            "2/2 [==============================] - 0s 11ms/step - loss: 7.5772 - mae: 7.5772\n",
            "Epoch 48/100\n",
            "2/2 [==============================] - 0s 9ms/step - loss: 8.5482 - mae: 8.5482\n",
            "Epoch 49/100\n",
            "2/2 [==============================] - 0s 11ms/step - loss: 10.0349 - mae: 10.0349\n",
            "Epoch 50/100\n",
            "2/2 [==============================] - 0s 11ms/step - loss: 8.9952 - mae: 8.9952\n",
            "Epoch 51/100\n",
            "2/2 [==============================] - 0s 11ms/step - loss: 10.7106 - mae: 10.7106\n",
            "Epoch 52/100\n",
            "2/2 [==============================] - 0s 8ms/step - loss: 15.2737 - mae: 15.2737\n",
            "Epoch 53/100\n",
            "2/2 [==============================] - 0s 12ms/step - loss: 14.3018 - mae: 14.3018\n",
            "Epoch 54/100\n",
            "2/2 [==============================] - 0s 14ms/step - loss: 21.5582 - mae: 21.5582\n",
            "Epoch 55/100\n",
            "2/2 [==============================] - 0s 11ms/step - loss: 16.0451 - mae: 16.0451\n",
            "Epoch 56/100\n",
            "2/2 [==============================] - 0s 9ms/step - loss: 10.2583 - mae: 10.2583\n",
            "Epoch 57/100\n",
            "2/2 [==============================] - 0s 8ms/step - loss: 9.8004 - mae: 9.8004\n",
            "Epoch 58/100\n",
            "2/2 [==============================] - 0s 7ms/step - loss: 9.0834 - mae: 9.0834\n",
            "Epoch 59/100\n",
            "2/2 [==============================] - 0s 7ms/step - loss: 8.2865 - mae: 8.2865\n",
            "Epoch 60/100\n",
            "2/2 [==============================] - 0s 11ms/step - loss: 9.3806 - mae: 9.3806\n",
            "Epoch 61/100\n",
            "2/2 [==============================] - 0s 7ms/step - loss: 11.2067 - mae: 11.2067\n",
            "Epoch 62/100\n",
            "2/2 [==============================] - 0s 8ms/step - loss: 12.0456 - mae: 12.0456\n",
            "Epoch 63/100\n",
            "2/2 [==============================] - 0s 10ms/step - loss: 7.2808 - mae: 7.2808\n",
            "Epoch 64/100\n",
            "2/2 [==============================] - 0s 8ms/step - loss: 12.4669 - mae: 12.4669\n",
            "Epoch 65/100\n",
            "2/2 [==============================] - 0s 8ms/step - loss: 10.5426 - mae: 10.5426\n",
            "Epoch 66/100\n",
            "2/2 [==============================] - 0s 7ms/step - loss: 15.5774 - mae: 15.5774\n",
            "Epoch 67/100\n",
            "2/2 [==============================] - 0s 8ms/step - loss: 9.9912 - mae: 9.9912\n",
            "Epoch 68/100\n",
            "2/2 [==============================] - 0s 8ms/step - loss: 8.7187 - mae: 8.7187\n",
            "Epoch 69/100\n",
            "2/2 [==============================] - 0s 8ms/step - loss: 13.4542 - mae: 13.4542\n",
            "Epoch 70/100\n",
            "2/2 [==============================] - 0s 8ms/step - loss: 7.4786 - mae: 7.4786\n",
            "Epoch 71/100\n",
            "2/2 [==============================] - 0s 10ms/step - loss: 12.2694 - mae: 12.2694\n",
            "Epoch 72/100\n",
            "2/2 [==============================] - 0s 8ms/step - loss: 8.5193 - mae: 8.5193\n",
            "Epoch 73/100\n",
            "2/2 [==============================] - 0s 8ms/step - loss: 7.0456 - mae: 7.0456\n",
            "Epoch 74/100\n",
            "2/2 [==============================] - 0s 11ms/step - loss: 9.8987 - mae: 9.8987\n",
            "Epoch 75/100\n",
            "2/2 [==============================] - 0s 8ms/step - loss: 9.9690 - mae: 9.9690\n",
            "Epoch 76/100\n",
            "2/2 [==============================] - 0s 8ms/step - loss: 10.1296 - mae: 10.1296\n",
            "Epoch 77/100\n",
            "2/2 [==============================] - 0s 8ms/step - loss: 12.9996 - mae: 12.9996\n",
            "Epoch 78/100\n",
            "2/2 [==============================] - 0s 7ms/step - loss: 10.9015 - mae: 10.9015\n",
            "Epoch 79/100\n",
            "2/2 [==============================] - 0s 9ms/step - loss: 15.3786 - mae: 15.3786\n",
            "Epoch 80/100\n",
            "2/2 [==============================] - 0s 8ms/step - loss: 11.7411 - mae: 11.7411\n",
            "Epoch 81/100\n",
            "2/2 [==============================] - 0s 9ms/step - loss: 9.2531 - mae: 9.2531\n",
            "Epoch 82/100\n",
            "2/2 [==============================] - 0s 8ms/step - loss: 12.7402 - mae: 12.7402\n",
            "Epoch 83/100\n",
            "2/2 [==============================] - 0s 8ms/step - loss: 8.2932 - mae: 8.2932\n",
            "Epoch 84/100\n",
            "2/2 [==============================] - 0s 11ms/step - loss: 7.3135 - mae: 7.3135\n",
            "Epoch 85/100\n",
            "2/2 [==============================] - 0s 11ms/step - loss: 10.4723 - mae: 10.4723\n",
            "Epoch 86/100\n",
            "2/2 [==============================] - 0s 10ms/step - loss: 9.1460 - mae: 9.1460\n",
            "Epoch 87/100\n",
            "2/2 [==============================] - 0s 15ms/step - loss: 11.8560 - mae: 11.8560\n",
            "Epoch 88/100\n",
            "2/2 [==============================] - 0s 8ms/step - loss: 10.4649 - mae: 10.4649\n",
            "Epoch 89/100\n",
            "2/2 [==============================] - 0s 12ms/step - loss: 6.9782 - mae: 6.9782\n",
            "Epoch 90/100\n",
            "2/2 [==============================] - 0s 10ms/step - loss: 13.7891 - mae: 13.7891\n",
            "Epoch 91/100\n",
            "2/2 [==============================] - 0s 10ms/step - loss: 7.8719 - mae: 7.8719\n",
            "Epoch 92/100\n",
            "2/2 [==============================] - 0s 11ms/step - loss: 7.9237 - mae: 7.9237\n",
            "Epoch 93/100\n",
            "2/2 [==============================] - 0s 10ms/step - loss: 9.4180 - mae: 9.4180\n",
            "Epoch 94/100\n",
            "2/2 [==============================] - 0s 9ms/step - loss: 8.7392 - mae: 8.7392\n",
            "Epoch 95/100\n",
            "2/2 [==============================] - 0s 9ms/step - loss: 9.8558 - mae: 9.8558\n",
            "Epoch 96/100\n",
            "2/2 [==============================] - 0s 9ms/step - loss: 7.3495 - mae: 7.3495\n",
            "Epoch 97/100\n",
            "2/2 [==============================] - 0s 9ms/step - loss: 6.8627 - mae: 6.8627\n",
            "Epoch 98/100\n",
            "2/2 [==============================] - 0s 9ms/step - loss: 7.2567 - mae: 7.2567\n",
            "Epoch 99/100\n",
            "2/2 [==============================] - 0s 8ms/step - loss: 7.4081 - mae: 7.4081\n",
            "Epoch 100/100\n",
            "2/2 [==============================] - 0s 8ms/step - loss: 11.1136 - mae: 11.1136\n"
          ]
        },
        {
          "output_type": "execute_result",
          "data": {
            "text/plain": [
              "<keras.callbacks.History at 0x7f550f1361c0>"
            ]
          },
          "metadata": {},
          "execution_count": 48
        }
      ],
      "source": [
        "# Set random seed \n",
        "tf.random.set_seed(42)\n",
        "\n",
        "# 1. Create the model \n",
        "model_1 = tf.keras.Sequential([\n",
        "    tf.keras.layers.Dense(1)\n",
        "])\n",
        "\n",
        "# 2. Compile the model \n",
        "model_1.compile(loss=tf.keras.losses.mae,\n",
        "                optimizer=tf.keras.optimizers.SGD(),\n",
        "                metrics=[\"mae\"])\n",
        "\n",
        "# 3. Fit the model\n",
        "model_1.fit(tf.expand_dims(X_train, -1), y_train, epochs=100)"
      ]
    },
    {
      "cell_type": "code",
      "execution_count": 49,
      "metadata": {
        "colab": {
          "base_uri": "https://localhost:8080/",
          "height": 570
        },
        "id": "LIAQsG3JOrWp",
        "outputId": "44d7dd81-9490-4593-e134-577a0c3f76cb"
      },
      "outputs": [
        {
          "output_type": "stream",
          "name": "stderr",
          "text": [
            "WARNING:tensorflow:6 out of the last 6 calls to <function Model.make_predict_function.<locals>.predict_function at 0x7f550f0f29d0> triggered tf.function retracing. Tracing is expensive and the excessive number of tracings could be due to (1) creating @tf.function repeatedly in a loop, (2) passing tensors with different shapes, (3) passing Python objects instead of tensors. For (1), please define your @tf.function outside of the loop. For (2), @tf.function has reduce_retracing=True option that can avoid unnecessary retracing. For (3), please refer to https://www.tensorflow.org/guide/function#controlling_retracing and https://www.tensorflow.org/api_docs/python/tf/function for  more details.\n"
          ]
        },
        {
          "output_type": "stream",
          "name": "stdout",
          "text": [
            "1/1 [==============================] - 0s 65ms/step\n"
          ]
        },
        {
          "output_type": "display_data",
          "data": {
            "text/plain": [
              "<Figure size 1000x700 with 1 Axes>"
            ],
            "image/png": "[encoded data removed]"
          },
          "metadata": {}
        }
      ],
      "source": [
        "# Make and plot predictions for model_1\n",
        "y_preds_1 = model_1.predict(X_test)\n",
        "plot_predictions(predictions=y_preds_1)"
      ]
    },
    {
      "cell_type": "code",
      "execution_count": 50,
      "metadata": {
        "colab": {
          "base_uri": "https://localhost:8080/"
        },
        "id": "PkbQgqJ2ZtXy",
        "outputId": "f5ca1f64-f9dd-4dda-e9f4-9e56c7f253e2"
      },
      "outputs": [
        {
          "output_type": "execute_result",
          "data": {
            "text/plain": [
              "(<tf.Tensor: shape=(), dtype=float32, numpy=21.299194>,\n",
              " <tf.Tensor: shape=(), dtype=float32, numpy=457.10117>)"
            ]
          },
          "metadata": {},
          "execution_count": 50
        }
      ],
      "source": [
        "# Calculate model_1 evaluation metrics \n",
        "\n",
        "mae_1 = mae(y_test, y_preds_1)\n",
        "mse_1 = mse(y_test, y_preds_1)\n",
        "mae_1, mse_1"
      ]
    },
    {
      "cell_type": "markdown",
      "metadata": {
        "id": "0MiJYK1tbDxb"
      },
      "source": [
        "**Build `model_2`**\n",
        "\n",
        "* 2 dense layers, trained for 100 epochs "
      ]
    },
    {
      "cell_type": "code",
      "execution_count": 51,
      "metadata": {
        "colab": {
          "base_uri": "https://localhost:8080/"
        },
        "id": "0j3LZD4acVpb",
        "outputId": "6475ccd9-a912-4bdd-c6f5-e69d3d9c32d4"
      },
      "outputs": [
        {
          "output_type": "stream",
          "name": "stdout",
          "text": [
            "Epoch 1/100\n",
            "2/2 [==============================] - 1s 16ms/step - loss: 49.9204 - mse: 3853.6860\n",
            "Epoch 2/100\n",
            "2/2 [==============================] - 0s 11ms/step - loss: 27.8412 - mse: 1004.0060\n",
            "Epoch 3/100\n",
            "2/2 [==============================] - 0s 8ms/step - loss: 32.7060 - mse: 1613.2700\n",
            "Epoch 4/100\n",
            "2/2 [==============================] - 0s 10ms/step - loss: 28.6969 - mse: 1218.9833\n",
            "Epoch 5/100\n",
            "2/2 [==============================] - 0s 8ms/step - loss: 15.5603 - mse: 313.6710\n",
            "Epoch 6/100\n",
            "2/2 [==============================] - 0s 9ms/step - loss: 12.3376 - mse: 192.8669\n",
            "Epoch 7/100\n",
            "2/2 [==============================] - 0s 9ms/step - loss: 11.6109 - mse: 165.0293\n",
            "Epoch 8/100\n",
            "2/2 [==============================] - 0s 9ms/step - loss: 12.0120 - mse: 195.4443\n",
            "Epoch 9/100\n",
            "2/2 [==============================] - 0s 11ms/step - loss: 37.4725 - mse: 2160.3047\n",
            "Epoch 10/100\n",
            "2/2 [==============================] - 0s 8ms/step - loss: 25.1448 - mse: 886.7413\n",
            "Epoch 11/100\n",
            "2/2 [==============================] - 0s 11ms/step - loss: 10.2421 - mse: 146.3214\n",
            "Epoch 12/100\n",
            "2/2 [==============================] - 0s 17ms/step - loss: 25.4286 - mse: 900.0482\n",
            "Epoch 13/100\n",
            "2/2 [==============================] - 0s 21ms/step - loss: 16.7972 - mse: 388.9527\n",
            "Epoch 14/100\n",
            "2/2 [==============================] - 0s 10ms/step - loss: 25.5800 - mse: 1018.9253\n",
            "Epoch 15/100\n",
            "2/2 [==============================] - 0s 11ms/step - loss: 17.4718 - mse: 422.2114\n",
            "Epoch 16/100\n",
            "2/2 [==============================] - 0s 8ms/step - loss: 10.0103 - mse: 124.3987\n",
            "Epoch 17/100\n",
            "2/2 [==============================] - 0s 10ms/step - loss: 18.5011 - mse: 457.2333\n",
            "Epoch 18/100\n",
            "2/2 [==============================] - 0s 8ms/step - loss: 11.3421 - mse: 198.8084\n",
            "Epoch 19/100\n",
            "2/2 [==============================] - 0s 9ms/step - loss: 13.9284 - mse: 302.1816\n",
            "Epoch 20/100\n",
            "2/2 [==============================] - 0s 8ms/step - loss: 11.1876 - mse: 146.0928\n",
            "Epoch 21/100\n",
            "2/2 [==============================] - 0s 8ms/step - loss: 17.2528 - mse: 421.4677\n",
            "Epoch 22/100\n",
            "2/2 [==============================] - 0s 8ms/step - loss: 15.4900 - mse: 330.5976\n",
            "Epoch 23/100\n",
            "2/2 [==============================] - 0s 8ms/step - loss: 9.2296 - mse: 118.3793\n",
            "Epoch 24/100\n",
            "2/2 [==============================] - 0s 8ms/step - loss: 17.2640 - mse: 408.5096\n",
            "Epoch 25/100\n",
            "2/2 [==============================] - 0s 11ms/step - loss: 15.9340 - mse: 333.6420\n",
            "Epoch 26/100\n",
            "2/2 [==============================] - 0s 11ms/step - loss: 20.9284 - mse: 649.2029\n",
            "Epoch 27/100\n",
            "2/2 [==============================] - 0s 10ms/step - loss: 25.9653 - mse: 1051.8685\n",
            "Epoch 28/100\n",
            "2/2 [==============================] - 0s 8ms/step - loss: 18.4619 - mse: 539.4437\n",
            "Epoch 29/100\n",
            "2/2 [==============================] - 0s 8ms/step - loss: 9.2316 - mse: 97.4090\n",
            "Epoch 30/100\n",
            "2/2 [==============================] - 0s 9ms/step - loss: 29.0869 - mse: 1511.4027\n",
            "Epoch 31/100\n",
            "2/2 [==============================] - 0s 10ms/step - loss: 52.6807 - mse: 4962.3618\n",
            "Epoch 32/100\n",
            "2/2 [==============================] - 0s 11ms/step - loss: 11.9157 - mse: 206.8105\n",
            "Epoch 33/100\n",
            "2/2 [==============================] - 0s 8ms/step - loss: 15.5154 - mse: 331.8050\n",
            "Epoch 34/100\n",
            "2/2 [==============================] - 0s 12ms/step - loss: 12.6041 - mse: 209.9159\n",
            "Epoch 35/100\n",
            "2/2 [==============================] - 0s 10ms/step - loss: 9.1953 - mse: 91.6556\n",
            "Epoch 36/100\n",
            "2/2 [==============================] - 0s 11ms/step - loss: 16.5128 - mse: 396.5678\n",
            "Epoch 37/100\n",
            "2/2 [==============================] - 0s 8ms/step - loss: 11.0665 - mse: 192.0730\n",
            "Epoch 38/100\n",
            "2/2 [==============================] - 0s 10ms/step - loss: 18.1951 - mse: 435.9737\n",
            "Epoch 39/100\n",
            "2/2 [==============================] - 0s 9ms/step - loss: 19.1278 - mse: 532.3991\n",
            "Epoch 40/100\n",
            "2/2 [==============================] - 0s 8ms/step - loss: 20.4827 - mse: 613.0152\n",
            "Epoch 41/100\n",
            "2/2 [==============================] - 0s 10ms/step - loss: 14.8316 - mse: 275.8759\n",
            "Epoch 42/100\n",
            "2/2 [==============================] - 0s 10ms/step - loss: 12.2214 - mse: 183.6385\n",
            "Epoch 43/100\n",
            "2/2 [==============================] - 0s 8ms/step - loss: 10.6963 - mse: 164.5433\n",
            "Epoch 44/100\n",
            "2/2 [==============================] - 0s 12ms/step - loss: 32.3941 - mse: 1726.9817\n",
            "Epoch 45/100\n",
            "2/2 [==============================] - 0s 14ms/step - loss: 12.4910 - mse: 203.5708\n",
            "Epoch 46/100\n",
            "2/2 [==============================] - 0s 9ms/step - loss: 17.6161 - mse: 465.1604\n",
            "Epoch 47/100\n",
            "2/2 [==============================] - 0s 7ms/step - loss: 15.7118 - mse: 337.6857\n",
            "Epoch 48/100\n",
            "2/2 [==============================] - 0s 8ms/step - loss: 8.3437 - mse: 112.4026\n",
            "Epoch 49/100\n",
            "2/2 [==============================] - 0s 9ms/step - loss: 13.9420 - mse: 268.1004\n",
            "Epoch 50/100\n",
            "2/2 [==============================] - 0s 8ms/step - loss: 12.7909 - mse: 214.2083\n",
            "Epoch 51/100\n",
            "2/2 [==============================] - 0s 10ms/step - loss: 14.8072 - mse: 307.8196\n",
            "Epoch 52/100\n",
            "2/2 [==============================] - 0s 8ms/step - loss: 18.6967 - mse: 527.0261\n",
            "Epoch 53/100\n",
            "2/2 [==============================] - 0s 8ms/step - loss: 24.1201 - mse: 825.5589\n",
            "Epoch 54/100\n",
            "2/2 [==============================] - 0s 8ms/step - loss: 23.2898 - mse: 813.4868\n",
            "Epoch 55/100\n",
            "2/2 [==============================] - 0s 11ms/step - loss: 24.1598 - mse: 878.9767\n",
            "Epoch 56/100\n",
            "2/2 [==============================] - 0s 7ms/step - loss: 11.1911 - mse: 170.9046\n",
            "Epoch 57/100\n",
            "2/2 [==============================] - 0s 7ms/step - loss: 13.1633 - mse: 216.4207\n",
            "Epoch 58/100\n",
            "2/2 [==============================] - 0s 7ms/step - loss: 9.8341 - mse: 106.7852\n",
            "Epoch 59/100\n",
            "2/2 [==============================] - 0s 9ms/step - loss: 13.3644 - mse: 253.0336\n",
            "Epoch 60/100\n",
            "2/2 [==============================] - 0s 8ms/step - loss: 10.9000 - mse: 140.6031\n",
            "Epoch 61/100\n",
            "2/2 [==============================] - 0s 9ms/step - loss: 13.5238 - mse: 244.8894\n",
            "Epoch 62/100\n",
            "2/2 [==============================] - 0s 8ms/step - loss: 17.8431 - mse: 484.6979\n",
            "Epoch 63/100\n",
            "2/2 [==============================] - 0s 9ms/step - loss: 8.7137 - mse: 91.8562\n",
            "Epoch 64/100\n",
            "2/2 [==============================] - 0s 8ms/step - loss: 16.1092 - mse: 372.0999\n",
            "Epoch 65/100\n",
            "2/2 [==============================] - 0s 10ms/step - loss: 10.7214 - mse: 145.9720\n",
            "Epoch 66/100\n",
            "2/2 [==============================] - 0s 9ms/step - loss: 22.1692 - mse: 728.0696\n",
            "Epoch 67/100\n",
            "2/2 [==============================] - 0s 8ms/step - loss: 10.2466 - mse: 120.7824\n",
            "Epoch 68/100\n",
            "2/2 [==============================] - 0s 9ms/step - loss: 13.4565 - mse: 268.7692\n",
            "Epoch 69/100\n",
            "2/2 [==============================] - 0s 10ms/step - loss: 11.4156 - mse: 162.8928\n",
            "Epoch 70/100\n",
            "2/2 [==============================] - 0s 11ms/step - loss: 13.6011 - mse: 245.6486\n",
            "Epoch 71/100\n",
            "2/2 [==============================] - 0s 10ms/step - loss: 15.6274 - mse: 347.1377\n",
            "Epoch 72/100\n",
            "2/2 [==============================] - 0s 12ms/step - loss: 11.8413 - mse: 168.4083\n",
            "Epoch 73/100\n",
            "2/2 [==============================] - 0s 8ms/step - loss: 16.6340 - mse: 373.0517\n",
            "Epoch 74/100\n",
            "2/2 [==============================] - 0s 9ms/step - loss: 24.1898 - mse: 921.0711\n",
            "Epoch 75/100\n",
            "2/2 [==============================] - 0s 9ms/step - loss: 9.6265 - mse: 148.6616\n",
            "Epoch 76/100\n",
            "2/2 [==============================] - 0s 9ms/step - loss: 12.4820 - mse: 190.0768\n",
            "Epoch 77/100\n",
            "2/2 [==============================] - 0s 10ms/step - loss: 16.7563 - mse: 435.7153\n",
            "Epoch 78/100\n",
            "2/2 [==============================] - 0s 8ms/step - loss: 9.0735 - mse: 96.6823\n",
            "Epoch 79/100\n",
            "2/2 [==============================] - 0s 8ms/step - loss: 24.1043 - mse: 875.3406\n",
            "Epoch 80/100\n",
            "2/2 [==============================] - 0s 10ms/step - loss: 26.9113 - mse: 1119.5159\n",
            "Epoch 81/100\n",
            "2/2 [==============================] - 0s 7ms/step - loss: 11.7456 - mse: 174.1352\n",
            "Epoch 82/100\n",
            "2/2 [==============================] - 0s 16ms/step - loss: 11.9763 - mse: 211.1035\n",
            "Epoch 83/100\n",
            "2/2 [==============================] - 0s 9ms/step - loss: 17.3563 - mse: 392.4682\n",
            "Epoch 84/100\n",
            "2/2 [==============================] - 0s 12ms/step - loss: 7.2507 - mse: 73.1948\n",
            "Epoch 85/100\n",
            "2/2 [==============================] - 0s 10ms/step - loss: 14.9148 - mse: 310.9205\n",
            "Epoch 86/100\n",
            "2/2 [==============================] - 0s 9ms/step - loss: 15.2459 - mse: 314.3852\n",
            "Epoch 87/100\n",
            "2/2 [==============================] - 0s 8ms/step - loss: 19.0274 - mse: 517.5670\n",
            "Epoch 88/100\n",
            "2/2 [==============================] - 0s 9ms/step - loss: 30.0340 - mse: 1306.8333\n",
            "Epoch 89/100\n",
            "2/2 [==============================] - 0s 9ms/step - loss: 10.2048 - mse: 124.2661\n",
            "Epoch 90/100\n",
            "2/2 [==============================] - 0s 12ms/step - loss: 21.6984 - mse: 674.9987\n",
            "Epoch 91/100\n",
            "2/2 [==============================] - 0s 11ms/step - loss: 10.6134 - mse: 161.0894\n",
            "Epoch 92/100\n",
            "2/2 [==============================] - 0s 13ms/step - loss: 18.5553 - mse: 472.6366\n",
            "Epoch 93/100\n",
            "2/2 [==============================] - 0s 9ms/step - loss: 8.1647 - mse: 104.9921\n",
            "Epoch 94/100\n",
            "2/2 [==============================] - 0s 8ms/step - loss: 11.3780 - mse: 167.9967\n",
            "Epoch 95/100\n",
            "2/2 [==============================] - 0s 9ms/step - loss: 25.4964 - mse: 982.0275\n",
            "Epoch 96/100\n",
            "2/2 [==============================] - 0s 9ms/step - loss: 10.9997 - mse: 169.5913\n",
            "Epoch 97/100\n",
            "2/2 [==============================] - 0s 8ms/step - loss: 16.3474 - mse: 407.3566\n",
            "Epoch 98/100\n",
            "2/2 [==============================] - 0s 9ms/step - loss: 6.8312 - mse: 65.8256\n",
            "Epoch 99/100\n",
            "2/2 [==============================] - 0s 9ms/step - loss: 11.6875 - mse: 213.2046\n",
            "Epoch 100/100\n",
            "2/2 [==============================] - 0s 8ms/step - loss: 23.5026 - mse: 767.8739\n"
          ]
        },
        {
          "output_type": "execute_result",
          "data": {
            "text/plain": [
              "<keras.callbacks.History at 0x7f550f007910>"
            ]
          },
          "metadata": {},
          "execution_count": 51
        }
      ],
      "source": [
        "# Set the random seed \n",
        "tf.random.set_seed(42)\n",
        "\n",
        "# 1. Create the model \n",
        "model_2 = tf.keras.Sequential([\n",
        "    tf.keras.layers.Dense(10),\n",
        "    tf.keras.layers.Dense(1)\n",
        "])\n",
        "\n",
        "# 2. Compile the model \n",
        "model_2.compile(loss=tf.keras.losses.mae,\n",
        "                optimizer=tf.keras.optimizers.SGD(),\n",
        "                metrics=[\"mse\"])\n",
        "\n",
        "# 3. Fit the model\n",
        "model_2.fit(tf.expand_dims(X_train, -1), y_train, epochs=100)"
      ]
    },
    {
      "cell_type": "code",
      "execution_count": 52,
      "metadata": {
        "colab": {
          "base_uri": "https://localhost:8080/",
          "height": 529
        },
        "id": "_QBduB6OftEs",
        "outputId": "e6f330bb-0e01-4751-8804-ae8d5fe2f7f4"
      },
      "outputs": [
        {
          "output_type": "stream",
          "name": "stdout",
          "text": [
            "1/1 [==============================] - 0s 73ms/step\n"
          ]
        },
        {
          "output_type": "display_data",
          "data": {
            "text/plain": [
              "<Figure size 1000x700 with 1 Axes>"
            ],
            "image/png": "[encoded data removed]"
          },
          "metadata": {}
        }
      ],
      "source": [
        "# Make and plot predictions for model_2\n",
        "y_preds_2 = model_2.predict(X_test)\n",
        "plot_predictions(predictions=y_preds_2)"
      ]
    },
    {
      "cell_type": "code",
      "execution_count": 53,
      "metadata": {
        "colab": {
          "base_uri": "https://localhost:8080/"
        },
        "id": "Ux360qnNgA0P",
        "outputId": "d6e37851-b17f-4100-d48e-d56e2e318516"
      },
      "outputs": [
        {
          "output_type": "execute_result",
          "data": {
            "text/plain": [
              "(<tf.Tensor: shape=(), dtype=float32, numpy=26.361767>,\n",
              " <tf.Tensor: shape=(), dtype=float32, numpy=720.7908>)"
            ]
          },
          "metadata": {},
          "execution_count": 53
        }
      ],
      "source": [
        "# Calculate model_2 evaluation metrics \n",
        "\n",
        "mae_2 = mae(y_test, y_preds_2)\n",
        "mse_2 = mse(y_test, y_preds_2)\n",
        "mae_2, mse_2"
      ]
    },
    {
      "cell_type": "markdown",
      "metadata": {
        "id": "hFt0queuhIyM"
      },
      "source": [
        "**Build `model_3`**\n",
        "\n",
        "2 dense layers, trained for 500 epochs"
      ]
    },
    {
      "cell_type": "code",
      "execution_count": 54,
      "metadata": {
        "colab": {
          "base_uri": "https://localhost:8080/"
        },
        "id": "KrzDhmpJgSNw",
        "outputId": "5d1bf820-1c48-45ca-8d58-100296ba1392"
      },
      "outputs": [
        {
          "output_type": "stream",
          "name": "stdout",
          "text": [
            "Epoch 1/500\n",
            "2/2 [==============================] - 1s 14ms/step - loss: 47.4102 - mae: 47.4102\n",
            "Epoch 2/500\n",
            "2/2 [==============================] - 0s 11ms/step - loss: 26.2830 - mae: 26.2830\n",
            "Epoch 3/500\n",
            "2/2 [==============================] - 0s 102ms/step - loss: 30.2042 - mae: 30.2042\n",
            "Epoch 4/500\n",
            "2/2 [==============================] - 0s 35ms/step - loss: 14.3118 - mae: 14.3118\n",
            "Epoch 5/500\n",
            "2/2 [==============================] - 0s 25ms/step - loss: 20.1019 - mae: 20.1019\n",
            "Epoch 6/500\n",
            "2/2 [==============================] - 0s 26ms/step - loss: 8.1667 - mae: 8.1667\n",
            "Epoch 7/500\n",
            "2/2 [==============================] - 0s 28ms/step - loss: 17.2109 - mae: 17.2109\n",
            "Epoch 8/500\n",
            "2/2 [==============================] - 0s 13ms/step - loss: 17.1711 - mae: 17.1711\n",
            "Epoch 9/500\n",
            "2/2 [==============================] - 0s 36ms/step - loss: 30.1710 - mae: 30.1710\n",
            "Epoch 10/500\n",
            "2/2 [==============================] - 0s 44ms/step - loss: 11.9606 - mae: 11.9606\n",
            "Epoch 11/500\n",
            "2/2 [==============================] - 0s 18ms/step - loss: 8.9642 - mae: 8.9642\n",
            "Epoch 12/500\n",
            "2/2 [==============================] - 0s 13ms/step - loss: 20.9315 - mae: 20.9315\n",
            "Epoch 13/500\n",
            "2/2 [==============================] - 0s 18ms/step - loss: 12.3102 - mae: 12.3102\n",
            "Epoch 14/500\n",
            "2/2 [==============================] - 0s 16ms/step - loss: 36.2868 - mae: 36.2868\n",
            "Epoch 15/500\n",
            "2/2 [==============================] - 0s 23ms/step - loss: 23.7811 - mae: 23.7811\n",
            "Epoch 16/500\n",
            "2/2 [==============================] - 0s 46ms/step - loss: 10.2026 - mae: 10.2026\n",
            "Epoch 17/500\n",
            "2/2 [==============================] - 0s 30ms/step - loss: 19.0490 - mae: 19.0490\n",
            "Epoch 18/500\n",
            "2/2 [==============================] - 0s 20ms/step - loss: 12.4513 - mae: 12.4513\n",
            "Epoch 19/500\n",
            "2/2 [==============================] - 0s 34ms/step - loss: 18.5252 - mae: 18.5252\n",
            "Epoch 20/500\n",
            "2/2 [==============================] - 0s 38ms/step - loss: 8.6350 - mae: 8.6350\n",
            "Epoch 21/500\n",
            "2/2 [==============================] - 0s 19ms/step - loss: 13.4195 - mae: 13.4195\n",
            "Epoch 22/500\n",
            "2/2 [==============================] - 0s 12ms/step - loss: 17.6855 - mae: 17.6855\n",
            "Epoch 23/500\n",
            "2/2 [==============================] - 0s 19ms/step - loss: 9.3595 - mae: 9.3595\n",
            "Epoch 24/500\n",
            "2/2 [==============================] - 0s 29ms/step - loss: 11.6990 - mae: 11.6990\n",
            "Epoch 25/500\n",
            "2/2 [==============================] - 0s 7ms/step - loss: 15.3570 - mae: 15.3570\n",
            "Epoch 26/500\n",
            "2/2 [==============================] - 0s 12ms/step - loss: 18.3676 - mae: 18.3676\n",
            "Epoch 27/500\n",
            "2/2 [==============================] - 0s 9ms/step - loss: 11.4389 - mae: 11.4389\n",
            "Epoch 28/500\n",
            "2/2 [==============================] - 0s 11ms/step - loss: 29.0420 - mae: 29.0420\n",
            "Epoch 29/500\n",
            "2/2 [==============================] - 0s 10ms/step - loss: 9.2466 - mae: 9.2466\n",
            "Epoch 30/500\n",
            "2/2 [==============================] - 0s 9ms/step - loss: 29.7907 - mae: 29.7907\n",
            "Epoch 31/500\n",
            "2/2 [==============================] - 0s 9ms/step - loss: 54.0495 - mae: 54.0495\n",
            "Epoch 32/500\n",
            "2/2 [==============================] - 0s 8ms/step - loss: 9.5548 - mae: 9.5548\n",
            "Epoch 33/500\n",
            "2/2 [==============================] - 0s 11ms/step - loss: 12.1449 - mae: 12.1449\n",
            "Epoch 34/500\n",
            "2/2 [==============================] - 0s 10ms/step - loss: 23.8465 - mae: 23.8465\n",
            "Epoch 35/500\n",
            "2/2 [==============================] - 0s 9ms/step - loss: 12.6271 - mae: 12.6271\n",
            "Epoch 36/500\n",
            "2/2 [==============================] - 0s 9ms/step - loss: 21.5513 - mae: 21.5513\n",
            "Epoch 37/500\n",
            "2/2 [==============================] - 0s 41ms/step - loss: 11.3557 - mae: 11.3557\n",
            "Epoch 38/500\n",
            "2/2 [==============================] - 0s 22ms/step - loss: 13.4288 - mae: 13.4288\n",
            "Epoch 39/500\n",
            "2/2 [==============================] - 0s 34ms/step - loss: 10.7701 - mae: 10.7701\n",
            "Epoch 40/500\n",
            "2/2 [==============================] - 0s 41ms/step - loss: 16.5518 - mae: 16.5518\n",
            "Epoch 41/500\n",
            "2/2 [==============================] - 0s 37ms/step - loss: 10.9465 - mae: 10.9465\n",
            "Epoch 42/500\n",
            "2/2 [==============================] - 0s 29ms/step - loss: 9.2799 - mae: 9.2799\n",
            "Epoch 43/500\n",
            "2/2 [==============================] - 0s 28ms/step - loss: 9.5839 - mae: 9.5839\n",
            "Epoch 44/500\n",
            "2/2 [==============================] - 0s 32ms/step - loss: 27.9346 - mae: 27.9346\n",
            "Epoch 45/500\n",
            "2/2 [==============================] - 0s 43ms/step - loss: 11.2644 - mae: 11.2644\n",
            "Epoch 46/500\n",
            "2/2 [==============================] - 0s 30ms/step - loss: 13.8688 - mae: 13.8688\n",
            "Epoch 47/500\n",
            "2/2 [==============================] - 0s 44ms/step - loss: 11.9135 - mae: 11.9135\n",
            "Epoch 48/500\n",
            "2/2 [==============================] - 0s 42ms/step - loss: 16.9440 - mae: 16.9440\n",
            "Epoch 49/500\n",
            "2/2 [==============================] - 0s 49ms/step - loss: 9.7759 - mae: 9.7759\n",
            "Epoch 50/500\n",
            "2/2 [==============================] - 0s 38ms/step - loss: 14.1736 - mae: 14.1736\n",
            "Epoch 51/500\n",
            "2/2 [==============================] - 0s 46ms/step - loss: 11.7358 - mae: 11.7358\n",
            "Epoch 52/500\n",
            "2/2 [==============================] - 0s 57ms/step - loss: 31.4207 - mae: 31.4207\n",
            "Epoch 53/500\n",
            "2/2 [==============================] - 0s 36ms/step - loss: 14.7373 - mae: 14.7373\n",
            "Epoch 54/500\n",
            "2/2 [==============================] - 0s 28ms/step - loss: 24.6403 - mae: 24.6403\n",
            "Epoch 55/500\n",
            "2/2 [==============================] - 0s 32ms/step - loss: 23.9247 - mae: 23.9247\n",
            "Epoch 56/500\n",
            "2/2 [==============================] - 0s 40ms/step - loss: 11.1248 - mae: 11.1248\n",
            "Epoch 57/500\n",
            "2/2 [==============================] - 0s 33ms/step - loss: 13.0680 - mae: 13.0680\n",
            "Epoch 58/500\n",
            "2/2 [==============================] - 0s 22ms/step - loss: 9.7834 - mae: 9.7834\n",
            "Epoch 59/500\n",
            "2/2 [==============================] - 0s 10ms/step - loss: 13.2515 - mae: 13.2515\n",
            "Epoch 60/500\n",
            "2/2 [==============================] - 0s 9ms/step - loss: 10.8383 - mae: 10.8383\n",
            "Epoch 61/500\n",
            "2/2 [==============================] - 0s 8ms/step - loss: 13.4271 - mae: 13.4271\n",
            "Epoch 62/500\n",
            "2/2 [==============================] - 0s 8ms/step - loss: 17.4170 - mae: 17.4170\n",
            "Epoch 63/500\n",
            "2/2 [==============================] - 0s 8ms/step - loss: 9.1395 - mae: 9.1395\n",
            "Epoch 64/500\n",
            "2/2 [==============================] - 0s 9ms/step - loss: 18.2911 - mae: 18.2911\n",
            "Epoch 65/500\n",
            "2/2 [==============================] - 0s 13ms/step - loss: 10.0948 - mae: 10.0948\n",
            "Epoch 66/500\n",
            "2/2 [==============================] - 0s 9ms/step - loss: 24.1353 - mae: 24.1353\n",
            "Epoch 67/500\n",
            "2/2 [==============================] - 0s 13ms/step - loss: 10.8504 - mae: 10.8504\n",
            "Epoch 68/500\n",
            "2/2 [==============================] - 0s 14ms/step - loss: 10.7424 - mae: 10.7424\n",
            "Epoch 69/500\n",
            "2/2 [==============================] - 0s 9ms/step - loss: 23.1147 - mae: 23.1147\n",
            "Epoch 70/500\n",
            "2/2 [==============================] - 0s 8ms/step - loss: 8.8366 - mae: 8.8366\n",
            "Epoch 71/500\n",
            "2/2 [==============================] - 0s 10ms/step - loss: 16.0620 - mae: 16.0620\n",
            "Epoch 72/500\n",
            "2/2 [==============================] - 0s 13ms/step - loss: 7.7513 - mae: 7.7513\n",
            "Epoch 73/500\n",
            "2/2 [==============================] - 0s 11ms/step - loss: 10.1574 - mae: 10.1574\n",
            "Epoch 74/500\n",
            "2/2 [==============================] - 0s 14ms/step - loss: 28.3360 - mae: 28.3360\n",
            "Epoch 75/500\n",
            "2/2 [==============================] - 0s 10ms/step - loss: 10.0031 - mae: 10.0031\n",
            "Epoch 76/500\n",
            "2/2 [==============================] - 0s 13ms/step - loss: 12.9184 - mae: 12.9184\n",
            "Epoch 77/500\n",
            "2/2 [==============================] - 0s 8ms/step - loss: 17.8804 - mae: 17.8804\n",
            "Epoch 78/500\n",
            "2/2 [==============================] - 0s 12ms/step - loss: 8.9598 - mae: 8.9598\n",
            "Epoch 79/500\n",
            "2/2 [==============================] - 0s 12ms/step - loss: 28.7074 - mae: 28.7074\n",
            "Epoch 80/500\n",
            "2/2 [==============================] - 0s 13ms/step - loss: 31.0430 - mae: 31.0430\n",
            "Epoch 81/500\n",
            "2/2 [==============================] - 0s 9ms/step - loss: 13.4074 - mae: 13.4074\n",
            "Epoch 82/500\n",
            "2/2 [==============================] - 0s 9ms/step - loss: 14.5159 - mae: 14.5159\n",
            "Epoch 83/500\n",
            "2/2 [==============================] - 0s 10ms/step - loss: 18.5345 - mae: 18.5345\n",
            "Epoch 84/500\n",
            "2/2 [==============================] - 0s 9ms/step - loss: 8.8114 - mae: 8.8114\n",
            "Epoch 85/500\n",
            "2/2 [==============================] - 0s 8ms/step - loss: 18.4078 - mae: 18.4078\n",
            "Epoch 86/500\n",
            "2/2 [==============================] - 0s 9ms/step - loss: 22.5713 - mae: 22.5713\n",
            "Epoch 87/500\n",
            "2/2 [==============================] - 0s 10ms/step - loss: 11.3708 - mae: 11.3708\n",
            "Epoch 88/500\n",
            "2/2 [==============================] - 0s 13ms/step - loss: 26.5983 - mae: 26.5983\n",
            "Epoch 89/500\n",
            "2/2 [==============================] - 0s 10ms/step - loss: 9.6564 - mae: 9.6564\n",
            "Epoch 90/500\n",
            "2/2 [==============================] - 0s 13ms/step - loss: 18.7462 - mae: 18.7462\n",
            "Epoch 91/500\n",
            "2/2 [==============================] - 0s 9ms/step - loss: 10.4917 - mae: 10.4917\n",
            "Epoch 92/500\n",
            "2/2 [==============================] - 0s 8ms/step - loss: 17.9736 - mae: 17.9736\n",
            "Epoch 93/500\n",
            "2/2 [==============================] - 0s 15ms/step - loss: 6.5855 - mae: 6.5855\n",
            "Epoch 94/500\n",
            "2/2 [==============================] - 0s 12ms/step - loss: 11.1399 - mae: 11.1399\n",
            "Epoch 95/500\n",
            "2/2 [==============================] - 0s 11ms/step - loss: 24.3193 - mae: 24.3193\n",
            "Epoch 96/500\n",
            "2/2 [==============================] - 0s 8ms/step - loss: 10.7445 - mae: 10.7445\n",
            "Epoch 97/500\n",
            "2/2 [==============================] - 0s 8ms/step - loss: 15.3292 - mae: 15.3292\n",
            "Epoch 98/500\n",
            "2/2 [==============================] - 0s 12ms/step - loss: 8.2611 - mae: 8.2611\n",
            "Epoch 99/500\n",
            "2/2 [==============================] - 0s 10ms/step - loss: 16.4888 - mae: 16.4888\n",
            "Epoch 100/500\n",
            "2/2 [==============================] - 0s 7ms/step - loss: 13.8902 - mae: 13.8902\n",
            "Epoch 101/500\n",
            "2/2 [==============================] - 0s 8ms/step - loss: 17.8493 - mae: 17.8493\n",
            "Epoch 102/500\n",
            "2/2 [==============================] - 0s 9ms/step - loss: 11.0324 - mae: 11.0324\n",
            "Epoch 103/500\n",
            "2/2 [==============================] - 0s 7ms/step - loss: 9.2893 - mae: 9.2893\n",
            "Epoch 104/500\n",
            "2/2 [==============================] - 0s 14ms/step - loss: 24.4124 - mae: 24.4124\n",
            "Epoch 105/500\n",
            "2/2 [==============================] - 0s 10ms/step - loss: 11.4204 - mae: 11.4204\n",
            "Epoch 106/500\n",
            "2/2 [==============================] - 0s 11ms/step - loss: 9.9884 - mae: 9.9884\n",
            "Epoch 107/500\n",
            "2/2 [==============================] - 0s 9ms/step - loss: 21.8356 - mae: 21.8356\n",
            "Epoch 108/500\n",
            "2/2 [==============================] - 0s 10ms/step - loss: 8.0245 - mae: 8.0245\n",
            "Epoch 109/500\n",
            "2/2 [==============================] - 0s 7ms/step - loss: 12.3730 - mae: 12.3730\n",
            "Epoch 110/500\n",
            "2/2 [==============================] - 0s 13ms/step - loss: 10.3082 - mae: 10.3082\n",
            "Epoch 111/500\n",
            "2/2 [==============================] - 0s 10ms/step - loss: 16.1414 - mae: 16.1414\n",
            "Epoch 112/500\n",
            "2/2 [==============================] - 0s 9ms/step - loss: 9.3589 - mae: 9.3589\n",
            "Epoch 113/500\n",
            "2/2 [==============================] - 0s 8ms/step - loss: 16.6805 - mae: 16.6805\n",
            "Epoch 114/500\n",
            "2/2 [==============================] - 0s 9ms/step - loss: 18.1654 - mae: 18.1654\n",
            "Epoch 115/500\n",
            "2/2 [==============================] - 0s 9ms/step - loss: 10.8345 - mae: 10.8345\n",
            "Epoch 116/500\n",
            "2/2 [==============================] - 0s 10ms/step - loss: 22.0895 - mae: 22.0895\n",
            "Epoch 117/500\n",
            "2/2 [==============================] - 0s 10ms/step - loss: 9.2625 - mae: 9.2625\n",
            "Epoch 118/500\n",
            "2/2 [==============================] - 0s 12ms/step - loss: 10.2689 - mae: 10.2689\n",
            "Epoch 119/500\n",
            "2/2 [==============================] - 0s 10ms/step - loss: 8.0380 - mae: 8.0380\n",
            "Epoch 120/500\n",
            "2/2 [==============================] - 0s 9ms/step - loss: 37.3149 - mae: 37.3149\n",
            "Epoch 121/500\n",
            "2/2 [==============================] - 0s 12ms/step - loss: 10.5908 - mae: 10.5908\n",
            "Epoch 122/500\n",
            "2/2 [==============================] - 0s 9ms/step - loss: 27.9810 - mae: 27.9810\n",
            "Epoch 123/500\n",
            "2/2 [==============================] - 0s 12ms/step - loss: 32.4921 - mae: 32.4921\n",
            "Epoch 124/500\n",
            "2/2 [==============================] - 0s 9ms/step - loss: 19.3358 - mae: 19.3358\n",
            "Epoch 125/500\n",
            "2/2 [==============================] - 0s 8ms/step - loss: 6.4579 - mae: 6.4579\n",
            "Epoch 126/500\n",
            "2/2 [==============================] - 0s 9ms/step - loss: 26.5607 - mae: 26.5607\n",
            "Epoch 127/500\n",
            "2/2 [==============================] - 0s 8ms/step - loss: 8.5746 - mae: 8.5746\n",
            "Epoch 128/500\n",
            "2/2 [==============================] - 0s 9ms/step - loss: 13.7171 - mae: 13.7171\n",
            "Epoch 129/500\n",
            "2/2 [==============================] - 0s 8ms/step - loss: 10.8587 - mae: 10.8587\n",
            "Epoch 130/500\n",
            "2/2 [==============================] - 0s 8ms/step - loss: 15.3408 - mae: 15.3408\n",
            "Epoch 131/500\n",
            "2/2 [==============================] - 0s 8ms/step - loss: 8.8556 - mae: 8.8556\n",
            "Epoch 132/500\n",
            "2/2 [==============================] - 0s 12ms/step - loss: 14.8362 - mae: 14.8362\n",
            "Epoch 133/500\n",
            "2/2 [==============================] - 0s 12ms/step - loss: 7.9504 - mae: 7.9504\n",
            "Epoch 134/500\n",
            "2/2 [==============================] - 0s 11ms/step - loss: 22.4606 - mae: 22.4606\n",
            "Epoch 135/500\n",
            "2/2 [==============================] - 0s 13ms/step - loss: 19.9671 - mae: 19.9671\n",
            "Epoch 136/500\n",
            "2/2 [==============================] - 0s 14ms/step - loss: 13.8503 - mae: 13.8503\n",
            "Epoch 137/500\n",
            "2/2 [==============================] - 0s 8ms/step - loss: 25.3920 - mae: 25.3920\n",
            "Epoch 138/500\n",
            "2/2 [==============================] - 0s 10ms/step - loss: 10.0310 - mae: 10.0310\n",
            "Epoch 139/500\n",
            "2/2 [==============================] - 0s 12ms/step - loss: 9.4875 - mae: 9.4875\n",
            "Epoch 140/500\n",
            "2/2 [==============================] - 0s 10ms/step - loss: 18.6125 - mae: 18.6125\n",
            "Epoch 141/500\n",
            "2/2 [==============================] - 0s 10ms/step - loss: 8.3203 - mae: 8.3203\n",
            "Epoch 142/500\n",
            "2/2 [==============================] - 0s 8ms/step - loss: 33.3273 - mae: 33.3273\n",
            "Epoch 143/500\n",
            "2/2 [==============================] - 0s 9ms/step - loss: 23.4333 - mae: 23.4333\n",
            "Epoch 144/500\n",
            "2/2 [==============================] - 0s 7ms/step - loss: 10.4768 - mae: 10.4768\n",
            "Epoch 145/500\n",
            "2/2 [==============================] - 0s 7ms/step - loss: 25.8091 - mae: 25.8091\n",
            "Epoch 146/500\n",
            "2/2 [==============================] - 0s 10ms/step - loss: 9.9955 - mae: 9.9955\n",
            "Epoch 147/500\n",
            "2/2 [==============================] - 0s 8ms/step - loss: 14.7078 - mae: 14.7078\n",
            "Epoch 148/500\n",
            "2/2 [==============================] - 0s 7ms/step - loss: 17.8100 - mae: 17.8100\n",
            "Epoch 149/500\n",
            "2/2 [==============================] - 0s 8ms/step - loss: 8.4856 - mae: 8.4856\n",
            "Epoch 150/500\n",
            "2/2 [==============================] - 0s 7ms/step - loss: 7.6347 - mae: 7.6347\n",
            "Epoch 151/500\n",
            "2/2 [==============================] - 0s 19ms/step - loss: 18.9249 - mae: 18.9249\n",
            "Epoch 152/500\n",
            "2/2 [==============================] - 0s 8ms/step - loss: 10.4870 - mae: 10.4870\n",
            "Epoch 153/500\n",
            "2/2 [==============================] - 0s 9ms/step - loss: 30.4999 - mae: 30.4999\n",
            "Epoch 154/500\n",
            "2/2 [==============================] - 0s 10ms/step - loss: 9.9714 - mae: 9.9714\n",
            "Epoch 155/500\n",
            "2/2 [==============================] - 0s 11ms/step - loss: 15.7214 - mae: 15.7214\n",
            "Epoch 156/500\n",
            "2/2 [==============================] - 0s 9ms/step - loss: 17.6084 - mae: 17.6084\n",
            "Epoch 157/500\n",
            "2/2 [==============================] - 0s 19ms/step - loss: 31.2753 - mae: 31.2753\n",
            "Epoch 158/500\n",
            "2/2 [==============================] - 0s 12ms/step - loss: 10.2653 - mae: 10.2653\n",
            "Epoch 159/500\n",
            "2/2 [==============================] - 0s 9ms/step - loss: 8.7148 - mae: 8.7148\n",
            "Epoch 160/500\n",
            "2/2 [==============================] - 0s 11ms/step - loss: 20.8619 - mae: 20.8619\n",
            "Epoch 161/500\n",
            "2/2 [==============================] - 0s 12ms/step - loss: 11.8647 - mae: 11.8647\n",
            "Epoch 162/500\n",
            "2/2 [==============================] - 0s 13ms/step - loss: 21.8440 - mae: 21.8440\n",
            "Epoch 163/500\n",
            "2/2 [==============================] - 0s 9ms/step - loss: 19.5116 - mae: 19.5116\n",
            "Epoch 164/500\n",
            "2/2 [==============================] - 0s 9ms/step - loss: 11.4175 - mae: 11.4175\n",
            "Epoch 165/500\n",
            "2/2 [==============================] - 0s 11ms/step - loss: 11.6186 - mae: 11.6186\n",
            "Epoch 166/500\n",
            "2/2 [==============================] - 0s 12ms/step - loss: 21.3688 - mae: 21.3688\n",
            "Epoch 167/500\n",
            "2/2 [==============================] - 0s 13ms/step - loss: 26.8562 - mae: 26.8562\n",
            "Epoch 168/500\n",
            "2/2 [==============================] - 0s 12ms/step - loss: 10.0134 - mae: 10.0134\n",
            "Epoch 169/500\n",
            "2/2 [==============================] - 0s 10ms/step - loss: 23.0933 - mae: 23.0933\n",
            "Epoch 170/500\n",
            "2/2 [==============================] - 0s 10ms/step - loss: 9.6082 - mae: 9.6082\n",
            "Epoch 171/500\n",
            "2/2 [==============================] - 0s 15ms/step - loss: 15.8726 - mae: 15.8726\n",
            "Epoch 172/500\n",
            "2/2 [==============================] - 0s 12ms/step - loss: 13.9043 - mae: 13.9043\n",
            "Epoch 173/500\n",
            "2/2 [==============================] - 0s 11ms/step - loss: 22.6030 - mae: 22.6030\n",
            "Epoch 174/500\n",
            "2/2 [==============================] - 0s 15ms/step - loss: 10.7635 - mae: 10.7635\n",
            "Epoch 175/500\n",
            "2/2 [==============================] - 0s 11ms/step - loss: 24.0505 - mae: 24.0505\n",
            "Epoch 176/500\n",
            "2/2 [==============================] - 0s 9ms/step - loss: 7.8651 - mae: 7.8651\n",
            "Epoch 177/500\n",
            "2/2 [==============================] - 0s 12ms/step - loss: 8.9497 - mae: 8.9497\n",
            "Epoch 178/500\n",
            "2/2 [==============================] - 0s 11ms/step - loss: 16.8608 - mae: 16.8608\n",
            "Epoch 179/500\n",
            "2/2 [==============================] - 0s 12ms/step - loss: 9.8836 - mae: 9.8836\n",
            "Epoch 180/500\n",
            "2/2 [==============================] - 0s 12ms/step - loss: 7.8978 - mae: 7.8978\n",
            "Epoch 181/500\n",
            "2/2 [==============================] - 0s 11ms/step - loss: 17.3869 - mae: 17.3869\n",
            "Epoch 182/500\n",
            "2/2 [==============================] - 0s 10ms/step - loss: 11.0052 - mae: 11.0052\n",
            "Epoch 183/500\n",
            "2/2 [==============================] - 0s 12ms/step - loss: 11.6969 - mae: 11.6969\n",
            "Epoch 184/500\n",
            "2/2 [==============================] - 0s 12ms/step - loss: 30.3808 - mae: 30.3808\n",
            "Epoch 185/500\n",
            "2/2 [==============================] - 0s 10ms/step - loss: 8.1742 - mae: 8.1742\n",
            "Epoch 186/500\n",
            "2/2 [==============================] - 0s 11ms/step - loss: 22.6819 - mae: 22.6819\n",
            "Epoch 187/500\n",
            "2/2 [==============================] - 0s 14ms/step - loss: 19.2618 - mae: 19.2618\n",
            "Epoch 188/500\n",
            "2/2 [==============================] - 0s 9ms/step - loss: 13.6807 - mae: 13.6807\n",
            "Epoch 189/500\n",
            "2/2 [==============================] - 0s 13ms/step - loss: 15.0572 - mae: 15.0572\n",
            "Epoch 190/500\n",
            "2/2 [==============================] - 0s 10ms/step - loss: 20.5912 - mae: 20.5912\n",
            "Epoch 191/500\n",
            "2/2 [==============================] - 0s 10ms/step - loss: 22.2857 - mae: 22.2857\n",
            "Epoch 192/500\n",
            "2/2 [==============================] - 0s 13ms/step - loss: 10.0254 - mae: 10.0254\n",
            "Epoch 193/500\n",
            "2/2 [==============================] - 0s 12ms/step - loss: 28.5998 - mae: 28.5998\n",
            "Epoch 194/500\n",
            "2/2 [==============================] - 0s 10ms/step - loss: 7.0755 - mae: 7.0755\n",
            "Epoch 195/500\n",
            "2/2 [==============================] - 0s 7ms/step - loss: 7.0851 - mae: 7.0851\n",
            "Epoch 196/500\n",
            "2/2 [==============================] - 0s 7ms/step - loss: 22.0538 - mae: 22.0538\n",
            "Epoch 197/500\n",
            "2/2 [==============================] - 0s 12ms/step - loss: 20.7461 - mae: 20.7461\n",
            "Epoch 198/500\n",
            "2/2 [==============================] - 0s 13ms/step - loss: 12.4236 - mae: 12.4236\n",
            "Epoch 199/500\n",
            "2/2 [==============================] - 0s 9ms/step - loss: 17.8226 - mae: 17.8226\n",
            "Epoch 200/500\n",
            "2/2 [==============================] - 0s 11ms/step - loss: 13.6701 - mae: 13.6701\n",
            "Epoch 201/500\n",
            "2/2 [==============================] - 0s 11ms/step - loss: 5.5070 - mae: 5.5070\n",
            "Epoch 202/500\n",
            "2/2 [==============================] - 0s 11ms/step - loss: 13.6215 - mae: 13.6215\n",
            "Epoch 203/500\n",
            "2/2 [==============================] - 0s 12ms/step - loss: 9.4138 - mae: 9.4138\n",
            "Epoch 204/500\n",
            "2/2 [==============================] - 0s 8ms/step - loss: 20.8212 - mae: 20.8212\n",
            "Epoch 205/500\n",
            "2/2 [==============================] - 0s 10ms/step - loss: 9.5220 - mae: 9.5220\n",
            "Epoch 206/500\n",
            "2/2 [==============================] - 0s 8ms/step - loss: 11.1612 - mae: 11.1612\n",
            "Epoch 207/500\n",
            "2/2 [==============================] - 0s 9ms/step - loss: 17.7082 - mae: 17.7082\n",
            "Epoch 208/500\n",
            "2/2 [==============================] - 0s 13ms/step - loss: 14.4067 - mae: 14.4067\n",
            "Epoch 209/500\n",
            "2/2 [==============================] - 0s 19ms/step - loss: 16.7335 - mae: 16.7335\n",
            "Epoch 210/500\n",
            "2/2 [==============================] - 0s 12ms/step - loss: 18.2531 - mae: 18.2531\n",
            "Epoch 211/500\n",
            "2/2 [==============================] - 0s 11ms/step - loss: 9.9698 - mae: 9.9698\n",
            "Epoch 212/500\n",
            "2/2 [==============================] - 0s 8ms/step - loss: 18.7338 - mae: 18.7338\n",
            "Epoch 213/500\n",
            "2/2 [==============================] - 0s 11ms/step - loss: 14.9445 - mae: 14.9445\n",
            "Epoch 214/500\n",
            "2/2 [==============================] - 0s 7ms/step - loss: 14.5300 - mae: 14.5300\n",
            "Epoch 215/500\n",
            "2/2 [==============================] - 0s 14ms/step - loss: 23.1745 - mae: 23.1745\n",
            "Epoch 216/500\n",
            "2/2 [==============================] - 0s 13ms/step - loss: 13.5925 - mae: 13.5925\n",
            "Epoch 217/500\n",
            "2/2 [==============================] - 0s 9ms/step - loss: 10.0593 - mae: 10.0593\n",
            "Epoch 218/500\n",
            "2/2 [==============================] - 0s 9ms/step - loss: 12.4225 - mae: 12.4225\n",
            "Epoch 219/500\n",
            "2/2 [==============================] - 0s 13ms/step - loss: 5.8645 - mae: 5.8645\n",
            "Epoch 220/500\n",
            "2/2 [==============================] - 0s 15ms/step - loss: 10.1996 - mae: 10.1996\n",
            "Epoch 221/500\n",
            "2/2 [==============================] - 0s 17ms/step - loss: 28.8719 - mae: 28.8719\n",
            "Epoch 222/500\n",
            "2/2 [==============================] - 0s 13ms/step - loss: 28.0583 - mae: 28.0583\n",
            "Epoch 223/500\n",
            "2/2 [==============================] - 0s 10ms/step - loss: 10.0798 - mae: 10.0798\n",
            "Epoch 224/500\n",
            "2/2 [==============================] - 0s 10ms/step - loss: 14.6284 - mae: 14.6284\n",
            "Epoch 225/500\n",
            "2/2 [==============================] - 0s 14ms/step - loss: 16.6448 - mae: 16.6448\n",
            "Epoch 226/500\n",
            "2/2 [==============================] - 0s 11ms/step - loss: 15.8665 - mae: 15.8665\n",
            "Epoch 227/500\n",
            "2/2 [==============================] - 0s 9ms/step - loss: 16.0858 - mae: 16.0858\n",
            "Epoch 228/500\n",
            "2/2 [==============================] - 0s 8ms/step - loss: 13.8648 - mae: 13.8648\n",
            "Epoch 229/500\n",
            "2/2 [==============================] - 0s 8ms/step - loss: 17.9835 - mae: 17.9835\n",
            "Epoch 230/500\n",
            "2/2 [==============================] - 0s 9ms/step - loss: 15.5764 - mae: 15.5764\n",
            "Epoch 231/500\n",
            "2/2 [==============================] - 0s 8ms/step - loss: 21.1017 - mae: 21.1017\n",
            "Epoch 232/500\n",
            "2/2 [==============================] - 0s 8ms/step - loss: 25.5051 - mae: 25.5051\n",
            "Epoch 233/500\n",
            "2/2 [==============================] - 0s 7ms/step - loss: 16.5054 - mae: 16.5054\n",
            "Epoch 234/500\n",
            "2/2 [==============================] - 0s 8ms/step - loss: 7.3571 - mae: 7.3571\n",
            "Epoch 235/500\n",
            "2/2 [==============================] - 0s 9ms/step - loss: 17.1451 - mae: 17.1451\n",
            "Epoch 236/500\n",
            "2/2 [==============================] - 0s 8ms/step - loss: 7.2172 - mae: 7.2172\n",
            "Epoch 237/500\n",
            "2/2 [==============================] - 0s 9ms/step - loss: 9.3155 - mae: 9.3155\n",
            "Epoch 238/500\n",
            "2/2 [==============================] - 0s 8ms/step - loss: 8.1730 - mae: 8.1730\n",
            "Epoch 239/500\n",
            "2/2 [==============================] - 0s 9ms/step - loss: 17.1662 - mae: 17.1662\n",
            "Epoch 240/500\n",
            "2/2 [==============================] - 0s 8ms/step - loss: 8.9450 - mae: 8.9450\n",
            "Epoch 241/500\n",
            "2/2 [==============================] - 0s 9ms/step - loss: 13.2598 - mae: 13.2598\n",
            "Epoch 242/500\n",
            "2/2 [==============================] - 0s 8ms/step - loss: 8.8554 - mae: 8.8554\n",
            "Epoch 243/500\n",
            "2/2 [==============================] - 0s 11ms/step - loss: 18.8976 - mae: 18.8976\n",
            "Epoch 244/500\n",
            "2/2 [==============================] - 0s 12ms/step - loss: 14.0506 - mae: 14.0506\n",
            "Epoch 245/500\n",
            "2/2 [==============================] - 0s 10ms/step - loss: 14.6793 - mae: 14.6793\n",
            "Epoch 246/500\n",
            "2/2 [==============================] - 0s 9ms/step - loss: 15.8115 - mae: 15.8115\n",
            "Epoch 247/500\n",
            "2/2 [==============================] - 0s 12ms/step - loss: 17.6897 - mae: 17.6897\n",
            "Epoch 248/500\n",
            "2/2 [==============================] - 0s 8ms/step - loss: 13.2468 - mae: 13.2468\n",
            "Epoch 249/500\n",
            "2/2 [==============================] - 0s 9ms/step - loss: 14.5222 - mae: 14.5222\n",
            "Epoch 250/500\n",
            "2/2 [==============================] - 0s 10ms/step - loss: 23.2451 - mae: 23.2451\n",
            "Epoch 251/500\n",
            "2/2 [==============================] - 0s 9ms/step - loss: 9.3327 - mae: 9.3327\n",
            "Epoch 252/500\n",
            "2/2 [==============================] - 0s 9ms/step - loss: 36.6130 - mae: 36.6130\n",
            "Epoch 253/500\n",
            "2/2 [==============================] - 0s 9ms/step - loss: 21.7987 - mae: 21.7987\n",
            "Epoch 254/500\n",
            "2/2 [==============================] - 0s 8ms/step - loss: 7.3143 - mae: 7.3143\n",
            "Epoch 255/500\n",
            "2/2 [==============================] - 0s 8ms/step - loss: 24.6655 - mae: 24.6655\n",
            "Epoch 256/500\n",
            "2/2 [==============================] - 0s 8ms/step - loss: 12.4250 - mae: 12.4250\n",
            "Epoch 257/500\n",
            "2/2 [==============================] - 0s 8ms/step - loss: 10.5891 - mae: 10.5891\n",
            "Epoch 258/500\n",
            "2/2 [==============================] - 0s 8ms/step - loss: 14.1999 - mae: 14.1999\n",
            "Epoch 259/500\n",
            "2/2 [==============================] - 0s 8ms/step - loss: 11.2656 - mae: 11.2656\n",
            "Epoch 260/500\n",
            "2/2 [==============================] - 0s 8ms/step - loss: 31.5920 - mae: 31.5920\n",
            "Epoch 261/500\n",
            "2/2 [==============================] - 0s 8ms/step - loss: 11.1873 - mae: 11.1873\n",
            "Epoch 262/500\n",
            "2/2 [==============================] - 0s 10ms/step - loss: 10.0416 - mae: 10.0416\n",
            "Epoch 263/500\n",
            "2/2 [==============================] - 0s 9ms/step - loss: 8.9554 - mae: 8.9554\n",
            "Epoch 264/500\n",
            "2/2 [==============================] - 0s 8ms/step - loss: 21.4781 - mae: 21.4781\n",
            "Epoch 265/500\n",
            "2/2 [==============================] - 0s 8ms/step - loss: 11.4583 - mae: 11.4583\n",
            "Epoch 266/500\n",
            "2/2 [==============================] - 0s 8ms/step - loss: 13.2977 - mae: 13.2977\n",
            "Epoch 267/500\n",
            "2/2 [==============================] - 0s 7ms/step - loss: 11.0876 - mae: 11.0876\n",
            "Epoch 268/500\n",
            "2/2 [==============================] - 0s 8ms/step - loss: 19.1661 - mae: 19.1661\n",
            "Epoch 269/500\n",
            "2/2 [==============================] - 0s 10ms/step - loss: 40.6811 - mae: 40.6811\n",
            "Epoch 270/500\n",
            "2/2 [==============================] - 0s 8ms/step - loss: 12.9172 - mae: 12.9172\n",
            "Epoch 271/500\n",
            "2/2 [==============================] - 0s 8ms/step - loss: 14.7671 - mae: 14.7671\n",
            "Epoch 272/500\n",
            "2/2 [==============================] - 0s 8ms/step - loss: 28.5142 - mae: 28.5142\n",
            "Epoch 273/500\n",
            "2/2 [==============================] - 0s 7ms/step - loss: 7.3704 - mae: 7.3704\n",
            "Epoch 274/500\n",
            "2/2 [==============================] - 0s 8ms/step - loss: 6.3599 - mae: 6.3599\n",
            "Epoch 275/500\n",
            "2/2 [==============================] - 0s 8ms/step - loss: 36.8894 - mae: 36.8894\n",
            "Epoch 276/500\n",
            "2/2 [==============================] - 0s 8ms/step - loss: 8.2924 - mae: 8.2924\n",
            "Epoch 277/500\n",
            "2/2 [==============================] - 0s 8ms/step - loss: 27.7114 - mae: 27.7114\n",
            "Epoch 278/500\n",
            "2/2 [==============================] - 0s 8ms/step - loss: 10.6806 - mae: 10.6806\n",
            "Epoch 279/500\n",
            "2/2 [==============================] - 0s 10ms/step - loss: 16.1107 - mae: 16.1107\n",
            "Epoch 280/500\n",
            "2/2 [==============================] - 0s 9ms/step - loss: 21.2369 - mae: 21.2369\n",
            "Epoch 281/500\n",
            "2/2 [==============================] - 0s 9ms/step - loss: 23.7907 - mae: 23.7907\n",
            "Epoch 282/500\n",
            "2/2 [==============================] - 0s 16ms/step - loss: 8.2654 - mae: 8.2654\n",
            "Epoch 283/500\n",
            "2/2 [==============================] - 0s 8ms/step - loss: 8.4465 - mae: 8.4465\n",
            "Epoch 284/500\n",
            "2/2 [==============================] - 0s 10ms/step - loss: 26.6296 - mae: 26.6296\n",
            "Epoch 285/500\n",
            "2/2 [==============================] - 0s 9ms/step - loss: 14.2326 - mae: 14.2326\n",
            "Epoch 286/500\n",
            "2/2 [==============================] - 0s 8ms/step - loss: 5.2628 - mae: 5.2628\n",
            "Epoch 287/500\n",
            "2/2 [==============================] - 0s 8ms/step - loss: 20.8165 - mae: 20.8165\n",
            "Epoch 288/500\n",
            "2/2 [==============================] - 0s 8ms/step - loss: 27.6206 - mae: 27.6206\n",
            "Epoch 289/500\n",
            "2/2 [==============================] - 0s 8ms/step - loss: 10.4321 - mae: 10.4321\n",
            "Epoch 290/500\n",
            "2/2 [==============================] - 0s 10ms/step - loss: 16.3051 - mae: 16.3051\n",
            "Epoch 291/500\n",
            "2/2 [==============================] - 0s 10ms/step - loss: 16.4917 - mae: 16.4917\n",
            "Epoch 292/500\n",
            "2/2 [==============================] - 0s 8ms/step - loss: 7.4274 - mae: 7.4274\n",
            "Epoch 293/500\n",
            "2/2 [==============================] - 0s 8ms/step - loss: 16.5440 - mae: 16.5440\n",
            "Epoch 294/500\n",
            "2/2 [==============================] - 0s 8ms/step - loss: 25.3285 - mae: 25.3285\n",
            "Epoch 295/500\n",
            "2/2 [==============================] - 0s 7ms/step - loss: 14.5931 - mae: 14.5931\n",
            "Epoch 296/500\n",
            "2/2 [==============================] - 0s 8ms/step - loss: 4.6667 - mae: 4.6667\n",
            "Epoch 297/500\n",
            "2/2 [==============================] - 0s 8ms/step - loss: 7.2853 - mae: 7.2853\n",
            "Epoch 298/500\n",
            "2/2 [==============================] - 0s 14ms/step - loss: 19.6374 - mae: 19.6374\n",
            "Epoch 299/500\n",
            "2/2 [==============================] - 0s 12ms/step - loss: 6.6201 - mae: 6.6201\n",
            "Epoch 300/500\n",
            "2/2 [==============================] - 0s 10ms/step - loss: 22.0913 - mae: 22.0913\n",
            "Epoch 301/500\n",
            "2/2 [==============================] - 0s 8ms/step - loss: 9.1435 - mae: 9.1435\n",
            "Epoch 302/500\n",
            "2/2 [==============================] - 0s 9ms/step - loss: 11.2100 - mae: 11.2100\n",
            "Epoch 303/500\n",
            "2/2 [==============================] - 0s 8ms/step - loss: 9.3455 - mae: 9.3455\n",
            "Epoch 304/500\n",
            "2/2 [==============================] - 0s 7ms/step - loss: 23.7402 - mae: 23.7402\n",
            "Epoch 305/500\n",
            "2/2 [==============================] - 0s 7ms/step - loss: 7.9269 - mae: 7.9269\n",
            "Epoch 306/500\n",
            "2/2 [==============================] - 0s 7ms/step - loss: 23.8022 - mae: 23.8022\n",
            "Epoch 307/500\n",
            "2/2 [==============================] - 0s 7ms/step - loss: 5.1191 - mae: 5.1191\n",
            "Epoch 308/500\n",
            "2/2 [==============================] - 0s 9ms/step - loss: 22.6387 - mae: 22.6387\n",
            "Epoch 309/500\n",
            "2/2 [==============================] - 0s 7ms/step - loss: 19.7098 - mae: 19.7098\n",
            "Epoch 310/500\n",
            "2/2 [==============================] - 0s 10ms/step - loss: 6.1478 - mae: 6.1478\n",
            "Epoch 311/500\n",
            "2/2 [==============================] - 0s 8ms/step - loss: 7.8799 - mae: 7.8799\n",
            "Epoch 312/500\n",
            "2/2 [==============================] - 0s 8ms/step - loss: 30.4454 - mae: 30.4454\n",
            "Epoch 313/500\n",
            "2/2 [==============================] - 0s 8ms/step - loss: 6.8303 - mae: 6.8303\n",
            "Epoch 314/500\n",
            "2/2 [==============================] - 0s 10ms/step - loss: 11.1256 - mae: 11.1256\n",
            "Epoch 315/500\n",
            "2/2 [==============================] - 0s 7ms/step - loss: 23.4181 - mae: 23.4181\n",
            "Epoch 316/500\n",
            "2/2 [==============================] - 0s 7ms/step - loss: 14.6825 - mae: 14.6825\n",
            "Epoch 317/500\n",
            "2/2 [==============================] - 0s 7ms/step - loss: 20.3243 - mae: 20.3243\n",
            "Epoch 318/500\n",
            "2/2 [==============================] - 0s 7ms/step - loss: 8.0916 - mae: 8.0916\n",
            "Epoch 319/500\n",
            "2/2 [==============================] - 0s 9ms/step - loss: 18.4355 - mae: 18.4355\n",
            "Epoch 320/500\n",
            "2/2 [==============================] - 0s 11ms/step - loss: 10.8637 - mae: 10.8637\n",
            "Epoch 321/500\n",
            "2/2 [==============================] - 0s 8ms/step - loss: 7.1643 - mae: 7.1643\n",
            "Epoch 322/500\n",
            "2/2 [==============================] - 0s 9ms/step - loss: 8.5977 - mae: 8.5977\n",
            "Epoch 323/500\n",
            "2/2 [==============================] - 0s 11ms/step - loss: 18.2299 - mae: 18.2299\n",
            "Epoch 324/500\n",
            "2/2 [==============================] - 0s 12ms/step - loss: 16.2873 - mae: 16.2873\n",
            "Epoch 325/500\n",
            "2/2 [==============================] - 0s 9ms/step - loss: 18.2366 - mae: 18.2366\n",
            "Epoch 326/500\n",
            "2/2 [==============================] - 0s 8ms/step - loss: 22.5326 - mae: 22.5326\n",
            "Epoch 327/500\n",
            "2/2 [==============================] - 0s 8ms/step - loss: 8.5396 - mae: 8.5396\n",
            "Epoch 328/500\n",
            "2/2 [==============================] - 0s 7ms/step - loss: 7.0613 - mae: 7.0613\n",
            "Epoch 329/500\n",
            "2/2 [==============================] - 0s 8ms/step - loss: 10.3474 - mae: 10.3474\n",
            "Epoch 330/500\n",
            "2/2 [==============================] - 0s 13ms/step - loss: 9.3669 - mae: 9.3669\n",
            "Epoch 331/500\n",
            "2/2 [==============================] - 0s 7ms/step - loss: 22.6610 - mae: 22.6610\n",
            "Epoch 332/500\n",
            "2/2 [==============================] - 0s 8ms/step - loss: 20.0576 - mae: 20.0576\n",
            "Epoch 333/500\n",
            "2/2 [==============================] - 0s 9ms/step - loss: 11.1245 - mae: 11.1245\n",
            "Epoch 334/500\n",
            "2/2 [==============================] - 0s 10ms/step - loss: 9.0095 - mae: 9.0095\n",
            "Epoch 335/500\n",
            "2/2 [==============================] - 0s 12ms/step - loss: 13.0487 - mae: 13.0487\n",
            "Epoch 336/500\n",
            "2/2 [==============================] - 0s 11ms/step - loss: 32.5079 - mae: 32.5079\n",
            "Epoch 337/500\n",
            "2/2 [==============================] - 0s 10ms/step - loss: 11.0427 - mae: 11.0427\n",
            "Epoch 338/500\n",
            "2/2 [==============================] - 0s 13ms/step - loss: 19.9598 - mae: 19.9598\n",
            "Epoch 339/500\n",
            "2/2 [==============================] - 0s 11ms/step - loss: 34.2974 - mae: 34.2974\n",
            "Epoch 340/500\n",
            "2/2 [==============================] - 0s 12ms/step - loss: 9.2506 - mae: 9.2506\n",
            "Epoch 341/500\n",
            "2/2 [==============================] - 0s 9ms/step - loss: 17.2824 - mae: 17.2824\n",
            "Epoch 342/500\n",
            "2/2 [==============================] - 0s 10ms/step - loss: 14.9161 - mae: 14.9161\n",
            "Epoch 343/500\n",
            "2/2 [==============================] - 0s 10ms/step - loss: 12.7064 - mae: 12.7064\n",
            "Epoch 344/500\n",
            "2/2 [==============================] - 0s 11ms/step - loss: 12.0054 - mae: 12.0054\n",
            "Epoch 345/500\n",
            "2/2 [==============================] - 0s 10ms/step - loss: 30.4902 - mae: 30.4902\n",
            "Epoch 346/500\n",
            "2/2 [==============================] - 0s 11ms/step - loss: 9.3086 - mae: 9.3086\n",
            "Epoch 347/500\n",
            "2/2 [==============================] - 0s 11ms/step - loss: 26.0514 - mae: 26.0514\n",
            "Epoch 348/500\n",
            "2/2 [==============================] - 0s 9ms/step - loss: 11.9846 - mae: 11.9846\n",
            "Epoch 349/500\n",
            "2/2 [==============================] - 0s 8ms/step - loss: 12.7527 - mae: 12.7527\n",
            "Epoch 350/500\n",
            "2/2 [==============================] - 0s 8ms/step - loss: 15.3004 - mae: 15.3004\n",
            "Epoch 351/500\n",
            "2/2 [==============================] - 0s 12ms/step - loss: 32.6996 - mae: 32.6996\n",
            "Epoch 352/500\n",
            "2/2 [==============================] - 0s 8ms/step - loss: 13.7134 - mae: 13.7134\n",
            "Epoch 353/500\n",
            "2/2 [==============================] - 0s 11ms/step - loss: 17.6541 - mae: 17.6541\n",
            "Epoch 354/500\n",
            "2/2 [==============================] - 0s 12ms/step - loss: 11.2858 - mae: 11.2858\n",
            "Epoch 355/500\n",
            "2/2 [==============================] - 0s 7ms/step - loss: 26.6498 - mae: 26.6498\n",
            "Epoch 356/500\n",
            "2/2 [==============================] - 0s 8ms/step - loss: 10.3227 - mae: 10.3227\n",
            "Epoch 357/500\n",
            "2/2 [==============================] - 0s 10ms/step - loss: 15.1695 - mae: 15.1695\n",
            "Epoch 358/500\n",
            "2/2 [==============================] - 0s 11ms/step - loss: 13.5915 - mae: 13.5915\n",
            "Epoch 359/500\n",
            "2/2 [==============================] - 0s 9ms/step - loss: 12.5885 - mae: 12.5885\n",
            "Epoch 360/500\n",
            "2/2 [==============================] - 0s 14ms/step - loss: 20.7901 - mae: 20.7901\n",
            "Epoch 361/500\n",
            "2/2 [==============================] - 0s 8ms/step - loss: 9.5842 - mae: 9.5842\n",
            "Epoch 362/500\n",
            "2/2 [==============================] - 0s 8ms/step - loss: 8.8132 - mae: 8.8132\n",
            "Epoch 363/500\n",
            "2/2 [==============================] - 0s 7ms/step - loss: 21.6516 - mae: 21.6516\n",
            "Epoch 364/500\n",
            "2/2 [==============================] - 0s 10ms/step - loss: 27.7042 - mae: 27.7042\n",
            "Epoch 365/500\n",
            "2/2 [==============================] - 0s 8ms/step - loss: 7.6389 - mae: 7.6389\n",
            "Epoch 366/500\n",
            "2/2 [==============================] - 0s 9ms/step - loss: 6.0363 - mae: 6.0363\n",
            "Epoch 367/500\n",
            "2/2 [==============================] - 0s 8ms/step - loss: 32.6313 - mae: 32.6313\n",
            "Epoch 368/500\n",
            "2/2 [==============================] - 0s 9ms/step - loss: 6.8673 - mae: 6.8673\n",
            "Epoch 369/500\n",
            "2/2 [==============================] - 0s 8ms/step - loss: 7.7722 - mae: 7.7722\n",
            "Epoch 370/500\n",
            "2/2 [==============================] - 0s 7ms/step - loss: 16.9011 - mae: 16.9011\n",
            "Epoch 371/500\n",
            "2/2 [==============================] - 0s 7ms/step - loss: 6.5627 - mae: 6.5627\n",
            "Epoch 372/500\n",
            "2/2 [==============================] - 0s 8ms/step - loss: 6.4426 - mae: 6.4426\n",
            "Epoch 373/500\n",
            "2/2 [==============================] - 0s 9ms/step - loss: 23.4126 - mae: 23.4126\n",
            "Epoch 374/500\n",
            "2/2 [==============================] - 0s 8ms/step - loss: 10.4527 - mae: 10.4527\n",
            "Epoch 375/500\n",
            "2/2 [==============================] - 0s 8ms/step - loss: 13.0518 - mae: 13.0518\n",
            "Epoch 376/500\n",
            "2/2 [==============================] - 0s 7ms/step - loss: 14.9388 - mae: 14.9388\n",
            "Epoch 377/500\n",
            "2/2 [==============================] - 0s 9ms/step - loss: 14.8179 - mae: 14.8179\n",
            "Epoch 378/500\n",
            "2/2 [==============================] - 0s 12ms/step - loss: 16.2922 - mae: 16.2922\n",
            "Epoch 379/500\n",
            "2/2 [==============================] - 0s 9ms/step - loss: 20.8873 - mae: 20.8873\n",
            "Epoch 380/500\n",
            "2/2 [==============================] - 0s 8ms/step - loss: 33.3799 - mae: 33.3799\n",
            "Epoch 381/500\n",
            "2/2 [==============================] - 0s 8ms/step - loss: 8.1456 - mae: 8.1456\n",
            "Epoch 382/500\n",
            "2/2 [==============================] - 0s 8ms/step - loss: 13.0122 - mae: 13.0122\n",
            "Epoch 383/500\n",
            "2/2 [==============================] - 0s 8ms/step - loss: 8.4406 - mae: 8.4406\n",
            "Epoch 384/500\n",
            "2/2 [==============================] - 0s 8ms/step - loss: 7.0489 - mae: 7.0489\n",
            "Epoch 385/500\n",
            "2/2 [==============================] - 0s 11ms/step - loss: 10.9457 - mae: 10.9457\n",
            "Epoch 386/500\n",
            "2/2 [==============================] - 0s 8ms/step - loss: 19.8003 - mae: 19.8003\n",
            "Epoch 387/500\n",
            "2/2 [==============================] - 0s 10ms/step - loss: 24.7818 - mae: 24.7818\n",
            "Epoch 388/500\n",
            "2/2 [==============================] - 0s 27ms/step - loss: 8.6824 - mae: 8.6824\n",
            "Epoch 389/500\n",
            "2/2 [==============================] - 0s 17ms/step - loss: 5.9097 - mae: 5.9097\n",
            "Epoch 390/500\n",
            "2/2 [==============================] - 0s 11ms/step - loss: 24.3720 - mae: 24.3720\n",
            "Epoch 391/500\n",
            "2/2 [==============================] - 0s 12ms/step - loss: 5.9328 - mae: 5.9328\n",
            "Epoch 392/500\n",
            "2/2 [==============================] - 0s 14ms/step - loss: 16.2666 - mae: 16.2666\n",
            "Epoch 393/500\n",
            "2/2 [==============================] - 0s 8ms/step - loss: 6.0468 - mae: 6.0468\n",
            "Epoch 394/500\n",
            "2/2 [==============================] - 0s 10ms/step - loss: 11.0615 - mae: 11.0615\n",
            "Epoch 395/500\n",
            "2/2 [==============================] - 0s 11ms/step - loss: 14.9230 - mae: 14.9230\n",
            "Epoch 396/500\n",
            "2/2 [==============================] - 0s 9ms/step - loss: 7.6023 - mae: 7.6023\n",
            "Epoch 397/500\n",
            "2/2 [==============================] - 0s 9ms/step - loss: 8.7355 - mae: 8.7355\n",
            "Epoch 398/500\n",
            "2/2 [==============================] - 0s 9ms/step - loss: 14.5821 - mae: 14.5821\n",
            "Epoch 399/500\n",
            "2/2 [==============================] - 0s 10ms/step - loss: 11.3041 - mae: 11.3041\n",
            "Epoch 400/500\n",
            "2/2 [==============================] - 0s 8ms/step - loss: 21.9064 - mae: 21.9064\n",
            "Epoch 401/500\n",
            "2/2 [==============================] - 0s 9ms/step - loss: 14.8729 - mae: 14.8729\n",
            "Epoch 402/500\n",
            "2/2 [==============================] - 0s 10ms/step - loss: 8.4603 - mae: 8.4603\n",
            "Epoch 403/500\n",
            "2/2 [==============================] - 0s 9ms/step - loss: 10.3938 - mae: 10.3938\n",
            "Epoch 404/500\n",
            "2/2 [==============================] - 0s 10ms/step - loss: 10.2459 - mae: 10.2459\n",
            "Epoch 405/500\n",
            "2/2 [==============================] - 0s 7ms/step - loss: 6.3088 - mae: 6.3088\n",
            "Epoch 406/500\n",
            "2/2 [==============================] - 0s 9ms/step - loss: 19.7154 - mae: 19.7154\n",
            "Epoch 407/500\n",
            "2/2 [==============================] - 0s 12ms/step - loss: 9.7265 - mae: 9.7265\n",
            "Epoch 408/500\n",
            "2/2 [==============================] - 0s 12ms/step - loss: 21.4217 - mae: 21.4217\n",
            "Epoch 409/500\n",
            "2/2 [==============================] - 0s 8ms/step - loss: 29.2795 - mae: 29.2795\n",
            "Epoch 410/500\n",
            "2/2 [==============================] - 0s 8ms/step - loss: 10.3852 - mae: 10.3852\n",
            "Epoch 411/500\n",
            "2/2 [==============================] - 0s 9ms/step - loss: 14.5996 - mae: 14.5996\n",
            "Epoch 412/500\n",
            "2/2 [==============================] - 0s 9ms/step - loss: 21.2715 - mae: 21.2715\n",
            "Epoch 413/500\n",
            "2/2 [==============================] - 0s 11ms/step - loss: 7.1146 - mae: 7.1146\n",
            "Epoch 414/500\n",
            "2/2 [==============================] - 0s 10ms/step - loss: 17.8298 - mae: 17.8298\n",
            "Epoch 415/500\n",
            "2/2 [==============================] - 0s 10ms/step - loss: 12.3918 - mae: 12.3918\n",
            "Epoch 416/500\n",
            "2/2 [==============================] - 0s 8ms/step - loss: 26.2897 - mae: 26.2897\n",
            "Epoch 417/500\n",
            "2/2 [==============================] - 0s 11ms/step - loss: 13.8862 - mae: 13.8862\n",
            "Epoch 418/500\n",
            "2/2 [==============================] - 0s 13ms/step - loss: 13.1177 - mae: 13.1177\n",
            "Epoch 419/500\n",
            "2/2 [==============================] - 0s 13ms/step - loss: 16.0629 - mae: 16.0629\n",
            "Epoch 420/500\n",
            "2/2 [==============================] - 0s 9ms/step - loss: 25.1365 - mae: 25.1365\n",
            "Epoch 421/500\n",
            "2/2 [==============================] - 0s 10ms/step - loss: 16.4277 - mae: 16.4277\n",
            "Epoch 422/500\n",
            "2/2 [==============================] - 0s 11ms/step - loss: 8.6967 - mae: 8.6967\n",
            "Epoch 423/500\n",
            "2/2 [==============================] - 0s 11ms/step - loss: 24.8604 - mae: 24.8604\n",
            "Epoch 424/500\n",
            "2/2 [==============================] - 0s 10ms/step - loss: 16.3690 - mae: 16.3690\n",
            "Epoch 425/500\n",
            "2/2 [==============================] - 0s 10ms/step - loss: 7.1832 - mae: 7.1832\n",
            "Epoch 426/500\n",
            "2/2 [==============================] - 0s 12ms/step - loss: 20.4906 - mae: 20.4906\n",
            "Epoch 427/500\n",
            "2/2 [==============================] - 0s 11ms/step - loss: 6.3523 - mae: 6.3523\n",
            "Epoch 428/500\n",
            "2/2 [==============================] - 0s 8ms/step - loss: 13.1093 - mae: 13.1093\n",
            "Epoch 429/500\n",
            "2/2 [==============================] - 0s 9ms/step - loss: 10.8836 - mae: 10.8836\n",
            "Epoch 430/500\n",
            "2/2 [==============================] - 0s 8ms/step - loss: 11.7496 - mae: 11.7496\n",
            "Epoch 431/500\n",
            "2/2 [==============================] - 0s 9ms/step - loss: 7.9183 - mae: 7.9183\n",
            "Epoch 432/500\n",
            "2/2 [==============================] - 0s 16ms/step - loss: 22.1755 - mae: 22.1755\n",
            "Epoch 433/500\n",
            "2/2 [==============================] - 0s 11ms/step - loss: 5.9119 - mae: 5.9119\n",
            "Epoch 434/500\n",
            "2/2 [==============================] - 0s 12ms/step - loss: 32.6565 - mae: 32.6565\n",
            "Epoch 435/500\n",
            "2/2 [==============================] - 0s 14ms/step - loss: 13.4912 - mae: 13.4912\n",
            "Epoch 436/500\n",
            "2/2 [==============================] - 0s 8ms/step - loss: 29.0718 - mae: 29.0718\n",
            "Epoch 437/500\n",
            "2/2 [==============================] - 0s 11ms/step - loss: 9.1886 - mae: 9.1886\n",
            "Epoch 438/500\n",
            "2/2 [==============================] - 0s 14ms/step - loss: 12.6721 - mae: 12.6721\n",
            "Epoch 439/500\n",
            "2/2 [==============================] - 0s 9ms/step - loss: 33.5208 - mae: 33.5208\n",
            "Epoch 440/500\n",
            "2/2 [==============================] - 0s 9ms/step - loss: 14.8524 - mae: 14.8524\n",
            "Epoch 441/500\n",
            "2/2 [==============================] - 0s 16ms/step - loss: 17.2992 - mae: 17.2992\n",
            "Epoch 442/500\n",
            "2/2 [==============================] - 0s 10ms/step - loss: 21.9305 - mae: 21.9305\n",
            "Epoch 443/500\n",
            "2/2 [==============================] - 0s 9ms/step - loss: 24.4785 - mae: 24.4785\n",
            "Epoch 444/500\n",
            "2/2 [==============================] - 0s 13ms/step - loss: 11.7140 - mae: 11.7140\n",
            "Epoch 445/500\n",
            "2/2 [==============================] - 0s 10ms/step - loss: 14.6977 - mae: 14.6977\n",
            "Epoch 446/500\n",
            "2/2 [==============================] - 0s 8ms/step - loss: 17.6802 - mae: 17.6802\n",
            "Epoch 447/500\n",
            "2/2 [==============================] - 0s 8ms/step - loss: 5.7534 - mae: 5.7534\n",
            "Epoch 448/500\n",
            "2/2 [==============================] - 0s 8ms/step - loss: 9.4304 - mae: 9.4304\n",
            "Epoch 449/500\n",
            "2/2 [==============================] - 0s 8ms/step - loss: 14.1082 - mae: 14.1082\n",
            "Epoch 450/500\n",
            "2/2 [==============================] - 0s 7ms/step - loss: 16.8737 - mae: 16.8737\n",
            "Epoch 451/500\n",
            "2/2 [==============================] - 0s 8ms/step - loss: 14.3264 - mae: 14.3264\n",
            "Epoch 452/500\n",
            "2/2 [==============================] - 0s 8ms/step - loss: 30.7121 - mae: 30.7121\n",
            "Epoch 453/500\n",
            "2/2 [==============================] - 0s 10ms/step - loss: 8.3897 - mae: 8.3897\n",
            "Epoch 454/500\n",
            "2/2 [==============================] - 0s 10ms/step - loss: 27.6145 - mae: 27.6145\n",
            "Epoch 455/500\n",
            "2/2 [==============================] - 0s 16ms/step - loss: 10.0226 - mae: 10.0226\n",
            "Epoch 456/500\n",
            "2/2 [==============================] - 0s 9ms/step - loss: 14.5554 - mae: 14.5554\n",
            "Epoch 457/500\n",
            "2/2 [==============================] - 0s 8ms/step - loss: 17.7094 - mae: 17.7094\n",
            "Epoch 458/500\n",
            "2/2 [==============================] - 0s 8ms/step - loss: 14.0099 - mae: 14.0099\n",
            "Epoch 459/500\n",
            "2/2 [==============================] - 0s 8ms/step - loss: 25.9116 - mae: 25.9116\n",
            "Epoch 460/500\n",
            "2/2 [==============================] - 0s 9ms/step - loss: 15.0218 - mae: 15.0218\n",
            "Epoch 461/500\n",
            "2/2 [==============================] - 0s 8ms/step - loss: 11.9219 - mae: 11.9219\n",
            "Epoch 462/500\n",
            "2/2 [==============================] - 0s 18ms/step - loss: 13.2707 - mae: 13.2707\n",
            "Epoch 463/500\n",
            "2/2 [==============================] - 0s 8ms/step - loss: 29.4612 - mae: 29.4612\n",
            "Epoch 464/500\n",
            "2/2 [==============================] - 0s 9ms/step - loss: 3.1910 - mae: 3.1910\n",
            "Epoch 465/500\n",
            "2/2 [==============================] - 0s 10ms/step - loss: 7.5795 - mae: 7.5795\n",
            "Epoch 466/500\n",
            "2/2 [==============================] - 0s 8ms/step - loss: 16.4999 - mae: 16.4999\n",
            "Epoch 467/500\n",
            "2/2 [==============================] - 0s 8ms/step - loss: 17.4663 - mae: 17.4663\n",
            "Epoch 468/500\n",
            "2/2 [==============================] - 0s 9ms/step - loss: 12.9121 - mae: 12.9121\n",
            "Epoch 469/500\n",
            "2/2 [==============================] - 0s 9ms/step - loss: 29.1984 - mae: 29.1984\n",
            "Epoch 470/500\n",
            "2/2 [==============================] - 0s 8ms/step - loss: 7.2454 - mae: 7.2454\n",
            "Epoch 471/500\n",
            "2/2 [==============================] - 0s 9ms/step - loss: 26.3686 - mae: 26.3686\n",
            "Epoch 472/500\n",
            "2/2 [==============================] - 0s 9ms/step - loss: 12.4139 - mae: 12.4139\n",
            "Epoch 473/500\n",
            "2/2 [==============================] - 0s 12ms/step - loss: 14.7594 - mae: 14.7594\n",
            "Epoch 474/500\n",
            "2/2 [==============================] - 0s 10ms/step - loss: 18.6976 - mae: 18.6976\n",
            "Epoch 475/500\n",
            "2/2 [==============================] - 0s 14ms/step - loss: 12.2474 - mae: 12.2474\n",
            "Epoch 476/500\n",
            "2/2 [==============================] - 0s 24ms/step - loss: 13.7086 - mae: 13.7086\n",
            "Epoch 477/500\n",
            "2/2 [==============================] - 0s 10ms/step - loss: 30.3508 - mae: 30.3508\n",
            "Epoch 478/500\n",
            "2/2 [==============================] - 0s 10ms/step - loss: 7.4364 - mae: 7.4364\n",
            "Epoch 479/500\n",
            "2/2 [==============================] - 0s 10ms/step - loss: 11.2980 - mae: 11.2980\n",
            "Epoch 480/500\n",
            "2/2 [==============================] - 0s 10ms/step - loss: 17.9672 - mae: 17.9672\n",
            "Epoch 481/500\n",
            "2/2 [==============================] - 0s 9ms/step - loss: 15.8545 - mae: 15.8545\n",
            "Epoch 482/500\n",
            "2/2 [==============================] - 0s 10ms/step - loss: 21.4194 - mae: 21.4194\n",
            "Epoch 483/500\n",
            "2/2 [==============================] - 0s 17ms/step - loss: 25.1475 - mae: 25.1475\n",
            "Epoch 484/500\n",
            "2/2 [==============================] - 0s 9ms/step - loss: 23.7071 - mae: 23.7071\n",
            "Epoch 485/500\n",
            "2/2 [==============================] - 0s 8ms/step - loss: 5.6831 - mae: 5.6831\n",
            "Epoch 486/500\n",
            "2/2 [==============================] - 0s 9ms/step - loss: 19.7467 - mae: 19.7467\n",
            "Epoch 487/500\n",
            "2/2 [==============================] - 0s 9ms/step - loss: 14.0641 - mae: 14.0641\n",
            "Epoch 488/500\n",
            "2/2 [==============================] - 0s 8ms/step - loss: 30.6610 - mae: 30.6610\n",
            "Epoch 489/500\n",
            "2/2 [==============================] - 0s 10ms/step - loss: 12.0097 - mae: 12.0097\n",
            "Epoch 490/500\n",
            "2/2 [==============================] - 0s 11ms/step - loss: 12.7670 - mae: 12.7670\n",
            "Epoch 491/500\n",
            "2/2 [==============================] - 0s 9ms/step - loss: 23.6897 - mae: 23.6897\n",
            "Epoch 492/500\n",
            "2/2 [==============================] - 0s 13ms/step - loss: 20.3518 - mae: 20.3518\n",
            "Epoch 493/500\n",
            "2/2 [==============================] - 0s 10ms/step - loss: 4.9107 - mae: 4.9107\n",
            "Epoch 494/500\n",
            "2/2 [==============================] - 0s 7ms/step - loss: 12.6357 - mae: 12.6357\n",
            "Epoch 495/500\n",
            "2/2 [==============================] - 0s 9ms/step - loss: 13.4285 - mae: 13.4285\n",
            "Epoch 496/500\n",
            "2/2 [==============================] - 0s 9ms/step - loss: 12.7071 - mae: 12.7071\n",
            "Epoch 497/500\n",
            "2/2 [==============================] - 0s 8ms/step - loss: 17.6753 - mae: 17.6753\n",
            "Epoch 498/500\n",
            "2/2 [==============================] - 0s 12ms/step - loss: 23.4178 - mae: 23.4178\n",
            "Epoch 499/500\n",
            "2/2 [==============================] - 0s 8ms/step - loss: 9.2562 - mae: 9.2562\n",
            "Epoch 500/500\n",
            "2/2 [==============================] - 0s 10ms/step - loss: 14.6308 - mae: 14.6308\n"
          ]
        },
        {
          "output_type": "execute_result",
          "data": {
            "text/plain": [
              "<keras.callbacks.History at 0x7f550efa43a0>"
            ]
          },
          "metadata": {},
          "execution_count": 54
        }
      ],
      "source": [
        "# Set the random seed \n",
        "tf.random.set_seed(42)\n",
        "\n",
        "# 1. Create a model \n",
        "model_3 = tf.keras.Sequential([\n",
        "    tf.keras.layers.Dense(10),\n",
        "    tf.keras.layers.Dense(1)\n",
        "])\n",
        "\n",
        "# 2. Compile the model \n",
        "model_3.compile(loss=tf.keras.losses.mae,\n",
        "                optimizer=tf.keras.optimizers.SGD(),\n",
        "                metrics=[\"mae\"])\n",
        "\n",
        "# 3. Fit the model\n",
        "model_3.fit(tf.expand_dims(X_train, -1), y_train, epochs=500)"
      ]
    },
    {
      "cell_type": "code",
      "execution_count": 55,
      "metadata": {
        "colab": {
          "base_uri": "https://localhost:8080/",
          "height": 532
        },
        "id": "7h7dfsXuiVCn",
        "outputId": "7633af6d-8c9e-4ab1-f515-beb3b8765a4c"
      },
      "outputs": [
        {
          "output_type": "stream",
          "name": "stdout",
          "text": [
            "1/1 [==============================] - 0s 65ms/step\n"
          ]
        },
        {
          "output_type": "display_data",
          "data": {
            "text/plain": [
              "<Figure size 1000x700 with 1 Axes>"
            ],
            "image/png": "[encoded data removed]"
          },
          "metadata": {}
        }
      ],
      "source": [
        "# Make and plot predictions for model_3\n",
        "y_preds_3 = model_3.predict(X_test)\n",
        "plot_predictions(predictions=y_preds_3)"
      ]
    },
    {
      "cell_type": "code",
      "execution_count": 56,
      "metadata": {
        "colab": {
          "base_uri": "https://localhost:8080/"
        },
        "id": "BtaH9vMpic7v",
        "outputId": "c94b208a-65df-43f5-a0e8-a77d9a52998b"
      },
      "outputs": [
        {
          "output_type": "execute_result",
          "data": {
            "text/plain": [
              "(<tf.Tensor: shape=(), dtype=float32, numpy=68.69314>,\n",
              " <tf.Tensor: shape=(), dtype=float32, numpy=4805.296>)"
            ]
          },
          "metadata": {},
          "execution_count": 56
        }
      ],
      "source": [
        "# Calculate model_3 evaluation metrics \n",
        "\n",
        "mae_3 = mae(y_test, y_preds_3)\n",
        "mse_3 = mse(y_test, y_preds_3)\n",
        "mae_3, mse_3"
      ]
    },
    {
      "cell_type": "markdown",
      "metadata": {
        "id": "WsxCCg0ulCIP"
      },
      "source": [
        "🔑 **Note:** You want to start with small experiments (small models) and make sure they work and then increase their scale when necessary.  "
      ]
    },
    {
      "cell_type": "markdown",
      "metadata": {
        "id": "47Nia_iPjqCk"
      },
      "source": [
        "## Comparing the results of our experiments\n",
        "\n",
        "We've run a few experiments, Let's compare the results."
      ]
    },
    {
      "cell_type": "code",
      "execution_count": 57,
      "metadata": {
        "colab": {
          "base_uri": "https://localhost:8080/",
          "height": 143
        },
        "id": "4Z6TDbENkoTY",
        "outputId": "194bd57d-5926-429a-81d3-6c60cf855916"
      },
      "outputs": [
        {
          "output_type": "execute_result",
          "data": {
            "text/plain": [
              "     model        mae          mse\n",
              "0  model_1  21.299194   457.101166\n",
              "1  model_2  26.361767   720.790771\n",
              "2  model_3  68.693138  4805.295898"
            ],
            "text/html": [
              "\n",
              "  <div id=\"df-8690b0b7-bc61-46a4-b9fe-aaa3416c4c9a\">\n",
              "    <div class=\"colab-df-container\">\n",
              "      <div>\n",
              "<style scoped>\n",
              "    .dataframe tbody tr th:only-of-type {\n",
              "        vertical-align: middle;\n",
              "    }\n",
              "\n",
              "    .dataframe tbody tr th {\n",
              "        vertical-align: top;\n",
              "    }\n",
              "\n",
              "    .dataframe thead th {\n",
              "        text-align: right;\n",
              "    }\n",
              "</style>\n",
              "<table border=\"1\" class=\"dataframe\">\n",
              "  <thead>\n",
              "    <tr style=\"text-align: right;\">\n",
              "      <th></th>\n",
              "      <th>model</th>\n",
              "      <th>mae</th>\n",
              "      <th>mse</th>\n",
              "    </tr>\n",
              "  </thead>\n",
              "  <tbody>\n",
              "    <tr>\n",
              "      <th>0</th>\n",
              "      <td>model_1</td>\n",
              "      <td>21.299194</td>\n",
              "      <td>457.101166</td>\n",
              "    </tr>\n",
              "    <tr>\n",
              "      <th>1</th>\n",
              "      <td>model_2</td>\n",
              "      <td>26.361767</td>\n",
              "      <td>720.790771</td>\n",
              "    </tr>\n",
              "    <tr>\n",
              "      <th>2</th>\n",
              "      <td>model_3</td>\n",
              "      <td>68.693138</td>\n",
              "      <td>4805.295898</td>\n",
              "    </tr>\n",
              "  </tbody>\n",
              "</table>\n",
              "</div>\n",
              "      <button class=\"colab-df-convert\" onclick=\"convertToInteractive('df-8690b0b7-bc61-46a4-b9fe-aaa3416c4c9a')\"\n",
              "              title=\"Convert this dataframe to an interactive table.\"\n",
              "              style=\"display:none;\">\n",
              "        \n",
              "  <svg xmlns=\"http://www.w3.org/2000/svg\" height=\"24px\"viewBox=\"0 0 24 24\"\n",
              "       width=\"24px\">\n",
              "    <path d=\"M0 0h24v24H0V0z\" fill=\"none\"/>\n",
              "    <path d=\"M18.56 5.44l.94 2.06.94-2.06 2.06-.94-2.06-.94-.94-2.06-.94 2.06-2.06.94zm-11 1L8.5 8.5l.94-2.06 2.06-.94-2.06-.94L8.5 2.5l-.94 2.06-2.06.94zm10 10l.94 2.06.94-2.06 2.06-.94-2.06-.94-.94-2.06-.94 2.06-2.06.94z\"/><path d=\"M17.41 7.96l-1.37-1.37c-.4-.4-.92-.59-1.43-.59-.52 0-1.04.2-1.43.59L10.3 9.45l-7.72 7.72c-.78.78-.78 2.05 0 2.83L4 21.41c.39.39.9.59 1.41.59.51 0 1.02-.2 1.41-.59l7.78-7.78 2.81-2.81c.8-.78.8-2.07 0-2.86zM5.41 20L4 18.59l7.72-7.72 1.47 1.35L5.41 20z\"/>\n",
              "  </svg>\n",
              "      </button>\n",
              "      \n",
              "  <style>\n",
              "    .colab-df-container {\n",
              "      display:flex;\n",
              "      flex-wrap:wrap;\n",
              "      gap: 12px;\n",
              "    }\n",
              "\n",
              "    .colab-df-convert {\n",
              "      background-color: #E8F0FE;\n",
              "      border: none;\n",
              "      border-radius: 50%;\n",
              "      cursor: pointer;\n",
              "      display: none;\n",
              "      fill: #1967D2;\n",
              "      height: 32px;\n",
              "      padding: 0 0 0 0;\n",
              "      width: 32px;\n",
              "    }\n",
              "\n",
              "    .colab-df-convert:hover {\n",
              "      background-color: #E2EBFA;\n",
              "      box-shadow: 0px 1px 2px rgba(60, 64, 67, 0.3), 0px 1px 3px 1px rgba(60, 64, 67, 0.15);\n",
              "      fill: #174EA6;\n",
              "    }\n",
              "\n",
              "    [theme=dark] .colab-df-convert {\n",
              "      background-color: #3B4455;\n",
              "      fill: #D2E3FC;\n",
              "    }\n",
              "\n",
              "    [theme=dark] .colab-df-convert:hover {\n",
              "      background-color: #434B5C;\n",
              "      box-shadow: 0px 1px 3px 1px rgba(0, 0, 0, 0.15);\n",
              "      filter: drop-shadow(0px 1px 2px rgba(0, 0, 0, 0.3));\n",
              "      fill: #FFFFFF;\n",
              "    }\n",
              "  </style>\n",
              "\n",
              "      <script>\n",
              "        const buttonEl =\n",
              "          document.querySelector('#df-8690b0b7-bc61-46a4-b9fe-aaa3416c4c9a button.colab-df-convert');\n",
              "        buttonEl.style.display =\n",
              "          google.colab.kernel.accessAllowed ? 'block' : 'none';\n",
              "\n",
              "        async function convertToInteractive(key) {\n",
              "          const element = document.querySelector('#df-8690b0b7-bc61-46a4-b9fe-aaa3416c4c9a');\n",
              "          const dataTable =\n",
              "            await google.colab.kernel.invokeFunction('convertToInteractive',\n",
              "                                                     [key], {});\n",
              "          if (!dataTable) return;\n",
              "\n",
              "          const docLinkHtml = 'Like what you see? Visit the ' +\n",
              "            '<a target=\"_blank\" href=https://colab.research.google.com/notebooks/data_table.ipynb>data table notebook</a>'\n",
              "            + ' to learn more about interactive tables.';\n",
              "          element.innerHTML = '';\n",
              "          dataTable['output_type'] = 'display_data';\n",
              "          await google.colab.output.renderOutput(dataTable, element);\n",
              "          const docLink = document.createElement('div');\n",
              "          docLink.innerHTML = docLinkHtml;\n",
              "          element.appendChild(docLink);\n",
              "        }\n",
              "      </script>\n",
              "    </div>\n",
              "  </div>\n",
              "  "
            ]
          },
          "metadata": {},
          "execution_count": 57
        }
      ],
      "source": [
        "# Let's compare our model's results using a pandas DataFrame\n",
        "import pandas as pd\n",
        "\n",
        "model_results = [[\"model_1\", mae_1.numpy(), mse_1.numpy()],\n",
        "                 [\"model_2\", mae_2.numpy(), mse_2.numpy()],\n",
        "                 [\"model_3\", mae_3.numpy(), mse_3.numpy()]]\n",
        "\n",
        "all_results = pd.DataFrame(model_results, columns=[\"model\", \"mae\", \"mse\"])\n",
        "all_results"
      ]
    },
    {
      "cell_type": "markdown",
      "metadata": {
        "id": "M0JgkIfHtrt-"
      },
      "source": [
        "Looks like `model_2` performed the best..."
      ]
    },
    {
      "cell_type": "code",
      "execution_count": 58,
      "metadata": {
        "colab": {
          "base_uri": "https://localhost:8080/"
        },
        "id": "TQ34n1V4q43W",
        "outputId": "a1589346-2424-4b37-8238-c1c070b4db99"
      },
      "outputs": [
        {
          "output_type": "stream",
          "name": "stdout",
          "text": [
            "Model: \"sequential_6\"\n",
            "_________________________________________________________________\n",
            " Layer (type)                Output Shape              Param #   \n",
            "=================================================================\n",
            " dense_7 (Dense)             (None, 10)                20        \n",
            "                                                                 \n",
            " dense_8 (Dense)             (None, 1)                 11        \n",
            "                                                                 \n",
            "=================================================================\n",
            "Total params: 31\n",
            "Trainable params: 31\n",
            "Non-trainable params: 0\n",
            "_________________________________________________________________\n"
          ]
        }
      ],
      "source": [
        "model_2.summary()"
      ]
    },
    {
      "cell_type": "markdown",
      "metadata": {
        "id": "vE3fFS0XsVQM"
      },
      "source": [
        "> 🔑 **Note:** One of your main goals should be to minimize the time between your experiments. The more experiments you do, the more things you'll figure out which don't work and in turn, get closer to figuring out what does work. Remember the machine learning practisioner's motto: \"experiment, experiment, experiment\". "
      ]
    },
    {
      "cell_type": "markdown",
      "metadata": {
        "id": "Ys1lvobhwTqC"
      },
      "source": [
        "## Tracking your experiments \n",
        "\n",
        "One really good habit in machine learning modelling is to track the result of your experiments. \n",
        "\n",
        "When doing so, it can be tedious if you're running lots of experiments.\n",
        "\n",
        "Luckily, there are tools to help us!\n",
        "\n",
        "📖 **Resource:** As you build more models, you'll want to look into using:\n",
        "\n",
        "* TensorBoard - a component of the TensorFlow library to help track modelling experiments (we'll see this one later).\n",
        "* Weight & Biases - a tool for tracking all kinds of machine learning experiments (plugs straight into TensorBoard)."
      ]
    },
    {
      "cell_type": "markdown",
      "metadata": {
        "id": "YwDbUA3SzAm9"
      },
      "source": [
        "## Saving our models\n",
        "\n",
        "Saving our models allows us to use them outside of Google Colab (or wherever they were trained) such as in a web application or a mobile app. \n",
        "\n",
        "There are two main formats we can save our models to:\n",
        "\n",
        "1. The SavedModel format \n",
        "2. The HDF5 format"
      ]
    },
    {
      "cell_type": "code",
      "execution_count": 59,
      "metadata": {
        "colab": {
          "base_uri": "https://localhost:8080/"
        },
        "id": "ijIpiC-OVEWB",
        "outputId": "178376cf-e130-47bb-8e3f-ab8cb57c452a"
      },
      "outputs": [
        {
          "output_type": "stream",
          "name": "stderr",
          "text": [
            "WARNING:absl:Found untraced functions such as _update_step_xla while saving (showing 1 of 1). These functions will not be directly callable after loading.\n"
          ]
        }
      ],
      "source": [
        "# Save a model using the SavedModel format (This is the default saving format on TensorFlow)\n",
        "model_2.save(\"best_model_SavedModel_format\")"
      ]
    },
    {
      "cell_type": "code",
      "execution_count": 60,
      "metadata": {
        "id": "42Z_C_a1U-0C"
      },
      "outputs": [],
      "source": [
        "# Save model using the HDF5 format \n",
        "model_2.save(\"best_model_HDF5_format.h5\")"
      ]
    },
    {
      "cell_type": "markdown",
      "source": [
        "## Loading in a saved model "
      ],
      "metadata": {
        "id": "c-JX1-JqLuil"
      }
    },
    {
      "cell_type": "code",
      "source": [
        "# Load in the SavedModel format model \n",
        "loaded_SavedModel_format = tf.keras.models.load_model('/content/best_model_SavedModel_format')\n",
        "loaded_SavedModel_format.summary()"
      ],
      "metadata": {
        "colab": {
          "base_uri": "https://localhost:8080/"
        },
        "id": "bjBB1pSQboM8",
        "outputId": "34d4c7a2-1d5a-45a5-abf1-a038370f7448"
      },
      "execution_count": 61,
      "outputs": [
        {
          "output_type": "stream",
          "name": "stdout",
          "text": [
            "Model: \"sequential_6\"\n",
            "_________________________________________________________________\n",
            " Layer (type)                Output Shape              Param #   \n",
            "=================================================================\n",
            " dense_7 (Dense)             (None, 10)                20        \n",
            "                                                                 \n",
            " dense_8 (Dense)             (None, 1)                 11        \n",
            "                                                                 \n",
            "=================================================================\n",
            "Total params: 31\n",
            "Trainable params: 31\n",
            "Non-trainable params: 0\n",
            "_________________________________________________________________\n"
          ]
        }
      ]
    },
    {
      "cell_type": "code",
      "source": [
        "# Compare model_2 predictions with SavedModel format model predictions\n",
        "model_2_preds = model_2.predict(X_test) \n",
        "loaded_SavedModel_format_preds = loaded_SavedModel_format.predict(X_test)\n",
        "model_2_preds == loaded_SavedModel_format_preds"
      ],
      "metadata": {
        "colab": {
          "base_uri": "https://localhost:8080/"
        },
        "id": "vrpvqaV37LcK",
        "outputId": "e77447fa-cc1d-4b15-b9fe-65016e72f608"
      },
      "execution_count": 62,
      "outputs": [
        {
          "output_type": "stream",
          "name": "stdout",
          "text": [
            "1/1 [==============================] - 0s 67ms/step\n",
            "1/1 [==============================] - 0s 152ms/step\n"
          ]
        },
        {
          "output_type": "execute_result",
          "data": {
            "text/plain": [
              "array([[ True],\n",
              "       [ True],\n",
              "       [ True],\n",
              "       [ True],\n",
              "       [ True],\n",
              "       [ True],\n",
              "       [ True],\n",
              "       [ True],\n",
              "       [ True],\n",
              "       [ True]])"
            ]
          },
          "metadata": {},
          "execution_count": 62
        }
      ]
    },
    {
      "cell_type": "code",
      "source": [
        "# Loading a model using the .h5 format \n",
        "loaded_h5_model = tf.keras.models.load_model('/content/best_model_HDF5_format.h5')\n",
        "loaded_h5_model.summary()"
      ],
      "metadata": {
        "id": "dMa6gWpT6ugv",
        "colab": {
          "base_uri": "https://localhost:8080/"
        },
        "outputId": "c9ec6232-464e-4dea-903b-816569d2df74"
      },
      "execution_count": 63,
      "outputs": [
        {
          "output_type": "stream",
          "name": "stdout",
          "text": [
            "Model: \"sequential_6\"\n",
            "_________________________________________________________________\n",
            " Layer (type)                Output Shape              Param #   \n",
            "=================================================================\n",
            " dense_7 (Dense)             (None, 10)                20        \n",
            "                                                                 \n",
            " dense_8 (Dense)             (None, 1)                 11        \n",
            "                                                                 \n",
            "=================================================================\n",
            "Total params: 31\n",
            "Trainable params: 31\n",
            "Non-trainable params: 0\n",
            "_________________________________________________________________\n"
          ]
        }
      ]
    },
    {
      "cell_type": "code",
      "source": [
        "# Check to see if loaded .h5 model predictions match model_2\n",
        "loaded_h5_model_preds = loaded_h5_model.predict(X_test)\n",
        "loaded_h5_model_preds == model_2_preds"
      ],
      "metadata": {
        "colab": {
          "base_uri": "https://localhost:8080/"
        },
        "id": "6OpQ4Wou_VN6",
        "outputId": "5caab0fa-e751-4519-b574-a19a3d607c73"
      },
      "execution_count": 64,
      "outputs": [
        {
          "output_type": "stream",
          "name": "stdout",
          "text": [
            "1/1 [==============================] - 0s 106ms/step\n"
          ]
        },
        {
          "output_type": "execute_result",
          "data": {
            "text/plain": [
              "array([[ True],\n",
              "       [ True],\n",
              "       [ True],\n",
              "       [ True],\n",
              "       [ True],\n",
              "       [ True],\n",
              "       [ True],\n",
              "       [ True],\n",
              "       [ True],\n",
              "       [ True]])"
            ]
          },
          "metadata": {},
          "execution_count": 64
        }
      ]
    },
    {
      "cell_type": "markdown",
      "source": [
        "## Download a model (or any other file) from Google Colab\n",
        "\n",
        "If you want to download your files from Google Colab:\n",
        "\n",
        "1. You can go to the \"files\" tab and right click on the file you're after and click \"download\".\n",
        "2. Use code (see the cell below). \n",
        "2. Save it to Google Drive by connecting Google Drive and copying it there (see 2nd code cell below)."
      ],
      "metadata": {
        "id": "pzx4HzVETCGH"
      }
    },
    {
      "cell_type": "code",
      "source": [
        "# Download a file from Google Colab\n",
        "from google.colab import files\n",
        "files.download(\"/content/best_model_HDF5_format.h5\")"
      ],
      "metadata": {
        "colab": {
          "base_uri": "https://localhost:8080/",
          "height": 17
        },
        "id": "7AMseKjnUPSH",
        "outputId": "8714e47d-b452-4246-e268-17d2ced4844a"
      },
      "execution_count": 65,
      "outputs": [
        {
          "output_type": "display_data",
          "data": {
            "text/plain": [
              "<IPython.core.display.Javascript object>"
            ],
            "application/javascript": [
              "\n",
              "    async function download(id, filename, size) {\n",
              "      if (!google.colab.kernel.accessAllowed) {\n",
              "        return;\n",
              "      }\n",
              "      const div = document.createElement('div');\n",
              "      const label = document.createElement('label');\n",
              "      label.textContent = `Downloading \"${filename}\": `;\n",
              "      div.appendChild(label);\n",
              "      const progress = document.createElement('progress');\n",
              "      progress.max = size;\n",
              "      div.appendChild(progress);\n",
              "      document.body.appendChild(div);\n",
              "\n",
              "      const buffers = [];\n",
              "      let downloaded = 0;\n",
              "\n",
              "      const channel = await google.colab.kernel.comms.open(id);\n",
              "      // Send a message to notify the kernel that we're ready.\n",
              "      channel.send({})\n",
              "\n",
              "      for await (const message of channel.messages) {\n",
              "        // Send a message to notify the kernel that we're ready.\n",
              "        channel.send({})\n",
              "        if (message.buffers) {\n",
              "          for (const buffer of message.buffers) {\n",
              "            buffers.push(buffer);\n",
              "            downloaded += buffer.byteLength;\n",
              "            progress.value = downloaded;\n",
              "          }\n",
              "        }\n",
              "      }\n",
              "      const blob = new Blob(buffers, {type: 'application/binary'});\n",
              "      const a = document.createElement('a');\n",
              "      a.href = window.URL.createObjectURL(blob);\n",
              "      a.download = filename;\n",
              "      div.appendChild(a);\n",
              "      a.click();\n",
              "      div.remove();\n",
              "    }\n",
              "  "
            ]
          },
          "metadata": {}
        },
        {
          "output_type": "display_data",
          "data": {
            "text/plain": [
              "<IPython.core.display.Javascript object>"
            ],
            "application/javascript": [
              "download(\"download_df1485c2-643b-4902-9911-2526f9ceeb25\", \"best_model_HDF5_format.h5\", 21952)"
            ]
          },
          "metadata": {}
        }
      ]
    },
    {
      "cell_type": "code",
      "source": [
        "# Save a file from Google Colab to Google Drive (requires mounting Google Drive)\n",
        "!cp /content/best_model_HDF5_format.h5 /content/drive/MyDrive/tensorflow_course"
      ],
      "metadata": {
        "id": "PVnAjx_1TgAy"
      },
      "execution_count": 66,
      "outputs": []
    },
    {
      "cell_type": "code",
      "source": [
        "!ls /content/drive/MyDrive/tensorflow_course"
      ],
      "metadata": {
        "colab": {
          "base_uri": "https://localhost:8080/"
        },
        "id": "B-BJJ9ZIYugS",
        "outputId": "674359e7-bd77-4f0a-925a-2dfa2a24a13c"
      },
      "execution_count": 67,
      "outputs": [
        {
          "output_type": "stream",
          "name": "stdout",
          "text": [
            "best_model_HDF5_format.h5\n"
          ]
        }
      ]
    },
    {
      "cell_type": "markdown",
      "source": [
        "## A larger example"
      ],
      "metadata": {
        "id": "FCdlcBBDYzIC"
      }
    },
    {
      "cell_type": "code",
      "source": [
        "# Import required libraries \n",
        "import tensorflow as tf\n",
        "import pandas as pd\n",
        "import matplotlib.pyplot as plt"
      ],
      "metadata": {
        "id": "AhP7eAjpZHqP"
      },
      "execution_count": 68,
      "outputs": []
    },
    {
      "cell_type": "code",
      "source": [
        "# Read in the insurance dataset \n",
        "insurance = pd.read_csv(\"https://raw.githubusercontent.com/stedy/Machine-Learning-with-R-datasets/master/insurance.csv\")\n",
        "insurance"
      ],
      "metadata": {
        "colab": {
          "base_uri": "https://localhost:8080/",
          "height": 424
        },
        "id": "1R4UoMd7bQcv",
        "outputId": "75a85988-be9f-4221-b976-5bf9e153d8a0"
      },
      "execution_count": 69,
      "outputs": [
        {
          "output_type": "execute_result",
          "data": {
            "text/plain": [
              "      age     sex     bmi  children smoker     region      charges\n",
              "0      19  female  27.900         0    yes  southwest  16884.92400\n",
              "1      18    male  33.770         1     no  southeast   1725.55230\n",
              "2      28    male  33.000         3     no  southeast   4449.46200\n",
              "3      33    male  22.705         0     no  northwest  21984.47061\n",
              "4      32    male  28.880         0     no  northwest   3866.85520\n",
              "...   ...     ...     ...       ...    ...        ...          ...\n",
              "1333   50    male  30.970         3     no  northwest  10600.54830\n",
              "1334   18  female  31.920         0     no  northeast   2205.98080\n",
              "1335   18  female  36.850         0     no  southeast   1629.83350\n",
              "1336   21  female  25.800         0     no  southwest   2007.94500\n",
              "1337   61  female  29.070         0    yes  northwest  29141.36030\n",
              "\n",
              "[1338 rows x 7 columns]"
            ],
            "text/html": [
              "\n",
              "  <div id=\"df-a6c73f79-7c1d-4597-9bba-3e2316e2f762\">\n",
              "    <div class=\"colab-df-container\">\n",
              "      <div>\n",
              "<style scoped>\n",
              "    .dataframe tbody tr th:only-of-type {\n",
              "        vertical-align: middle;\n",
              "    }\n",
              "\n",
              "    .dataframe tbody tr th {\n",
              "        vertical-align: top;\n",
              "    }\n",
              "\n",
              "    .dataframe thead th {\n",
              "        text-align: right;\n",
              "    }\n",
              "</style>\n",
              "<table border=\"1\" class=\"dataframe\">\n",
              "  <thead>\n",
              "    <tr style=\"text-align: right;\">\n",
              "      <th></th>\n",
              "      <th>age</th>\n",
              "      <th>sex</th>\n",
              "      <th>bmi</th>\n",
              "      <th>children</th>\n",
              "      <th>smoker</th>\n",
              "      <th>region</th>\n",
              "      <th>charges</th>\n",
              "    </tr>\n",
              "  </thead>\n",
              "  <tbody>\n",
              "    <tr>\n",
              "      <th>0</th>\n",
              "      <td>19</td>\n",
              "      <td>female</td>\n",
              "      <td>27.900</td>\n",
              "      <td>0</td>\n",
              "      <td>yes</td>\n",
              "      <td>southwest</td>\n",
              "      <td>16884.92400</td>\n",
              "    </tr>\n",
              "    <tr>\n",
              "      <th>1</th>\n",
              "      <td>18</td>\n",
              "      <td>male</td>\n",
              "      <td>33.770</td>\n",
              "      <td>1</td>\n",
              "      <td>no</td>\n",
              "      <td>southeast</td>\n",
              "      <td>1725.55230</td>\n",
              "    </tr>\n",
              "    <tr>\n",
              "      <th>2</th>\n",
              "      <td>28</td>\n",
              "      <td>male</td>\n",
              "      <td>33.000</td>\n",
              "      <td>3</td>\n",
              "      <td>no</td>\n",
              "      <td>southeast</td>\n",
              "      <td>4449.46200</td>\n",
              "    </tr>\n",
              "    <tr>\n",
              "      <th>3</th>\n",
              "      <td>33</td>\n",
              "      <td>male</td>\n",
              "      <td>22.705</td>\n",
              "      <td>0</td>\n",
              "      <td>no</td>\n",
              "      <td>northwest</td>\n",
              "      <td>21984.47061</td>\n",
              "    </tr>\n",
              "    <tr>\n",
              "      <th>4</th>\n",
              "      <td>32</td>\n",
              "      <td>male</td>\n",
              "      <td>28.880</td>\n",
              "      <td>0</td>\n",
              "      <td>no</td>\n",
              "      <td>northwest</td>\n",
              "      <td>3866.85520</td>\n",
              "    </tr>\n",
              "    <tr>\n",
              "      <th>...</th>\n",
              "      <td>...</td>\n",
              "      <td>...</td>\n",
              "      <td>...</td>\n",
              "      <td>...</td>\n",
              "      <td>...</td>\n",
              "      <td>...</td>\n",
              "      <td>...</td>\n",
              "    </tr>\n",
              "    <tr>\n",
              "      <th>1333</th>\n",
              "      <td>50</td>\n",
              "      <td>male</td>\n",
              "      <td>30.970</td>\n",
              "      <td>3</td>\n",
              "      <td>no</td>\n",
              "      <td>northwest</td>\n",
              "      <td>10600.54830</td>\n",
              "    </tr>\n",
              "    <tr>\n",
              "      <th>1334</th>\n",
              "      <td>18</td>\n",
              "      <td>female</td>\n",
              "      <td>31.920</td>\n",
              "      <td>0</td>\n",
              "      <td>no</td>\n",
              "      <td>northeast</td>\n",
              "      <td>2205.98080</td>\n",
              "    </tr>\n",
              "    <tr>\n",
              "      <th>1335</th>\n",
              "      <td>18</td>\n",
              "      <td>female</td>\n",
              "      <td>36.850</td>\n",
              "      <td>0</td>\n",
              "      <td>no</td>\n",
              "      <td>southeast</td>\n",
              "      <td>1629.83350</td>\n",
              "    </tr>\n",
              "    <tr>\n",
              "      <th>1336</th>\n",
              "      <td>21</td>\n",
              "      <td>female</td>\n",
              "      <td>25.800</td>\n",
              "      <td>0</td>\n",
              "      <td>no</td>\n",
              "      <td>southwest</td>\n",
              "      <td>2007.94500</td>\n",
              "    </tr>\n",
              "    <tr>\n",
              "      <th>1337</th>\n",
              "      <td>61</td>\n",
              "      <td>female</td>\n",
              "      <td>29.070</td>\n",
              "      <td>0</td>\n",
              "      <td>yes</td>\n",
              "      <td>northwest</td>\n",
              "      <td>29141.36030</td>\n",
              "    </tr>\n",
              "  </tbody>\n",
              "</table>\n",
              "<p>1338 rows × 7 columns</p>\n",
              "</div>\n",
              "      <button class=\"colab-df-convert\" onclick=\"convertToInteractive('df-a6c73f79-7c1d-4597-9bba-3e2316e2f762')\"\n",
              "              title=\"Convert this dataframe to an interactive table.\"\n",
              "              style=\"display:none;\">\n",
              "        \n",
              "  <svg xmlns=\"http://www.w3.org/2000/svg\" height=\"24px\"viewBox=\"0 0 24 24\"\n",
              "       width=\"24px\">\n",
              "    <path d=\"M0 0h24v24H0V0z\" fill=\"none\"/>\n",
              "    <path d=\"M18.56 5.44l.94 2.06.94-2.06 2.06-.94-2.06-.94-.94-2.06-.94 2.06-2.06.94zm-11 1L8.5 8.5l.94-2.06 2.06-.94-2.06-.94L8.5 2.5l-.94 2.06-2.06.94zm10 10l.94 2.06.94-2.06 2.06-.94-2.06-.94-.94-2.06-.94 2.06-2.06.94z\"/><path d=\"M17.41 7.96l-1.37-1.37c-.4-.4-.92-.59-1.43-.59-.52 0-1.04.2-1.43.59L10.3 9.45l-7.72 7.72c-.78.78-.78 2.05 0 2.83L4 21.41c.39.39.9.59 1.41.59.51 0 1.02-.2 1.41-.59l7.78-7.78 2.81-2.81c.8-.78.8-2.07 0-2.86zM5.41 20L4 18.59l7.72-7.72 1.47 1.35L5.41 20z\"/>\n",
              "  </svg>\n",
              "      </button>\n",
              "      \n",
              "  <style>\n",
              "    .colab-df-container {\n",
              "      display:flex;\n",
              "      flex-wrap:wrap;\n",
              "      gap: 12px;\n",
              "    }\n",
              "\n",
              "    .colab-df-convert {\n",
              "      background-color: #E8F0FE;\n",
              "      border: none;\n",
              "      border-radius: 50%;\n",
              "      cursor: pointer;\n",
              "      display: none;\n",
              "      fill: #1967D2;\n",
              "      height: 32px;\n",
              "      padding: 0 0 0 0;\n",
              "      width: 32px;\n",
              "    }\n",
              "\n",
              "    .colab-df-convert:hover {\n",
              "      background-color: #E2EBFA;\n",
              "      box-shadow: 0px 1px 2px rgba(60, 64, 67, 0.3), 0px 1px 3px 1px rgba(60, 64, 67, 0.15);\n",
              "      fill: #174EA6;\n",
              "    }\n",
              "\n",
              "    [theme=dark] .colab-df-convert {\n",
              "      background-color: #3B4455;\n",
              "      fill: #D2E3FC;\n",
              "    }\n",
              "\n",
              "    [theme=dark] .colab-df-convert:hover {\n",
              "      background-color: #434B5C;\n",
              "      box-shadow: 0px 1px 3px 1px rgba(0, 0, 0, 0.15);\n",
              "      filter: drop-shadow(0px 1px 2px rgba(0, 0, 0, 0.3));\n",
              "      fill: #FFFFFF;\n",
              "    }\n",
              "  </style>\n",
              "\n",
              "      <script>\n",
              "        const buttonEl =\n",
              "          document.querySelector('#df-a6c73f79-7c1d-4597-9bba-3e2316e2f762 button.colab-df-convert');\n",
              "        buttonEl.style.display =\n",
              "          google.colab.kernel.accessAllowed ? 'block' : 'none';\n",
              "\n",
              "        async function convertToInteractive(key) {\n",
              "          const element = document.querySelector('#df-a6c73f79-7c1d-4597-9bba-3e2316e2f762');\n",
              "          const dataTable =\n",
              "            await google.colab.kernel.invokeFunction('convertToInteractive',\n",
              "                                                     [key], {});\n",
              "          if (!dataTable) return;\n",
              "\n",
              "          const docLinkHtml = 'Like what you see? Visit the ' +\n",
              "            '<a target=\"_blank\" href=https://colab.research.google.com/notebooks/data_table.ipynb>data table notebook</a>'\n",
              "            + ' to learn more about interactive tables.';\n",
              "          element.innerHTML = '';\n",
              "          dataTable['output_type'] = 'display_data';\n",
              "          await google.colab.output.renderOutput(dataTable, element);\n",
              "          const docLink = document.createElement('div');\n",
              "          docLink.innerHTML = docLinkHtml;\n",
              "          element.appendChild(docLink);\n",
              "        }\n",
              "      </script>\n",
              "    </div>\n",
              "  </div>\n",
              "  "
            ]
          },
          "metadata": {},
          "execution_count": 69
        }
      ]
    },
    {
      "cell_type": "code",
      "source": [
        "insurance[\"sex\"]"
      ],
      "metadata": {
        "colab": {
          "base_uri": "https://localhost:8080/"
        },
        "id": "0UzVV1roZOXi",
        "outputId": "e2f9ec11-1d7f-4dbd-eec4-b72b5a2b0c4a"
      },
      "execution_count": 70,
      "outputs": [
        {
          "output_type": "execute_result",
          "data": {
            "text/plain": [
              "0       female\n",
              "1         male\n",
              "2         male\n",
              "3         male\n",
              "4         male\n",
              "         ...  \n",
              "1333      male\n",
              "1334    female\n",
              "1335    female\n",
              "1336    female\n",
              "1337    female\n",
              "Name: sex, Length: 1338, dtype: object"
            ]
          },
          "metadata": {},
          "execution_count": 70
        }
      ]
    },
    {
      "cell_type": "code",
      "source": [
        "insurance.dtypes"
      ],
      "metadata": {
        "colab": {
          "base_uri": "https://localhost:8080/"
        },
        "id": "RCb04ehdffEr",
        "outputId": "1d68b68b-edc0-46ec-c527-dffa01d6bf6e"
      },
      "execution_count": 71,
      "outputs": [
        {
          "output_type": "execute_result",
          "data": {
            "text/plain": [
              "age           int64\n",
              "sex          object\n",
              "bmi         float64\n",
              "children      int64\n",
              "smoker       object\n",
              "region       object\n",
              "charges     float64\n",
              "dtype: object"
            ]
          },
          "metadata": {},
          "execution_count": 71
        }
      ]
    },
    {
      "cell_type": "code",
      "source": [
        "# Let's try one-hot encode our DataFrame so it's all numbers \n",
        "insurance_one_hot = pd.get_dummies(insurance)\n",
        "insurance_one_hot"
      ],
      "metadata": {
        "colab": {
          "base_uri": "https://localhost:8080/",
          "height": 488
        },
        "id": "2DxSOowPgx-B",
        "outputId": "a7c17e79-c8dc-4c55-87b3-147b0b40fea3"
      },
      "execution_count": 72,
      "outputs": [
        {
          "output_type": "execute_result",
          "data": {
            "text/plain": [
              "      age     bmi  children      charges  sex_female  sex_male  smoker_no  \\\n",
              "0      19  27.900         0  16884.92400           1         0          0   \n",
              "1      18  33.770         1   1725.55230           0         1          1   \n",
              "2      28  33.000         3   4449.46200           0         1          1   \n",
              "3      33  22.705         0  21984.47061           0         1          1   \n",
              "4      32  28.880         0   3866.85520           0         1          1   \n",
              "...   ...     ...       ...          ...         ...       ...        ...   \n",
              "1333   50  30.970         3  10600.54830           0         1          1   \n",
              "1334   18  31.920         0   2205.98080           1         0          1   \n",
              "1335   18  36.850         0   1629.83350           1         0          1   \n",
              "1336   21  25.800         0   2007.94500           1         0          1   \n",
              "1337   61  29.070         0  29141.36030           1         0          0   \n",
              "\n",
              "      smoker_yes  region_northeast  region_northwest  region_southeast  \\\n",
              "0              1                 0                 0                 0   \n",
              "1              0                 0                 0                 1   \n",
              "2              0                 0                 0                 1   \n",
              "3              0                 0                 1                 0   \n",
              "4              0                 0                 1                 0   \n",
              "...          ...               ...               ...               ...   \n",
              "1333           0                 0                 1                 0   \n",
              "1334           0                 1                 0                 0   \n",
              "1335           0                 0                 0                 1   \n",
              "1336           0                 0                 0                 0   \n",
              "1337           1                 0                 1                 0   \n",
              "\n",
              "      region_southwest  \n",
              "0                    1  \n",
              "1                    0  \n",
              "2                    0  \n",
              "3                    0  \n",
              "4                    0  \n",
              "...                ...  \n",
              "1333                 0  \n",
              "1334                 0  \n",
              "1335                 0  \n",
              "1336                 1  \n",
              "1337                 0  \n",
              "\n",
              "[1338 rows x 12 columns]"
            ],
            "text/html": [
              "\n",
              "  <div id=\"df-dfac8b06-c9ae-4a32-9b9e-a2bcfa73a4e4\">\n",
              "    <div class=\"colab-df-container\">\n",
              "      <div>\n",
              "<style scoped>\n",
              "    .dataframe tbody tr th:only-of-type {\n",
              "        vertical-align: middle;\n",
              "    }\n",
              "\n",
              "    .dataframe tbody tr th {\n",
              "        vertical-align: top;\n",
              "    }\n",
              "\n",
              "    .dataframe thead th {\n",
              "        text-align: right;\n",
              "    }\n",
              "</style>\n",
              "<table border=\"1\" class=\"dataframe\">\n",
              "  <thead>\n",
              "    <tr style=\"text-align: right;\">\n",
              "      <th></th>\n",
              "      <th>age</th>\n",
              "      <th>bmi</th>\n",
              "      <th>children</th>\n",
              "      <th>charges</th>\n",
              "      <th>sex_female</th>\n",
              "      <th>sex_male</th>\n",
              "      <th>smoker_no</th>\n",
              "      <th>smoker_yes</th>\n",
              "      <th>region_northeast</th>\n",
              "      <th>region_northwest</th>\n",
              "      <th>region_southeast</th>\n",
              "      <th>region_southwest</th>\n",
              "    </tr>\n",
              "  </thead>\n",
              "  <tbody>\n",
              "    <tr>\n",
              "      <th>0</th>\n",
              "      <td>19</td>\n",
              "      <td>27.900</td>\n",
              "      <td>0</td>\n",
              "      <td>16884.92400</td>\n",
              "      <td>1</td>\n",
              "      <td>0</td>\n",
              "      <td>0</td>\n",
              "      <td>1</td>\n",
              "      <td>0</td>\n",
              "      <td>0</td>\n",
              "      <td>0</td>\n",
              "      <td>1</td>\n",
              "    </tr>\n",
              "    <tr>\n",
              "      <th>1</th>\n",
              "      <td>18</td>\n",
              "      <td>33.770</td>\n",
              "      <td>1</td>\n",
              "      <td>1725.55230</td>\n",
              "      <td>0</td>\n",
              "      <td>1</td>\n",
              "      <td>1</td>\n",
              "      <td>0</td>\n",
              "      <td>0</td>\n",
              "      <td>0</td>\n",
              "      <td>1</td>\n",
              "      <td>0</td>\n",
              "    </tr>\n",
              "    <tr>\n",
              "      <th>2</th>\n",
              "      <td>28</td>\n",
              "      <td>33.000</td>\n",
              "      <td>3</td>\n",
              "      <td>4449.46200</td>\n",
              "      <td>0</td>\n",
              "      <td>1</td>\n",
              "      <td>1</td>\n",
              "      <td>0</td>\n",
              "      <td>0</td>\n",
              "      <td>0</td>\n",
              "      <td>1</td>\n",
              "      <td>0</td>\n",
              "    </tr>\n",
              "    <tr>\n",
              "      <th>3</th>\n",
              "      <td>33</td>\n",
              "      <td>22.705</td>\n",
              "      <td>0</td>\n",
              "      <td>21984.47061</td>\n",
              "      <td>0</td>\n",
              "      <td>1</td>\n",
              "      <td>1</td>\n",
              "      <td>0</td>\n",
              "      <td>0</td>\n",
              "      <td>1</td>\n",
              "      <td>0</td>\n",
              "      <td>0</td>\n",
              "    </tr>\n",
              "    <tr>\n",
              "      <th>4</th>\n",
              "      <td>32</td>\n",
              "      <td>28.880</td>\n",
              "      <td>0</td>\n",
              "      <td>3866.85520</td>\n",
              "      <td>0</td>\n",
              "      <td>1</td>\n",
              "      <td>1</td>\n",
              "      <td>0</td>\n",
              "      <td>0</td>\n",
              "      <td>1</td>\n",
              "      <td>0</td>\n",
              "      <td>0</td>\n",
              "    </tr>\n",
              "    <tr>\n",
              "      <th>...</th>\n",
              "      <td>...</td>\n",
              "      <td>...</td>\n",
              "      <td>...</td>\n",
              "      <td>...</td>\n",
              "      <td>...</td>\n",
              "      <td>...</td>\n",
              "      <td>...</td>\n",
              "      <td>...</td>\n",
              "      <td>...</td>\n",
              "      <td>...</td>\n",
              "      <td>...</td>\n",
              "      <td>...</td>\n",
              "    </tr>\n",
              "    <tr>\n",
              "      <th>1333</th>\n",
              "      <td>50</td>\n",
              "      <td>30.970</td>\n",
              "      <td>3</td>\n",
              "      <td>10600.54830</td>\n",
              "      <td>0</td>\n",
              "      <td>1</td>\n",
              "      <td>1</td>\n",
              "      <td>0</td>\n",
              "      <td>0</td>\n",
              "      <td>1</td>\n",
              "      <td>0</td>\n",
              "      <td>0</td>\n",
              "    </tr>\n",
              "    <tr>\n",
              "      <th>1334</th>\n",
              "      <td>18</td>\n",
              "      <td>31.920</td>\n",
              "      <td>0</td>\n",
              "      <td>2205.98080</td>\n",
              "      <td>1</td>\n",
              "      <td>0</td>\n",
              "      <td>1</td>\n",
              "      <td>0</td>\n",
              "      <td>1</td>\n",
              "      <td>0</td>\n",
              "      <td>0</td>\n",
              "      <td>0</td>\n",
              "    </tr>\n",
              "    <tr>\n",
              "      <th>1335</th>\n",
              "      <td>18</td>\n",
              "      <td>36.850</td>\n",
              "      <td>0</td>\n",
              "      <td>1629.83350</td>\n",
              "      <td>1</td>\n",
              "      <td>0</td>\n",
              "      <td>1</td>\n",
              "      <td>0</td>\n",
              "      <td>0</td>\n",
              "      <td>0</td>\n",
              "      <td>1</td>\n",
              "      <td>0</td>\n",
              "    </tr>\n",
              "    <tr>\n",
              "      <th>1336</th>\n",
              "      <td>21</td>\n",
              "      <td>25.800</td>\n",
              "      <td>0</td>\n",
              "      <td>2007.94500</td>\n",
              "      <td>1</td>\n",
              "      <td>0</td>\n",
              "      <td>1</td>\n",
              "      <td>0</td>\n",
              "      <td>0</td>\n",
              "      <td>0</td>\n",
              "      <td>0</td>\n",
              "      <td>1</td>\n",
              "    </tr>\n",
              "    <tr>\n",
              "      <th>1337</th>\n",
              "      <td>61</td>\n",
              "      <td>29.070</td>\n",
              "      <td>0</td>\n",
              "      <td>29141.36030</td>\n",
              "      <td>1</td>\n",
              "      <td>0</td>\n",
              "      <td>0</td>\n",
              "      <td>1</td>\n",
              "      <td>0</td>\n",
              "      <td>1</td>\n",
              "      <td>0</td>\n",
              "      <td>0</td>\n",
              "    </tr>\n",
              "  </tbody>\n",
              "</table>\n",
              "<p>1338 rows × 12 columns</p>\n",
              "</div>\n",
              "      <button class=\"colab-df-convert\" onclick=\"convertToInteractive('df-dfac8b06-c9ae-4a32-9b9e-a2bcfa73a4e4')\"\n",
              "              title=\"Convert this dataframe to an interactive table.\"\n",
              "              style=\"display:none;\">\n",
              "        \n",
              "  <svg xmlns=\"http://www.w3.org/2000/svg\" height=\"24px\"viewBox=\"0 0 24 24\"\n",
              "       width=\"24px\">\n",
              "    <path d=\"M0 0h24v24H0V0z\" fill=\"none\"/>\n",
              "    <path d=\"M18.56 5.44l.94 2.06.94-2.06 2.06-.94-2.06-.94-.94-2.06-.94 2.06-2.06.94zm-11 1L8.5 8.5l.94-2.06 2.06-.94-2.06-.94L8.5 2.5l-.94 2.06-2.06.94zm10 10l.94 2.06.94-2.06 2.06-.94-2.06-.94-.94-2.06-.94 2.06-2.06.94z\"/><path d=\"M17.41 7.96l-1.37-1.37c-.4-.4-.92-.59-1.43-.59-.52 0-1.04.2-1.43.59L10.3 9.45l-7.72 7.72c-.78.78-.78 2.05 0 2.83L4 21.41c.39.39.9.59 1.41.59.51 0 1.02-.2 1.41-.59l7.78-7.78 2.81-2.81c.8-.78.8-2.07 0-2.86zM5.41 20L4 18.59l7.72-7.72 1.47 1.35L5.41 20z\"/>\n",
              "  </svg>\n",
              "      </button>\n",
              "      \n",
              "  <style>\n",
              "    .colab-df-container {\n",
              "      display:flex;\n",
              "      flex-wrap:wrap;\n",
              "      gap: 12px;\n",
              "    }\n",
              "\n",
              "    .colab-df-convert {\n",
              "      background-color: #E8F0FE;\n",
              "      border: none;\n",
              "      border-radius: 50%;\n",
              "      cursor: pointer;\n",
              "      display: none;\n",
              "      fill: #1967D2;\n",
              "      height: 32px;\n",
              "      padding: 0 0 0 0;\n",
              "      width: 32px;\n",
              "    }\n",
              "\n",
              "    .colab-df-convert:hover {\n",
              "      background-color: #E2EBFA;\n",
              "      box-shadow: 0px 1px 2px rgba(60, 64, 67, 0.3), 0px 1px 3px 1px rgba(60, 64, 67, 0.15);\n",
              "      fill: #174EA6;\n",
              "    }\n",
              "\n",
              "    [theme=dark] .colab-df-convert {\n",
              "      background-color: #3B4455;\n",
              "      fill: #D2E3FC;\n",
              "    }\n",
              "\n",
              "    [theme=dark] .colab-df-convert:hover {\n",
              "      background-color: #434B5C;\n",
              "      box-shadow: 0px 1px 3px 1px rgba(0, 0, 0, 0.15);\n",
              "      filter: drop-shadow(0px 1px 2px rgba(0, 0, 0, 0.3));\n",
              "      fill: #FFFFFF;\n",
              "    }\n",
              "  </style>\n",
              "\n",
              "      <script>\n",
              "        const buttonEl =\n",
              "          document.querySelector('#df-dfac8b06-c9ae-4a32-9b9e-a2bcfa73a4e4 button.colab-df-convert');\n",
              "        buttonEl.style.display =\n",
              "          google.colab.kernel.accessAllowed ? 'block' : 'none';\n",
              "\n",
              "        async function convertToInteractive(key) {\n",
              "          const element = document.querySelector('#df-dfac8b06-c9ae-4a32-9b9e-a2bcfa73a4e4');\n",
              "          const dataTable =\n",
              "            await google.colab.kernel.invokeFunction('convertToInteractive',\n",
              "                                                     [key], {});\n",
              "          if (!dataTable) return;\n",
              "\n",
              "          const docLinkHtml = 'Like what you see? Visit the ' +\n",
              "            '<a target=\"_blank\" href=https://colab.research.google.com/notebooks/data_table.ipynb>data table notebook</a>'\n",
              "            + ' to learn more about interactive tables.';\n",
              "          element.innerHTML = '';\n",
              "          dataTable['output_type'] = 'display_data';\n",
              "          await google.colab.output.renderOutput(dataTable, element);\n",
              "          const docLink = document.createElement('div');\n",
              "          docLink.innerHTML = docLinkHtml;\n",
              "          element.appendChild(docLink);\n",
              "        }\n",
              "      </script>\n",
              "    </div>\n",
              "  </div>\n",
              "  "
            ]
          },
          "metadata": {},
          "execution_count": 72
        }
      ]
    },
    {
      "cell_type": "code",
      "source": [
        "insurance_one_hot.head()"
      ],
      "metadata": {
        "colab": {
          "base_uri": "https://localhost:8080/",
          "height": 270
        },
        "id": "a5MFFJ54iPJR",
        "outputId": "8520a289-983f-4bf7-ed6c-df006639710e"
      },
      "execution_count": 73,
      "outputs": [
        {
          "output_type": "execute_result",
          "data": {
            "text/plain": [
              "   age     bmi  children      charges  sex_female  sex_male  smoker_no  \\\n",
              "0   19  27.900         0  16884.92400           1         0          0   \n",
              "1   18  33.770         1   1725.55230           0         1          1   \n",
              "2   28  33.000         3   4449.46200           0         1          1   \n",
              "3   33  22.705         0  21984.47061           0         1          1   \n",
              "4   32  28.880         0   3866.85520           0         1          1   \n",
              "\n",
              "   smoker_yes  region_northeast  region_northwest  region_southeast  \\\n",
              "0           1                 0                 0                 0   \n",
              "1           0                 0                 0                 1   \n",
              "2           0                 0                 0                 1   \n",
              "3           0                 0                 1                 0   \n",
              "4           0                 0                 1                 0   \n",
              "\n",
              "   region_southwest  \n",
              "0                 1  \n",
              "1                 0  \n",
              "2                 0  \n",
              "3                 0  \n",
              "4                 0  "
            ],
            "text/html": [
              "\n",
              "  <div id=\"df-4a899e6d-035d-4563-9fe5-c53f495f34d4\">\n",
              "    <div class=\"colab-df-container\">\n",
              "      <div>\n",
              "<style scoped>\n",
              "    .dataframe tbody tr th:only-of-type {\n",
              "        vertical-align: middle;\n",
              "    }\n",
              "\n",
              "    .dataframe tbody tr th {\n",
              "        vertical-align: top;\n",
              "    }\n",
              "\n",
              "    .dataframe thead th {\n",
              "        text-align: right;\n",
              "    }\n",
              "</style>\n",
              "<table border=\"1\" class=\"dataframe\">\n",
              "  <thead>\n",
              "    <tr style=\"text-align: right;\">\n",
              "      <th></th>\n",
              "      <th>age</th>\n",
              "      <th>bmi</th>\n",
              "      <th>children</th>\n",
              "      <th>charges</th>\n",
              "      <th>sex_female</th>\n",
              "      <th>sex_male</th>\n",
              "      <th>smoker_no</th>\n",
              "      <th>smoker_yes</th>\n",
              "      <th>region_northeast</th>\n",
              "      <th>region_northwest</th>\n",
              "      <th>region_southeast</th>\n",
              "      <th>region_southwest</th>\n",
              "    </tr>\n",
              "  </thead>\n",
              "  <tbody>\n",
              "    <tr>\n",
              "      <th>0</th>\n",
              "      <td>19</td>\n",
              "      <td>27.900</td>\n",
              "      <td>0</td>\n",
              "      <td>16884.92400</td>\n",
              "      <td>1</td>\n",
              "      <td>0</td>\n",
              "      <td>0</td>\n",
              "      <td>1</td>\n",
              "      <td>0</td>\n",
              "      <td>0</td>\n",
              "      <td>0</td>\n",
              "      <td>1</td>\n",
              "    </tr>\n",
              "    <tr>\n",
              "      <th>1</th>\n",
              "      <td>18</td>\n",
              "      <td>33.770</td>\n",
              "      <td>1</td>\n",
              "      <td>1725.55230</td>\n",
              "      <td>0</td>\n",
              "      <td>1</td>\n",
              "      <td>1</td>\n",
              "      <td>0</td>\n",
              "      <td>0</td>\n",
              "      <td>0</td>\n",
              "      <td>1</td>\n",
              "      <td>0</td>\n",
              "    </tr>\n",
              "    <tr>\n",
              "      <th>2</th>\n",
              "      <td>28</td>\n",
              "      <td>33.000</td>\n",
              "      <td>3</td>\n",
              "      <td>4449.46200</td>\n",
              "      <td>0</td>\n",
              "      <td>1</td>\n",
              "      <td>1</td>\n",
              "      <td>0</td>\n",
              "      <td>0</td>\n",
              "      <td>0</td>\n",
              "      <td>1</td>\n",
              "      <td>0</td>\n",
              "    </tr>\n",
              "    <tr>\n",
              "      <th>3</th>\n",
              "      <td>33</td>\n",
              "      <td>22.705</td>\n",
              "      <td>0</td>\n",
              "      <td>21984.47061</td>\n",
              "      <td>0</td>\n",
              "      <td>1</td>\n",
              "      <td>1</td>\n",
              "      <td>0</td>\n",
              "      <td>0</td>\n",
              "      <td>1</td>\n",
              "      <td>0</td>\n",
              "      <td>0</td>\n",
              "    </tr>\n",
              "    <tr>\n",
              "      <th>4</th>\n",
              "      <td>32</td>\n",
              "      <td>28.880</td>\n",
              "      <td>0</td>\n",
              "      <td>3866.85520</td>\n",
              "      <td>0</td>\n",
              "      <td>1</td>\n",
              "      <td>1</td>\n",
              "      <td>0</td>\n",
              "      <td>0</td>\n",
              "      <td>1</td>\n",
              "      <td>0</td>\n",
              "      <td>0</td>\n",
              "    </tr>\n",
              "  </tbody>\n",
              "</table>\n",
              "</div>\n",
              "      <button class=\"colab-df-convert\" onclick=\"convertToInteractive('df-4a899e6d-035d-4563-9fe5-c53f495f34d4')\"\n",
              "              title=\"Convert this dataframe to an interactive table.\"\n",
              "              style=\"display:none;\">\n",
              "        \n",
              "  <svg xmlns=\"http://www.w3.org/2000/svg\" height=\"24px\"viewBox=\"0 0 24 24\"\n",
              "       width=\"24px\">\n",
              "    <path d=\"M0 0h24v24H0V0z\" fill=\"none\"/>\n",
              "    <path d=\"M18.56 5.44l.94 2.06.94-2.06 2.06-.94-2.06-.94-.94-2.06-.94 2.06-2.06.94zm-11 1L8.5 8.5l.94-2.06 2.06-.94-2.06-.94L8.5 2.5l-.94 2.06-2.06.94zm10 10l.94 2.06.94-2.06 2.06-.94-2.06-.94-.94-2.06-.94 2.06-2.06.94z\"/><path d=\"M17.41 7.96l-1.37-1.37c-.4-.4-.92-.59-1.43-.59-.52 0-1.04.2-1.43.59L10.3 9.45l-7.72 7.72c-.78.78-.78 2.05 0 2.83L4 21.41c.39.39.9.59 1.41.59.51 0 1.02-.2 1.41-.59l7.78-7.78 2.81-2.81c.8-.78.8-2.07 0-2.86zM5.41 20L4 18.59l7.72-7.72 1.47 1.35L5.41 20z\"/>\n",
              "  </svg>\n",
              "      </button>\n",
              "      \n",
              "  <style>\n",
              "    .colab-df-container {\n",
              "      display:flex;\n",
              "      flex-wrap:wrap;\n",
              "      gap: 12px;\n",
              "    }\n",
              "\n",
              "    .colab-df-convert {\n",
              "      background-color: #E8F0FE;\n",
              "      border: none;\n",
              "      border-radius: 50%;\n",
              "      cursor: pointer;\n",
              "      display: none;\n",
              "      fill: #1967D2;\n",
              "      height: 32px;\n",
              "      padding: 0 0 0 0;\n",
              "      width: 32px;\n",
              "    }\n",
              "\n",
              "    .colab-df-convert:hover {\n",
              "      background-color: #E2EBFA;\n",
              "      box-shadow: 0px 1px 2px rgba(60, 64, 67, 0.3), 0px 1px 3px 1px rgba(60, 64, 67, 0.15);\n",
              "      fill: #174EA6;\n",
              "    }\n",
              "\n",
              "    [theme=dark] .colab-df-convert {\n",
              "      background-color: #3B4455;\n",
              "      fill: #D2E3FC;\n",
              "    }\n",
              "\n",
              "    [theme=dark] .colab-df-convert:hover {\n",
              "      background-color: #434B5C;\n",
              "      box-shadow: 0px 1px 3px 1px rgba(0, 0, 0, 0.15);\n",
              "      filter: drop-shadow(0px 1px 2px rgba(0, 0, 0, 0.3));\n",
              "      fill: #FFFFFF;\n",
              "    }\n",
              "  </style>\n",
              "\n",
              "      <script>\n",
              "        const buttonEl =\n",
              "          document.querySelector('#df-4a899e6d-035d-4563-9fe5-c53f495f34d4 button.colab-df-convert');\n",
              "        buttonEl.style.display =\n",
              "          google.colab.kernel.accessAllowed ? 'block' : 'none';\n",
              "\n",
              "        async function convertToInteractive(key) {\n",
              "          const element = document.querySelector('#df-4a899e6d-035d-4563-9fe5-c53f495f34d4');\n",
              "          const dataTable =\n",
              "            await google.colab.kernel.invokeFunction('convertToInteractive',\n",
              "                                                     [key], {});\n",
              "          if (!dataTable) return;\n",
              "\n",
              "          const docLinkHtml = 'Like what you see? Visit the ' +\n",
              "            '<a target=\"_blank\" href=https://colab.research.google.com/notebooks/data_table.ipynb>data table notebook</a>'\n",
              "            + ' to learn more about interactive tables.';\n",
              "          element.innerHTML = '';\n",
              "          dataTable['output_type'] = 'display_data';\n",
              "          await google.colab.output.renderOutput(dataTable, element);\n",
              "          const docLink = document.createElement('div');\n",
              "          docLink.innerHTML = docLinkHtml;\n",
              "          element.appendChild(docLink);\n",
              "        }\n",
              "      </script>\n",
              "    </div>\n",
              "  </div>\n",
              "  "
            ]
          },
          "metadata": {},
          "execution_count": 73
        }
      ]
    },
    {
      "cell_type": "code",
      "source": [
        "# Create X & y values (features and labels)\n",
        "X = insurance_one_hot.drop(\"charges\", axis=1)\n",
        "y = insurance_one_hot[\"charges\"]\n"
      ],
      "metadata": {
        "id": "G2lwer6LrOjP"
      },
      "execution_count": 74,
      "outputs": []
    },
    {
      "cell_type": "code",
      "source": [
        "# View X\n",
        "X.head()"
      ],
      "metadata": {
        "colab": {
          "base_uri": "https://localhost:8080/",
          "height": 270
        },
        "id": "VXptTwBLwfoH",
        "outputId": "ca4b34dd-f96e-44cb-e1a1-61b046e14a9f"
      },
      "execution_count": 75,
      "outputs": [
        {
          "output_type": "execute_result",
          "data": {
            "text/plain": [
              "   age     bmi  children  sex_female  sex_male  smoker_no  smoker_yes  \\\n",
              "0   19  27.900         0           1         0          0           1   \n",
              "1   18  33.770         1           0         1          1           0   \n",
              "2   28  33.000         3           0         1          1           0   \n",
              "3   33  22.705         0           0         1          1           0   \n",
              "4   32  28.880         0           0         1          1           0   \n",
              "\n",
              "   region_northeast  region_northwest  region_southeast  region_southwest  \n",
              "0                 0                 0                 0                 1  \n",
              "1                 0                 0                 1                 0  \n",
              "2                 0                 0                 1                 0  \n",
              "3                 0                 1                 0                 0  \n",
              "4                 0                 1                 0                 0  "
            ],
            "text/html": [
              "\n",
              "  <div id=\"df-6fc14189-7bff-455d-9e4d-1417c6e909b0\">\n",
              "    <div class=\"colab-df-container\">\n",
              "      <div>\n",
              "<style scoped>\n",
              "    .dataframe tbody tr th:only-of-type {\n",
              "        vertical-align: middle;\n",
              "    }\n",
              "\n",
              "    .dataframe tbody tr th {\n",
              "        vertical-align: top;\n",
              "    }\n",
              "\n",
              "    .dataframe thead th {\n",
              "        text-align: right;\n",
              "    }\n",
              "</style>\n",
              "<table border=\"1\" class=\"dataframe\">\n",
              "  <thead>\n",
              "    <tr style=\"text-align: right;\">\n",
              "      <th></th>\n",
              "      <th>age</th>\n",
              "      <th>bmi</th>\n",
              "      <th>children</th>\n",
              "      <th>sex_female</th>\n",
              "      <th>sex_male</th>\n",
              "      <th>smoker_no</th>\n",
              "      <th>smoker_yes</th>\n",
              "      <th>region_northeast</th>\n",
              "      <th>region_northwest</th>\n",
              "      <th>region_southeast</th>\n",
              "      <th>region_southwest</th>\n",
              "    </tr>\n",
              "  </thead>\n",
              "  <tbody>\n",
              "    <tr>\n",
              "      <th>0</th>\n",
              "      <td>19</td>\n",
              "      <td>27.900</td>\n",
              "      <td>0</td>\n",
              "      <td>1</td>\n",
              "      <td>0</td>\n",
              "      <td>0</td>\n",
              "      <td>1</td>\n",
              "      <td>0</td>\n",
              "      <td>0</td>\n",
              "      <td>0</td>\n",
              "      <td>1</td>\n",
              "    </tr>\n",
              "    <tr>\n",
              "      <th>1</th>\n",
              "      <td>18</td>\n",
              "      <td>33.770</td>\n",
              "      <td>1</td>\n",
              "      <td>0</td>\n",
              "      <td>1</td>\n",
              "      <td>1</td>\n",
              "      <td>0</td>\n",
              "      <td>0</td>\n",
              "      <td>0</td>\n",
              "      <td>1</td>\n",
              "      <td>0</td>\n",
              "    </tr>\n",
              "    <tr>\n",
              "      <th>2</th>\n",
              "      <td>28</td>\n",
              "      <td>33.000</td>\n",
              "      <td>3</td>\n",
              "      <td>0</td>\n",
              "      <td>1</td>\n",
              "      <td>1</td>\n",
              "      <td>0</td>\n",
              "      <td>0</td>\n",
              "      <td>0</td>\n",
              "      <td>1</td>\n",
              "      <td>0</td>\n",
              "    </tr>\n",
              "    <tr>\n",
              "      <th>3</th>\n",
              "      <td>33</td>\n",
              "      <td>22.705</td>\n",
              "      <td>0</td>\n",
              "      <td>0</td>\n",
              "      <td>1</td>\n",
              "      <td>1</td>\n",
              "      <td>0</td>\n",
              "      <td>0</td>\n",
              "      <td>1</td>\n",
              "      <td>0</td>\n",
              "      <td>0</td>\n",
              "    </tr>\n",
              "    <tr>\n",
              "      <th>4</th>\n",
              "      <td>32</td>\n",
              "      <td>28.880</td>\n",
              "      <td>0</td>\n",
              "      <td>0</td>\n",
              "      <td>1</td>\n",
              "      <td>1</td>\n",
              "      <td>0</td>\n",
              "      <td>0</td>\n",
              "      <td>1</td>\n",
              "      <td>0</td>\n",
              "      <td>0</td>\n",
              "    </tr>\n",
              "  </tbody>\n",
              "</table>\n",
              "</div>\n",
              "      <button class=\"colab-df-convert\" onclick=\"convertToInteractive('df-6fc14189-7bff-455d-9e4d-1417c6e909b0')\"\n",
              "              title=\"Convert this dataframe to an interactive table.\"\n",
              "              style=\"display:none;\">\n",
              "        \n",
              "  <svg xmlns=\"http://www.w3.org/2000/svg\" height=\"24px\"viewBox=\"0 0 24 24\"\n",
              "       width=\"24px\">\n",
              "    <path d=\"M0 0h24v24H0V0z\" fill=\"none\"/>\n",
              "    <path d=\"M18.56 5.44l.94 2.06.94-2.06 2.06-.94-2.06-.94-.94-2.06-.94 2.06-2.06.94zm-11 1L8.5 8.5l.94-2.06 2.06-.94-2.06-.94L8.5 2.5l-.94 2.06-2.06.94zm10 10l.94 2.06.94-2.06 2.06-.94-2.06-.94-.94-2.06-.94 2.06-2.06.94z\"/><path d=\"M17.41 7.96l-1.37-1.37c-.4-.4-.92-.59-1.43-.59-.52 0-1.04.2-1.43.59L10.3 9.45l-7.72 7.72c-.78.78-.78 2.05 0 2.83L4 21.41c.39.39.9.59 1.41.59.51 0 1.02-.2 1.41-.59l7.78-7.78 2.81-2.81c.8-.78.8-2.07 0-2.86zM5.41 20L4 18.59l7.72-7.72 1.47 1.35L5.41 20z\"/>\n",
              "  </svg>\n",
              "      </button>\n",
              "      \n",
              "  <style>\n",
              "    .colab-df-container {\n",
              "      display:flex;\n",
              "      flex-wrap:wrap;\n",
              "      gap: 12px;\n",
              "    }\n",
              "\n",
              "    .colab-df-convert {\n",
              "      background-color: #E8F0FE;\n",
              "      border: none;\n",
              "      border-radius: 50%;\n",
              "      cursor: pointer;\n",
              "      display: none;\n",
              "      fill: #1967D2;\n",
              "      height: 32px;\n",
              "      padding: 0 0 0 0;\n",
              "      width: 32px;\n",
              "    }\n",
              "\n",
              "    .colab-df-convert:hover {\n",
              "      background-color: #E2EBFA;\n",
              "      box-shadow: 0px 1px 2px rgba(60, 64, 67, 0.3), 0px 1px 3px 1px rgba(60, 64, 67, 0.15);\n",
              "      fill: #174EA6;\n",
              "    }\n",
              "\n",
              "    [theme=dark] .colab-df-convert {\n",
              "      background-color: #3B4455;\n",
              "      fill: #D2E3FC;\n",
              "    }\n",
              "\n",
              "    [theme=dark] .colab-df-convert:hover {\n",
              "      background-color: #434B5C;\n",
              "      box-shadow: 0px 1px 3px 1px rgba(0, 0, 0, 0.15);\n",
              "      filter: drop-shadow(0px 1px 2px rgba(0, 0, 0, 0.3));\n",
              "      fill: #FFFFFF;\n",
              "    }\n",
              "  </style>\n",
              "\n",
              "      <script>\n",
              "        const buttonEl =\n",
              "          document.querySelector('#df-6fc14189-7bff-455d-9e4d-1417c6e909b0 button.colab-df-convert');\n",
              "        buttonEl.style.display =\n",
              "          google.colab.kernel.accessAllowed ? 'block' : 'none';\n",
              "\n",
              "        async function convertToInteractive(key) {\n",
              "          const element = document.querySelector('#df-6fc14189-7bff-455d-9e4d-1417c6e909b0');\n",
              "          const dataTable =\n",
              "            await google.colab.kernel.invokeFunction('convertToInteractive',\n",
              "                                                     [key], {});\n",
              "          if (!dataTable) return;\n",
              "\n",
              "          const docLinkHtml = 'Like what you see? Visit the ' +\n",
              "            '<a target=\"_blank\" href=https://colab.research.google.com/notebooks/data_table.ipynb>data table notebook</a>'\n",
              "            + ' to learn more about interactive tables.';\n",
              "          element.innerHTML = '';\n",
              "          dataTable['output_type'] = 'display_data';\n",
              "          await google.colab.output.renderOutput(dataTable, element);\n",
              "          const docLink = document.createElement('div');\n",
              "          docLink.innerHTML = docLinkHtml;\n",
              "          element.appendChild(docLink);\n",
              "        }\n",
              "      </script>\n",
              "    </div>\n",
              "  </div>\n",
              "  "
            ]
          },
          "metadata": {},
          "execution_count": 75
        }
      ]
    },
    {
      "cell_type": "code",
      "source": [
        "# View y\n",
        "y.head()"
      ],
      "metadata": {
        "colab": {
          "base_uri": "https://localhost:8080/"
        },
        "id": "r4Mz2Sv4wr_v",
        "outputId": "5a841977-ee62-4517-f5fd-1a492ebd4e2a"
      },
      "execution_count": 76,
      "outputs": [
        {
          "output_type": "execute_result",
          "data": {
            "text/plain": [
              "0    16884.92400\n",
              "1     1725.55230\n",
              "2     4449.46200\n",
              "3    21984.47061\n",
              "4     3866.85520\n",
              "Name: charges, dtype: float64"
            ]
          },
          "metadata": {},
          "execution_count": 76
        }
      ]
    },
    {
      "cell_type": "code",
      "source": [
        "# Create training and test sets\n",
        "from sklearn.model_selection import train_test_split\n",
        "\n",
        "X_train, X_test, y_train, y_test = train_test_split(X, y, test_size=0.2, random_state=42)\n",
        "len(X), len(X_train), len(X_test)"
      ],
      "metadata": {
        "colab": {
          "base_uri": "https://localhost:8080/"
        },
        "id": "9PsQN0Z-tk5F",
        "outputId": "205df566-d770-498d-cf4e-9d6f9c37ed5f"
      },
      "execution_count": 77,
      "outputs": [
        {
          "output_type": "execute_result",
          "data": {
            "text/plain": [
              "(1338, 1070, 268)"
            ]
          },
          "metadata": {},
          "execution_count": 77
        }
      ]
    },
    {
      "cell_type": "code",
      "source": [
        " # Build a neural network (sort of like model_2 above)\n",
        "tf.random.set_seed(42)\n",
        "\n",
        "# 1. Create a model \n",
        "insurance_model = tf.keras.Sequential()\n",
        "insurance_model.add(tf.keras.layers.Dense(10))\n",
        "insurance_model.add(tf.keras.layers.Dense(1))\n",
        "\n",
        "# 2. Compile the model \n",
        "insurance_model.compile(loss=tf.keras.losses.mae,\n",
        "                        optimizer=tf.keras.optimizers.SGD(),\n",
        "                        metrics=[\"mae\"])\n",
        "\n",
        "# 3. Fit the model \n",
        "insurance_model.fit(X_train, y_train, epochs=100)"
      ],
      "metadata": {
        "colab": {
          "base_uri": "https://localhost:8080/"
        },
        "id": "zebOI7Y5toII",
        "outputId": "46cfa246-21fe-405a-f045-8d5f7bb2f55a"
      },
      "execution_count": 78,
      "outputs": [
        {
          "output_type": "stream",
          "name": "stdout",
          "text": [
            "Epoch 1/100\n",
            "34/34 [==============================] - 1s 3ms/step - loss: 8710.8096 - mae: 8710.8096\n",
            "Epoch 2/100\n",
            "34/34 [==============================] - 0s 4ms/step - loss: 7862.1689 - mae: 7862.1689\n",
            "Epoch 3/100\n",
            "34/34 [==============================] - 0s 2ms/step - loss: 7532.2627 - mae: 7532.2627\n",
            "Epoch 4/100\n",
            "34/34 [==============================] - 0s 3ms/step - loss: 7692.7314 - mae: 7692.7314\n",
            "Epoch 5/100\n",
            "34/34 [==============================] - 0s 3ms/step - loss: 7673.1025 - mae: 7673.1025\n",
            "Epoch 6/100\n",
            "34/34 [==============================] - 0s 2ms/step - loss: 7605.7915 - mae: 7605.7915\n",
            "Epoch 7/100\n",
            "34/34 [==============================] - 0s 3ms/step - loss: 7670.9429 - mae: 7670.9429\n",
            "Epoch 8/100\n",
            "34/34 [==============================] - 0s 2ms/step - loss: 7742.1899 - mae: 7742.1899\n",
            "Epoch 9/100\n",
            "34/34 [==============================] - 0s 2ms/step - loss: 7573.6836 - mae: 7573.6836\n",
            "Epoch 10/100\n",
            "34/34 [==============================] - 0s 3ms/step - loss: 7697.9751 - mae: 7697.9751\n",
            "Epoch 11/100\n",
            "34/34 [==============================] - 0s 3ms/step - loss: 7583.7480 - mae: 7583.7480\n",
            "Epoch 12/100\n",
            "34/34 [==============================] - 0s 3ms/step - loss: 7596.2378 - mae: 7596.2378\n",
            "Epoch 13/100\n",
            "34/34 [==============================] - 0s 2ms/step - loss: 7663.6846 - mae: 7663.6846\n",
            "Epoch 14/100\n",
            "34/34 [==============================] - 0s 2ms/step - loss: 7718.8394 - mae: 7718.8394\n",
            "Epoch 15/100\n",
            "34/34 [==============================] - 0s 3ms/step - loss: 7515.8799 - mae: 7515.8799\n",
            "Epoch 16/100\n",
            "34/34 [==============================] - 0s 3ms/step - loss: 7820.9492 - mae: 7820.9492\n",
            "Epoch 17/100\n",
            "34/34 [==============================] - 0s 3ms/step - loss: 7589.8550 - mae: 7589.8550\n",
            "Epoch 18/100\n",
            "34/34 [==============================] - 0s 3ms/step - loss: 7749.9819 - mae: 7749.9819\n",
            "Epoch 19/100\n",
            "34/34 [==============================] - 0s 2ms/step - loss: 7553.2290 - mae: 7553.2290\n",
            "Epoch 20/100\n",
            "34/34 [==============================] - 0s 3ms/step - loss: 7883.7339 - mae: 7883.7339\n",
            "Epoch 21/100\n",
            "34/34 [==============================] - 0s 3ms/step - loss: 7518.7593 - mae: 7518.7593\n",
            "Epoch 22/100\n",
            "34/34 [==============================] - 0s 3ms/step - loss: 7927.7139 - mae: 7927.7139\n",
            "Epoch 23/100\n",
            "34/34 [==============================] - 0s 4ms/step - loss: 7729.2979 - mae: 7729.2979\n",
            "Epoch 24/100\n",
            "34/34 [==============================] - 0s 2ms/step - loss: 7567.5264 - mae: 7567.5264\n",
            "Epoch 25/100\n",
            "34/34 [==============================] - 0s 3ms/step - loss: 7641.6147 - mae: 7641.6147\n",
            "Epoch 26/100\n",
            "34/34 [==============================] - 0s 2ms/step - loss: 7689.8999 - mae: 7689.8999\n",
            "Epoch 27/100\n",
            "34/34 [==============================] - 0s 2ms/step - loss: 7743.2603 - mae: 7743.2603\n",
            "Epoch 28/100\n",
            "34/34 [==============================] - 0s 3ms/step - loss: 7592.4653 - mae: 7592.4653\n",
            "Epoch 29/100\n",
            "34/34 [==============================] - 0s 2ms/step - loss: 7688.9082 - mae: 7688.9082\n",
            "Epoch 30/100\n",
            "34/34 [==============================] - 0s 3ms/step - loss: 7518.0210 - mae: 7518.0210\n",
            "Epoch 31/100\n",
            "34/34 [==============================] - 0s 4ms/step - loss: 7618.0103 - mae: 7618.0103\n",
            "Epoch 32/100\n",
            "34/34 [==============================] - 0s 3ms/step - loss: 7485.0283 - mae: 7485.0283\n",
            "Epoch 33/100\n",
            "34/34 [==============================] - 0s 4ms/step - loss: 7428.1230 - mae: 7428.1230\n",
            "Epoch 34/100\n",
            "34/34 [==============================] - 0s 3ms/step - loss: 7302.3271 - mae: 7302.3271\n",
            "Epoch 35/100\n",
            "34/34 [==============================] - 0s 3ms/step - loss: 7383.9780 - mae: 7383.9780\n",
            "Epoch 36/100\n",
            "34/34 [==============================] - 0s 3ms/step - loss: 7604.4458 - mae: 7604.4458\n",
            "Epoch 37/100\n",
            "34/34 [==============================] - 0s 2ms/step - loss: 7575.0186 - mae: 7575.0186\n",
            "Epoch 38/100\n",
            "34/34 [==============================] - 0s 2ms/step - loss: 7415.1797 - mae: 7415.1797\n",
            "Epoch 39/100\n",
            "34/34 [==============================] - 0s 3ms/step - loss: 7552.0088 - mae: 7552.0088\n",
            "Epoch 40/100\n",
            "34/34 [==============================] - 0s 2ms/step - loss: 7318.0479 - mae: 7318.0479\n",
            "Epoch 41/100\n",
            "34/34 [==============================] - 0s 3ms/step - loss: 7759.0591 - mae: 7759.0591\n",
            "Epoch 42/100\n",
            "34/34 [==============================] - 0s 4ms/step - loss: 7499.6636 - mae: 7499.6636\n",
            "Epoch 43/100\n",
            "34/34 [==============================] - 0s 3ms/step - loss: 7721.7646 - mae: 7721.7646\n",
            "Epoch 44/100\n",
            "34/34 [==============================] - 0s 2ms/step - loss: 7320.8296 - mae: 7320.8296\n",
            "Epoch 45/100\n",
            "34/34 [==============================] - 0s 2ms/step - loss: 7508.7061 - mae: 7508.7061\n",
            "Epoch 46/100\n",
            "34/34 [==============================] - 0s 2ms/step - loss: 7577.1436 - mae: 7577.1436\n",
            "Epoch 47/100\n",
            "34/34 [==============================] - 0s 2ms/step - loss: 7394.8926 - mae: 7394.8926\n",
            "Epoch 48/100\n",
            "34/34 [==============================] - 0s 2ms/step - loss: 7407.9111 - mae: 7407.9111\n",
            "Epoch 49/100\n",
            "34/34 [==============================] - 0s 2ms/step - loss: 7549.7373 - mae: 7549.7373\n",
            "Epoch 50/100\n",
            "34/34 [==============================] - 0s 3ms/step - loss: 7469.1914 - mae: 7469.1914\n",
            "Epoch 51/100\n",
            "34/34 [==============================] - 0s 3ms/step - loss: 7389.8438 - mae: 7389.8438\n",
            "Epoch 52/100\n",
            "34/34 [==============================] - 0s 3ms/step - loss: 7446.3047 - mae: 7446.3047\n",
            "Epoch 53/100\n",
            "34/34 [==============================] - 0s 3ms/step - loss: 7523.7207 - mae: 7523.7207\n",
            "Epoch 54/100\n",
            "34/34 [==============================] - 0s 3ms/step - loss: 7382.2173 - mae: 7382.2173\n",
            "Epoch 55/100\n",
            "34/34 [==============================] - 0s 2ms/step - loss: 7305.4253 - mae: 7305.4253\n",
            "Epoch 56/100\n",
            "34/34 [==============================] - 0s 2ms/step - loss: 7364.9736 - mae: 7364.9736\n",
            "Epoch 57/100\n",
            "34/34 [==============================] - 0s 3ms/step - loss: 7478.5664 - mae: 7478.5664\n",
            "Epoch 58/100\n",
            "34/34 [==============================] - 0s 2ms/step - loss: 7420.7212 - mae: 7420.7212\n",
            "Epoch 59/100\n",
            "34/34 [==============================] - 0s 3ms/step - loss: 7541.1484 - mae: 7541.1484\n",
            "Epoch 60/100\n",
            "34/34 [==============================] - 0s 3ms/step - loss: 7651.5356 - mae: 7651.5356\n",
            "Epoch 61/100\n",
            "34/34 [==============================] - 0s 2ms/step - loss: 7523.7637 - mae: 7523.7637\n",
            "Epoch 62/100\n",
            "34/34 [==============================] - 0s 3ms/step - loss: 7342.6470 - mae: 7342.6470\n",
            "Epoch 63/100\n",
            "34/34 [==============================] - 0s 3ms/step - loss: 7371.8999 - mae: 7371.8999\n",
            "Epoch 64/100\n",
            "34/34 [==============================] - 0s 3ms/step - loss: 7540.4658 - mae: 7540.4658\n",
            "Epoch 65/100\n",
            "34/34 [==============================] - 0s 2ms/step - loss: 7539.2876 - mae: 7539.2876\n",
            "Epoch 66/100\n",
            "34/34 [==============================] - 0s 3ms/step - loss: 7308.1704 - mae: 7308.1704\n",
            "Epoch 67/100\n",
            "34/34 [==============================] - 0s 2ms/step - loss: 7396.6406 - mae: 7396.6406\n",
            "Epoch 68/100\n",
            "34/34 [==============================] - 0s 2ms/step - loss: 7439.1270 - mae: 7439.1270\n",
            "Epoch 69/100\n",
            "34/34 [==============================] - 0s 2ms/step - loss: 7554.5586 - mae: 7554.5586\n",
            "Epoch 70/100\n",
            "34/34 [==============================] - 0s 3ms/step - loss: 7679.3599 - mae: 7679.3599\n",
            "Epoch 71/100\n",
            "34/34 [==============================] - 0s 3ms/step - loss: 7137.1362 - mae: 7137.1362\n",
            "Epoch 72/100\n",
            "34/34 [==============================] - 0s 3ms/step - loss: 7181.6123 - mae: 7181.6123\n",
            "Epoch 73/100\n",
            "34/34 [==============================] - 0s 3ms/step - loss: 7392.8169 - mae: 7392.8169\n",
            "Epoch 74/100\n",
            "34/34 [==============================] - 0s 3ms/step - loss: 7402.2524 - mae: 7402.2524\n",
            "Epoch 75/100\n",
            "34/34 [==============================] - 0s 3ms/step - loss: 7250.8218 - mae: 7250.8218\n",
            "Epoch 76/100\n",
            "34/34 [==============================] - 0s 3ms/step - loss: 7318.0146 - mae: 7318.0146\n",
            "Epoch 77/100\n",
            "34/34 [==============================] - 0s 4ms/step - loss: 7603.2622 - mae: 7603.2622\n",
            "Epoch 78/100\n",
            "34/34 [==============================] - 0s 4ms/step - loss: 7259.4854 - mae: 7259.4854\n",
            "Epoch 79/100\n",
            "34/34 [==============================] - 0s 4ms/step - loss: 7583.1470 - mae: 7583.1470\n",
            "Epoch 80/100\n",
            "34/34 [==============================] - 0s 5ms/step - loss: 7281.9536 - mae: 7281.9536\n",
            "Epoch 81/100\n",
            "34/34 [==============================] - 0s 4ms/step - loss: 7010.0308 - mae: 7010.0308\n",
            "Epoch 82/100\n",
            "34/34 [==============================] - 0s 4ms/step - loss: 7249.1006 - mae: 7249.1006\n",
            "Epoch 83/100\n",
            "34/34 [==============================] - 0s 4ms/step - loss: 7457.8965 - mae: 7457.8965\n",
            "Epoch 84/100\n",
            "34/34 [==============================] - 0s 4ms/step - loss: 7239.8691 - mae: 7239.8691\n",
            "Epoch 85/100\n",
            "34/34 [==============================] - 0s 3ms/step - loss: 7424.7397 - mae: 7424.7397\n",
            "Epoch 86/100\n",
            "34/34 [==============================] - 0s 4ms/step - loss: 7470.8271 - mae: 7470.8271\n",
            "Epoch 87/100\n",
            "34/34 [==============================] - 0s 4ms/step - loss: 7244.9600 - mae: 7244.9600\n",
            "Epoch 88/100\n",
            "34/34 [==============================] - 0s 4ms/step - loss: 7275.5059 - mae: 7275.5059\n",
            "Epoch 89/100\n",
            "34/34 [==============================] - 0s 4ms/step - loss: 7103.7598 - mae: 7103.7598\n",
            "Epoch 90/100\n",
            "34/34 [==============================] - 0s 3ms/step - loss: 7157.6782 - mae: 7157.6782\n",
            "Epoch 91/100\n",
            "34/34 [==============================] - 0s 4ms/step - loss: 7285.3179 - mae: 7285.3179\n",
            "Epoch 92/100\n",
            "34/34 [==============================] - 0s 4ms/step - loss: 7202.9248 - mae: 7202.9248\n",
            "Epoch 93/100\n",
            "34/34 [==============================] - 0s 3ms/step - loss: 7532.8096 - mae: 7532.8096\n",
            "Epoch 94/100\n",
            "34/34 [==============================] - 0s 4ms/step - loss: 7244.5225 - mae: 7244.5225\n",
            "Epoch 95/100\n",
            "34/34 [==============================] - 0s 4ms/step - loss: 7535.2056 - mae: 7535.2056\n",
            "Epoch 96/100\n",
            "34/34 [==============================] - 0s 3ms/step - loss: 7349.8408 - mae: 7349.8408\n",
            "Epoch 97/100\n",
            "34/34 [==============================] - 0s 4ms/step - loss: 7171.3853 - mae: 7171.3853\n",
            "Epoch 98/100\n",
            "34/34 [==============================] - 0s 3ms/step - loss: 7464.5034 - mae: 7464.5034\n",
            "Epoch 99/100\n",
            "34/34 [==============================] - 0s 3ms/step - loss: 7381.6919 - mae: 7381.6919\n",
            "Epoch 100/100\n",
            "34/34 [==============================] - 0s 4ms/step - loss: 7260.5967 - mae: 7260.5967\n"
          ]
        },
        {
          "output_type": "execute_result",
          "data": {
            "text/plain": [
              "<keras.callbacks.History at 0x7f5508d36c10>"
            ]
          },
          "metadata": {},
          "execution_count": 78
        }
      ]
    },
    {
      "cell_type": "code",
      "source": [
        "insurance_model.summary()"
      ],
      "metadata": {
        "colab": {
          "base_uri": "https://localhost:8080/"
        },
        "id": "GY0PISdRzwhw",
        "outputId": "1ff1e80d-14dd-4e21-9f86-d3d9519951ea"
      },
      "execution_count": 79,
      "outputs": [
        {
          "output_type": "stream",
          "name": "stdout",
          "text": [
            "Model: \"sequential_8\"\n",
            "_________________________________________________________________\n",
            " Layer (type)                Output Shape              Param #   \n",
            "=================================================================\n",
            " dense_11 (Dense)            (None, 10)                120       \n",
            "                                                                 \n",
            " dense_12 (Dense)            (None, 1)                 11        \n",
            "                                                                 \n",
            "=================================================================\n",
            "Total params: 131\n",
            "Trainable params: 131\n",
            "Non-trainable params: 0\n",
            "_________________________________________________________________\n"
          ]
        }
      ]
    },
    {
      "cell_type": "code",
      "source": [
        "# Check the results of the insurance model on the test data \n",
        "insurance_model.evaluate(X_test, y_test)"
      ],
      "metadata": {
        "colab": {
          "base_uri": "https://localhost:8080/"
        },
        "id": "LKDfwb1V2twg",
        "outputId": "61712aeb-506d-4948-cd4b-15a280b55000"
      },
      "execution_count": 80,
      "outputs": [
        {
          "output_type": "stream",
          "name": "stdout",
          "text": [
            "9/9 [==============================] - 0s 2ms/step - loss: 7743.0493 - mae: 7743.0493\n"
          ]
        },
        {
          "output_type": "execute_result",
          "data": {
            "text/plain": [
              "[7743.04931640625, 7743.04931640625]"
            ]
          },
          "metadata": {},
          "execution_count": 80
        }
      ]
    },
    {
      "cell_type": "markdown",
      "source": [
        "Right now it looks like our model isn't performing too well... let's try and improve it!\n",
        "\n",
        "To (try) improve our model, we'll run 2 experiments:\n",
        "1. Add an extra layer with more hidden units and use the Adam optimizer. \n",
        "2. Same as above but train for longer (200 epochs). \n",
        "3. (insert your own experiment here) "
      ],
      "metadata": {
        "id": "cZw7YToq3mCn"
      }
    },
    {
      "cell_type": "code",
      "source": [
        "# Set random seed\n",
        "tf.random.set_seed(42)\n",
        "\n",
        "# Create the model \n",
        "insurance_model_2 = tf.keras.Sequential()\n",
        "insurance_model_2.add(tf.keras.layers.Dense(100))\n",
        "insurance_model_2.add(tf.keras.layers.Dense(10))\n",
        "insurance_model_2.add(tf.keras.layers.Dense(1))\n",
        "\n",
        "# Compile the model \n",
        "insurance_model_2.compile(loss=tf.keras.losses.mae,\n",
        "                          optimizer=tf.keras.optimizers.Adam(),\n",
        "                          metrics=[\"mae\"])\n",
        "\n",
        "# 3. Fit the model \n",
        "insurance_model_2.fit(X_train, y_train, epochs=100, verbose=1)"
      ],
      "metadata": {
        "colab": {
          "base_uri": "https://localhost:8080/"
        },
        "id": "xbI8k8WY43VV",
        "outputId": "40d52da7-9a74-439e-b635-49cbedb9d31d"
      },
      "execution_count": 81,
      "outputs": [
        {
          "output_type": "stream",
          "name": "stdout",
          "text": [
            "Epoch 1/100\n",
            "34/34 [==============================] - 1s 4ms/step - loss: 13259.9072 - mae: 13259.9072\n",
            "Epoch 2/100\n",
            "34/34 [==============================] - 0s 3ms/step - loss: 13036.5020 - mae: 13036.5020\n",
            "Epoch 3/100\n",
            "34/34 [==============================] - 0s 6ms/step - loss: 12577.3955 - mae: 12577.3955\n",
            "Epoch 4/100\n",
            "34/34 [==============================] - 0s 5ms/step - loss: 11724.7061 - mae: 11724.7061\n",
            "Epoch 5/100\n",
            "34/34 [==============================] - 0s 7ms/step - loss: 10419.8740 - mae: 10419.8740\n",
            "Epoch 6/100\n",
            "34/34 [==============================] - 0s 4ms/step - loss: 8935.9062 - mae: 8935.9062\n",
            "Epoch 7/100\n",
            "34/34 [==============================] - 0s 5ms/step - loss: 7800.7041 - mae: 7800.7041\n",
            "Epoch 8/100\n",
            "34/34 [==============================] - 0s 5ms/step - loss: 7450.0947 - mae: 7450.0947\n",
            "Epoch 9/100\n",
            "34/34 [==============================] - 0s 5ms/step - loss: 7402.8174 - mae: 7402.8174\n",
            "Epoch 10/100\n",
            "34/34 [==============================] - 0s 5ms/step - loss: 7383.1626 - mae: 7383.1626\n",
            "Epoch 11/100\n",
            "34/34 [==============================] - 0s 5ms/step - loss: 7363.7202 - mae: 7363.7202\n",
            "Epoch 12/100\n",
            "34/34 [==============================] - 0s 4ms/step - loss: 7340.8887 - mae: 7340.8887\n",
            "Epoch 13/100\n",
            "34/34 [==============================] - 0s 5ms/step - loss: 7319.8042 - mae: 7319.8042\n",
            "Epoch 14/100\n",
            "34/34 [==============================] - 0s 4ms/step - loss: 7296.3066 - mae: 7296.3066\n",
            "Epoch 15/100\n",
            "34/34 [==============================] - 0s 5ms/step - loss: 7276.5840 - mae: 7276.5840\n",
            "Epoch 16/100\n",
            "34/34 [==============================] - 0s 4ms/step - loss: 7253.4932 - mae: 7253.4932\n",
            "Epoch 17/100\n",
            "34/34 [==============================] - 0s 4ms/step - loss: 7230.3662 - mae: 7230.3662\n",
            "Epoch 18/100\n",
            "34/34 [==============================] - 0s 4ms/step - loss: 7205.9785 - mae: 7205.9785\n",
            "Epoch 19/100\n",
            "34/34 [==============================] - 0s 5ms/step - loss: 7181.6362 - mae: 7181.6362\n",
            "Epoch 20/100\n",
            "34/34 [==============================] - 0s 5ms/step - loss: 7155.6094 - mae: 7155.6094\n",
            "Epoch 21/100\n",
            "34/34 [==============================] - 0s 5ms/step - loss: 7133.9722 - mae: 7133.9722\n",
            "Epoch 22/100\n",
            "34/34 [==============================] - 0s 5ms/step - loss: 7104.4556 - mae: 7104.4556\n",
            "Epoch 23/100\n",
            "34/34 [==============================] - 0s 4ms/step - loss: 7076.8164 - mae: 7076.8164\n",
            "Epoch 24/100\n",
            "34/34 [==============================] - 0s 5ms/step - loss: 7048.5415 - mae: 7048.5415\n",
            "Epoch 25/100\n",
            "34/34 [==============================] - 0s 4ms/step - loss: 7026.4834 - mae: 7026.4834\n",
            "Epoch 26/100\n",
            "34/34 [==============================] - 0s 5ms/step - loss: 6991.8579 - mae: 6991.8579\n",
            "Epoch 27/100\n",
            "34/34 [==============================] - 0s 5ms/step - loss: 6960.4683 - mae: 6960.4683\n",
            "Epoch 28/100\n",
            "34/34 [==============================] - 0s 5ms/step - loss: 6927.9893 - mae: 6927.9893\n",
            "Epoch 29/100\n",
            "34/34 [==============================] - 0s 5ms/step - loss: 6896.3677 - mae: 6896.3677\n",
            "Epoch 30/100\n",
            "34/34 [==============================] - 0s 6ms/step - loss: 6866.6123 - mae: 6866.6123\n",
            "Epoch 31/100\n",
            "34/34 [==============================] - 0s 5ms/step - loss: 6830.9116 - mae: 6830.9116\n",
            "Epoch 32/100\n",
            "34/34 [==============================] - 0s 4ms/step - loss: 6797.8545 - mae: 6797.8545\n",
            "Epoch 33/100\n",
            "34/34 [==============================] - 0s 3ms/step - loss: 6760.9868 - mae: 6760.9868\n",
            "Epoch 34/100\n",
            "34/34 [==============================] - 0s 3ms/step - loss: 6725.0664 - mae: 6725.0664\n",
            "Epoch 35/100\n",
            "34/34 [==============================] - 0s 4ms/step - loss: 6688.2778 - mae: 6688.2778\n",
            "Epoch 36/100\n",
            "34/34 [==============================] - 0s 3ms/step - loss: 6651.3389 - mae: 6651.3389\n",
            "Epoch 37/100\n",
            "34/34 [==============================] - 0s 3ms/step - loss: 6614.6123 - mae: 6614.6123\n",
            "Epoch 38/100\n",
            "34/34 [==============================] - 0s 3ms/step - loss: 6583.6240 - mae: 6583.6240\n",
            "Epoch 39/100\n",
            "34/34 [==============================] - 0s 3ms/step - loss: 6549.3491 - mae: 6549.3491\n",
            "Epoch 40/100\n",
            "34/34 [==============================] - 0s 3ms/step - loss: 6524.1357 - mae: 6524.1357\n",
            "Epoch 41/100\n",
            "34/34 [==============================] - 0s 3ms/step - loss: 6504.4595 - mae: 6504.4595\n",
            "Epoch 42/100\n",
            "34/34 [==============================] - 0s 3ms/step - loss: 6486.6816 - mae: 6486.6816\n",
            "Epoch 43/100\n",
            "34/34 [==============================] - 0s 3ms/step - loss: 6470.5610 - mae: 6470.5610\n",
            "Epoch 44/100\n",
            "34/34 [==============================] - 0s 3ms/step - loss: 6453.2051 - mae: 6453.2051\n",
            "Epoch 45/100\n",
            "34/34 [==============================] - 0s 3ms/step - loss: 6446.9424 - mae: 6446.9424\n",
            "Epoch 46/100\n",
            "34/34 [==============================] - 0s 3ms/step - loss: 6427.3242 - mae: 6427.3242\n",
            "Epoch 47/100\n",
            "34/34 [==============================] - 0s 3ms/step - loss: 6412.8320 - mae: 6412.8320\n",
            "Epoch 48/100\n",
            "34/34 [==============================] - 0s 3ms/step - loss: 6398.5488 - mae: 6398.5488\n",
            "Epoch 49/100\n",
            "34/34 [==============================] - 0s 3ms/step - loss: 6387.8379 - mae: 6387.8379\n",
            "Epoch 50/100\n",
            "34/34 [==============================] - 0s 3ms/step - loss: 6372.6660 - mae: 6372.6660\n",
            "Epoch 51/100\n",
            "34/34 [==============================] - 0s 4ms/step - loss: 6358.6992 - mae: 6358.6992\n",
            "Epoch 52/100\n",
            "34/34 [==============================] - 0s 3ms/step - loss: 6345.3071 - mae: 6345.3071\n",
            "Epoch 53/100\n",
            "34/34 [==============================] - 0s 4ms/step - loss: 6329.6377 - mae: 6329.6377\n",
            "Epoch 54/100\n",
            "34/34 [==============================] - 0s 4ms/step - loss: 6315.0029 - mae: 6315.0029\n",
            "Epoch 55/100\n",
            "34/34 [==============================] - 0s 3ms/step - loss: 6300.3428 - mae: 6300.3428\n",
            "Epoch 56/100\n",
            "34/34 [==============================] - 0s 5ms/step - loss: 6285.4346 - mae: 6285.4346\n",
            "Epoch 57/100\n",
            "34/34 [==============================] - 0s 3ms/step - loss: 6270.1445 - mae: 6270.1445\n",
            "Epoch 58/100\n",
            "34/34 [==============================] - 0s 4ms/step - loss: 6255.3247 - mae: 6255.3247\n",
            "Epoch 59/100\n",
            "34/34 [==============================] - 0s 3ms/step - loss: 6239.0615 - mae: 6239.0615\n",
            "Epoch 60/100\n",
            "34/34 [==============================] - 0s 4ms/step - loss: 6226.4404 - mae: 6226.4404\n",
            "Epoch 61/100\n",
            "34/34 [==============================] - 0s 3ms/step - loss: 6204.6616 - mae: 6204.6616\n",
            "Epoch 62/100\n",
            "34/34 [==============================] - 0s 3ms/step - loss: 6190.8911 - mae: 6190.8911\n",
            "Epoch 63/100\n",
            "34/34 [==============================] - 0s 3ms/step - loss: 6170.3467 - mae: 6170.3467\n",
            "Epoch 64/100\n",
            "34/34 [==============================] - 0s 3ms/step - loss: 6151.3818 - mae: 6151.3818\n",
            "Epoch 65/100\n",
            "34/34 [==============================] - 0s 3ms/step - loss: 6133.0181 - mae: 6133.0181\n",
            "Epoch 66/100\n",
            "34/34 [==============================] - 0s 3ms/step - loss: 6112.8867 - mae: 6112.8867\n",
            "Epoch 67/100\n",
            "34/34 [==============================] - 0s 4ms/step - loss: 6098.6929 - mae: 6098.6929\n",
            "Epoch 68/100\n",
            "34/34 [==============================] - 0s 3ms/step - loss: 6072.8257 - mae: 6072.8257\n",
            "Epoch 69/100\n",
            "34/34 [==============================] - 0s 3ms/step - loss: 6054.9810 - mae: 6054.9810\n",
            "Epoch 70/100\n",
            "34/34 [==============================] - 0s 3ms/step - loss: 6032.3398 - mae: 6032.3398\n",
            "Epoch 71/100\n",
            "34/34 [==============================] - 0s 3ms/step - loss: 6009.0474 - mae: 6009.0474\n",
            "Epoch 72/100\n",
            "34/34 [==============================] - 0s 3ms/step - loss: 5986.5913 - mae: 5986.5913\n",
            "Epoch 73/100\n",
            "34/34 [==============================] - 0s 3ms/step - loss: 5970.1377 - mae: 5970.1377\n",
            "Epoch 74/100\n",
            "34/34 [==============================] - 0s 3ms/step - loss: 5936.7495 - mae: 5936.7495\n",
            "Epoch 75/100\n",
            "34/34 [==============================] - 0s 3ms/step - loss: 5912.8164 - mae: 5912.8164\n",
            "Epoch 76/100\n",
            "34/34 [==============================] - 0s 4ms/step - loss: 5892.8584 - mae: 5892.8584\n",
            "Epoch 77/100\n",
            "34/34 [==============================] - 0s 3ms/step - loss: 5858.7896 - mae: 5858.7896\n",
            "Epoch 78/100\n",
            "34/34 [==============================] - 0s 6ms/step - loss: 5830.3066 - mae: 5830.3066\n",
            "Epoch 79/100\n",
            "34/34 [==============================] - 0s 4ms/step - loss: 5800.7271 - mae: 5800.7271\n",
            "Epoch 80/100\n",
            "34/34 [==============================] - 0s 5ms/step - loss: 5769.0361 - mae: 5769.0361\n",
            "Epoch 81/100\n",
            "34/34 [==============================] - 0s 7ms/step - loss: 5739.0659 - mae: 5739.0659\n",
            "Epoch 82/100\n",
            "34/34 [==============================] - 0s 7ms/step - loss: 5704.1284 - mae: 5704.1284\n",
            "Epoch 83/100\n",
            "34/34 [==============================] - 0s 6ms/step - loss: 5671.6685 - mae: 5671.6685\n",
            "Epoch 84/100\n",
            "34/34 [==============================] - 0s 8ms/step - loss: 5632.0371 - mae: 5632.0371\n",
            "Epoch 85/100\n",
            "34/34 [==============================] - 0s 7ms/step - loss: 5599.6118 - mae: 5599.6118\n",
            "Epoch 86/100\n",
            "34/34 [==============================] - 0s 5ms/step - loss: 5558.8086 - mae: 5558.8086\n",
            "Epoch 87/100\n",
            "34/34 [==============================] - 0s 7ms/step - loss: 5516.0454 - mae: 5516.0454\n",
            "Epoch 88/100\n",
            "34/34 [==============================] - 0s 5ms/step - loss: 5472.0449 - mae: 5472.0449\n",
            "Epoch 89/100\n",
            "34/34 [==============================] - 0s 4ms/step - loss: 5426.0762 - mae: 5426.0762\n",
            "Epoch 90/100\n",
            "34/34 [==============================] - 0s 4ms/step - loss: 5375.3184 - mae: 5375.3184\n",
            "Epoch 91/100\n",
            "34/34 [==============================] - 0s 6ms/step - loss: 5329.5903 - mae: 5329.5903\n",
            "Epoch 92/100\n",
            "34/34 [==============================] - 0s 7ms/step - loss: 5275.0195 - mae: 5275.0195\n",
            "Epoch 93/100\n",
            "34/34 [==============================] - 0s 7ms/step - loss: 5221.9141 - mae: 5221.9141\n",
            "Epoch 94/100\n",
            "34/34 [==============================] - 0s 6ms/step - loss: 5165.2764 - mae: 5165.2764\n",
            "Epoch 95/100\n",
            "34/34 [==============================] - 0s 8ms/step - loss: 5103.5586 - mae: 5103.5586\n",
            "Epoch 96/100\n",
            "34/34 [==============================] - 0s 8ms/step - loss: 5048.0981 - mae: 5048.0981\n",
            "Epoch 97/100\n",
            "34/34 [==============================] - 0s 5ms/step - loss: 4983.8335 - mae: 4983.8335\n",
            "Epoch 98/100\n",
            "34/34 [==============================] - 0s 5ms/step - loss: 4914.5542 - mae: 4914.5542\n",
            "Epoch 99/100\n",
            "34/34 [==============================] - 0s 7ms/step - loss: 4835.7969 - mae: 4835.7969\n",
            "Epoch 100/100\n",
            "34/34 [==============================] - 0s 11ms/step - loss: 4773.5098 - mae: 4773.5098\n"
          ]
        },
        {
          "output_type": "execute_result",
          "data": {
            "text/plain": [
              "<keras.callbacks.History at 0x7f5508bee160>"
            ]
          },
          "metadata": {},
          "execution_count": 81
        }
      ]
    },
    {
      "cell_type": "code",
      "source": [
        "# Evaluate the larger model\n",
        "insurance_model_2.evaluate(X_test, y_test)"
      ],
      "metadata": {
        "colab": {
          "base_uri": "https://localhost:8080/"
        },
        "id": "GDTmkvz573ez",
        "outputId": "d198c838-e6dd-4377-d73a-9150fc204314"
      },
      "execution_count": 82,
      "outputs": [
        {
          "output_type": "stream",
          "name": "stdout",
          "text": [
            "9/9 [==============================] - 0s 6ms/step - loss: 4653.4214 - mae: 4653.4214\n"
          ]
        },
        {
          "output_type": "execute_result",
          "data": {
            "text/plain": [
              "[4653.42138671875, 4653.42138671875]"
            ]
          },
          "metadata": {},
          "execution_count": 82
        }
      ]
    },
    {
      "cell_type": "code",
      "source": [
        "insurance_model.evaluate(X_test, y_test)"
      ],
      "metadata": {
        "colab": {
          "base_uri": "https://localhost:8080/"
        },
        "id": "5eb54cR_9JXn",
        "outputId": "f6624c9c-19ae-4119-ccf4-78c7dd33fc4a"
      },
      "execution_count": 83,
      "outputs": [
        {
          "output_type": "stream",
          "name": "stdout",
          "text": [
            "9/9 [==============================] - 0s 11ms/step - loss: 7743.0493 - mae: 7743.0493\n"
          ]
        },
        {
          "output_type": "execute_result",
          "data": {
            "text/plain": [
              "[7743.04931640625, 7743.04931640625]"
            ]
          },
          "metadata": {},
          "execution_count": 83
        }
      ]
    },
    {
      "cell_type": "code",
      "source": [
        "# Set random seed\n",
        "tf.random.set_seed(42)\n",
        "\n",
        "# 1. Create the model (same as above)\n",
        "insurance_model_3 = tf.keras.Sequential()\n",
        "insurance_model_3.add(tf.keras.layers.Dense(100))\n",
        "insurance_model_3.add(tf.keras.layers.Dense(10))\n",
        "insurance_model_3.add(tf.keras.layers.Dense(1))\n",
        "\n",
        "# Compile the model \n",
        "insurance_model_3.compile(loss=tf.keras.losses.mae,\n",
        "                          optimizer=tf.keras.optimizers.Adam(),\n",
        "                          metrics=[\"mae\"])\n",
        "\n",
        "# 3. Fit the model \n",
        "history = insurance_model_3.fit(X_train, y_train, epochs=200, verbose=1)"
      ],
      "metadata": {
        "colab": {
          "base_uri": "https://localhost:8080/"
        },
        "id": "dqQDB_rk-PfL",
        "outputId": "64228229-2f36-470c-d067-a598237aa78d"
      },
      "execution_count": 84,
      "outputs": [
        {
          "output_type": "stream",
          "name": "stdout",
          "text": [
            "Epoch 1/200\n",
            "34/34 [==============================] - 3s 5ms/step - loss: 13297.7061 - mae: 13297.7061\n",
            "Epoch 2/200\n",
            "34/34 [==============================] - 0s 5ms/step - loss: 13144.9414 - mae: 13144.9414\n",
            "Epoch 3/200\n",
            "34/34 [==============================] - 0s 5ms/step - loss: 12823.4443 - mae: 12823.4443\n",
            "Epoch 4/200\n",
            "34/34 [==============================] - 0s 8ms/step - loss: 12195.4492 - mae: 12195.4492\n",
            "Epoch 5/200\n",
            "34/34 [==============================] - 0s 6ms/step - loss: 11136.6758 - mae: 11136.6758\n",
            "Epoch 6/200\n",
            "34/34 [==============================] - 0s 6ms/step - loss: 9729.6172 - mae: 9729.6172\n",
            "Epoch 7/200\n",
            "34/34 [==============================] - 0s 6ms/step - loss: 8356.4248 - mae: 8356.4248\n",
            "Epoch 8/200\n",
            "34/34 [==============================] - 0s 9ms/step - loss: 7593.8022 - mae: 7593.8022\n",
            "Epoch 9/200\n",
            "34/34 [==============================] - 0s 7ms/step - loss: 7436.2661 - mae: 7436.2661\n",
            "Epoch 10/200\n",
            "34/34 [==============================] - 0s 8ms/step - loss: 7413.2070 - mae: 7413.2070\n",
            "Epoch 11/200\n",
            "34/34 [==============================] - 0s 9ms/step - loss: 7394.9424 - mae: 7394.9424\n",
            "Epoch 12/200\n",
            "34/34 [==============================] - 0s 9ms/step - loss: 7374.1133 - mae: 7374.1133\n",
            "Epoch 13/200\n",
            "34/34 [==============================] - 0s 8ms/step - loss: 7354.6948 - mae: 7354.6948\n",
            "Epoch 14/200\n",
            "34/34 [==============================] - 0s 7ms/step - loss: 7333.2544 - mae: 7333.2544\n",
            "Epoch 15/200\n",
            "34/34 [==============================] - 0s 7ms/step - loss: 7314.9351 - mae: 7314.9351\n",
            "Epoch 16/200\n",
            "34/34 [==============================] - 0s 8ms/step - loss: 7293.3262 - mae: 7293.3262\n",
            "Epoch 17/200\n",
            "34/34 [==============================] - 0s 6ms/step - loss: 7274.7349 - mae: 7274.7349\n",
            "Epoch 18/200\n",
            "34/34 [==============================] - 0s 7ms/step - loss: 7252.2373 - mae: 7252.2373\n",
            "Epoch 19/200\n",
            "34/34 [==============================] - 0s 10ms/step - loss: 7230.9126 - mae: 7230.9126\n",
            "Epoch 20/200\n",
            "34/34 [==============================] - 0s 6ms/step - loss: 7208.6719 - mae: 7208.6719\n",
            "Epoch 21/200\n",
            "34/34 [==============================] - 0s 5ms/step - loss: 7191.0098 - mae: 7191.0098\n",
            "Epoch 22/200\n",
            "34/34 [==============================] - 0s 5ms/step - loss: 7164.3750 - mae: 7164.3750\n",
            "Epoch 23/200\n",
            "34/34 [==============================] - 0s 6ms/step - loss: 7140.7339 - mae: 7140.7339\n",
            "Epoch 24/200\n",
            "34/34 [==============================] - 0s 6ms/step - loss: 7117.1616 - mae: 7117.1616\n",
            "Epoch 25/200\n",
            "34/34 [==============================] - 0s 10ms/step - loss: 7099.1313 - mae: 7099.1313\n",
            "Epoch 26/200\n",
            "34/34 [==============================] - 0s 7ms/step - loss: 7069.8579 - mae: 7069.8579\n",
            "Epoch 27/200\n",
            "34/34 [==============================] - 0s 12ms/step - loss: 7042.0205 - mae: 7042.0205\n",
            "Epoch 28/200\n",
            "34/34 [==============================] - 0s 8ms/step - loss: 7015.2314 - mae: 7015.2314\n",
            "Epoch 29/200\n",
            "34/34 [==============================] - 0s 7ms/step - loss: 6988.6191 - mae: 6988.6191\n",
            "Epoch 30/200\n",
            "34/34 [==============================] - 0s 7ms/step - loss: 6962.3633 - mae: 6962.3633\n",
            "Epoch 31/200\n",
            "34/34 [==============================] - 0s 10ms/step - loss: 6932.3882 - mae: 6932.3882\n",
            "Epoch 32/200\n",
            "34/34 [==============================] - 0s 10ms/step - loss: 6905.5840 - mae: 6905.5840\n",
            "Epoch 33/200\n",
            "34/34 [==============================] - 0s 10ms/step - loss: 6875.7217 - mae: 6875.7217\n",
            "Epoch 34/200\n",
            "34/34 [==============================] - 0s 9ms/step - loss: 6844.5840 - mae: 6844.5840\n",
            "Epoch 35/200\n",
            "34/34 [==============================] - 0s 9ms/step - loss: 6812.6953 - mae: 6812.6953\n",
            "Epoch 36/200\n",
            "34/34 [==============================] - 0s 8ms/step - loss: 6779.5742 - mae: 6779.5742\n",
            "Epoch 37/200\n",
            "34/34 [==============================] - 0s 8ms/step - loss: 6744.9473 - mae: 6744.9473\n",
            "Epoch 38/200\n",
            "34/34 [==============================] - 0s 11ms/step - loss: 6713.6055 - mae: 6713.6055\n",
            "Epoch 39/200\n",
            "34/34 [==============================] - 0s 12ms/step - loss: 6675.1533 - mae: 6675.1533\n",
            "Epoch 40/200\n",
            "34/34 [==============================] - 0s 8ms/step - loss: 6640.6982 - mae: 6640.6982\n",
            "Epoch 41/200\n",
            "34/34 [==============================] - 0s 11ms/step - loss: 6607.6616 - mae: 6607.6616\n",
            "Epoch 42/200\n",
            "34/34 [==============================] - 0s 11ms/step - loss: 6577.2979 - mae: 6577.2979\n",
            "Epoch 43/200\n",
            "34/34 [==============================] - 0s 8ms/step - loss: 6546.4102 - mae: 6546.4102\n",
            "Epoch 44/200\n",
            "34/34 [==============================] - 0s 5ms/step - loss: 6520.7808 - mae: 6520.7808\n",
            "Epoch 45/200\n",
            "34/34 [==============================] - 0s 6ms/step - loss: 6505.3931 - mae: 6505.3931\n",
            "Epoch 46/200\n",
            "34/34 [==============================] - 0s 7ms/step - loss: 6485.3560 - mae: 6485.3560\n",
            "Epoch 47/200\n",
            "34/34 [==============================] - 0s 6ms/step - loss: 6469.1826 - mae: 6469.1826\n",
            "Epoch 48/200\n",
            "34/34 [==============================] - 0s 7ms/step - loss: 6453.7153 - mae: 6453.7153\n",
            "Epoch 49/200\n",
            "34/34 [==============================] - 0s 6ms/step - loss: 6440.7285 - mae: 6440.7285\n",
            "Epoch 50/200\n",
            "34/34 [==============================] - 0s 5ms/step - loss: 6426.8354 - mae: 6426.8354\n",
            "Epoch 51/200\n",
            "34/34 [==============================] - 0s 5ms/step - loss: 6413.2773 - mae: 6413.2773\n",
            "Epoch 52/200\n",
            "34/34 [==============================] - 0s 5ms/step - loss: 6402.5435 - mae: 6402.5435\n",
            "Epoch 53/200\n",
            "34/34 [==============================] - 0s 4ms/step - loss: 6388.6152 - mae: 6388.6152\n",
            "Epoch 54/200\n",
            "34/34 [==============================] - 0s 5ms/step - loss: 6375.4800 - mae: 6375.4800\n",
            "Epoch 55/200\n",
            "34/34 [==============================] - 0s 4ms/step - loss: 6362.1592 - mae: 6362.1592\n",
            "Epoch 56/200\n",
            "34/34 [==============================] - 0s 8ms/step - loss: 6348.3096 - mae: 6348.3096\n",
            "Epoch 57/200\n",
            "34/34 [==============================] - 0s 5ms/step - loss: 6336.3252 - mae: 6336.3252\n",
            "Epoch 58/200\n",
            "34/34 [==============================] - 0s 6ms/step - loss: 6322.0249 - mae: 6322.0249\n",
            "Epoch 59/200\n",
            "34/34 [==============================] - 0s 6ms/step - loss: 6307.7319 - mae: 6307.7319\n",
            "Epoch 60/200\n",
            "34/34 [==============================] - 0s 5ms/step - loss: 6297.6880 - mae: 6297.6880\n",
            "Epoch 61/200\n",
            "34/34 [==============================] - 0s 5ms/step - loss: 6279.0298 - mae: 6279.0298\n",
            "Epoch 62/200\n",
            "34/34 [==============================] - 0s 4ms/step - loss: 6267.1479 - mae: 6267.1479\n",
            "Epoch 63/200\n",
            "34/34 [==============================] - 0s 3ms/step - loss: 6248.7725 - mae: 6248.7725\n",
            "Epoch 64/200\n",
            "34/34 [==============================] - 0s 3ms/step - loss: 6233.8594 - mae: 6233.8594\n",
            "Epoch 65/200\n",
            "34/34 [==============================] - 0s 3ms/step - loss: 6217.1577 - mae: 6217.1577\n",
            "Epoch 66/200\n",
            "34/34 [==============================] - 0s 3ms/step - loss: 6200.8022 - mae: 6200.8022\n",
            "Epoch 67/200\n",
            "34/34 [==============================] - 0s 3ms/step - loss: 6188.9233 - mae: 6188.9233\n",
            "Epoch 68/200\n",
            "34/34 [==============================] - 0s 3ms/step - loss: 6167.3018 - mae: 6167.3018\n",
            "Epoch 69/200\n",
            "34/34 [==============================] - 0s 4ms/step - loss: 6151.8003 - mae: 6151.8003\n",
            "Epoch 70/200\n",
            "34/34 [==============================] - 0s 3ms/step - loss: 6132.4458 - mae: 6132.4458\n",
            "Epoch 71/200\n",
            "34/34 [==============================] - 0s 3ms/step - loss: 6113.9375 - mae: 6113.9375\n",
            "Epoch 72/200\n",
            "34/34 [==============================] - 0s 3ms/step - loss: 6096.8608 - mae: 6096.8608\n",
            "Epoch 73/200\n",
            "34/34 [==============================] - 0s 3ms/step - loss: 6082.0708 - mae: 6082.0708\n",
            "Epoch 74/200\n",
            "34/34 [==============================] - 0s 3ms/step - loss: 6056.9946 - mae: 6056.9946\n",
            "Epoch 75/200\n",
            "34/34 [==============================] - 0s 4ms/step - loss: 6037.8750 - mae: 6037.8750\n",
            "Epoch 76/200\n",
            "34/34 [==============================] - 0s 4ms/step - loss: 6021.9512 - mae: 6021.9512\n",
            "Epoch 77/200\n",
            "34/34 [==============================] - 0s 3ms/step - loss: 5991.5615 - mae: 5991.5615\n",
            "Epoch 78/200\n",
            "34/34 [==============================] - 0s 3ms/step - loss: 5970.2456 - mae: 5970.2456\n",
            "Epoch 79/200\n",
            "34/34 [==============================] - 0s 3ms/step - loss: 5947.4917 - mae: 5947.4917\n",
            "Epoch 80/200\n",
            "34/34 [==============================] - 0s 3ms/step - loss: 5921.9966 - mae: 5921.9966\n",
            "Epoch 81/200\n",
            "34/34 [==============================] - 0s 4ms/step - loss: 5897.7109 - mae: 5897.7109\n",
            "Epoch 82/200\n",
            "34/34 [==============================] - 0s 3ms/step - loss: 5871.7656 - mae: 5871.7656\n",
            "Epoch 83/200\n",
            "34/34 [==============================] - 0s 3ms/step - loss: 5845.7275 - mae: 5845.7275\n",
            "Epoch 84/200\n",
            "34/34 [==============================] - 0s 4ms/step - loss: 5813.8252 - mae: 5813.8252\n",
            "Epoch 85/200\n",
            "34/34 [==============================] - 0s 3ms/step - loss: 5789.5210 - mae: 5789.5210\n",
            "Epoch 86/200\n",
            "34/34 [==============================] - 0s 3ms/step - loss: 5757.2344 - mae: 5757.2344\n",
            "Epoch 87/200\n",
            "34/34 [==============================] - 0s 3ms/step - loss: 5724.2119 - mae: 5724.2119\n",
            "Epoch 88/200\n",
            "34/34 [==============================] - 0s 3ms/step - loss: 5694.1367 - mae: 5694.1367\n",
            "Epoch 89/200\n",
            "34/34 [==============================] - 0s 4ms/step - loss: 5656.5015 - mae: 5656.5015\n",
            "Epoch 90/200\n",
            "34/34 [==============================] - 0s 3ms/step - loss: 5619.2437 - mae: 5619.2437\n",
            "Epoch 91/200\n",
            "34/34 [==============================] - 0s 3ms/step - loss: 5586.9458 - mae: 5586.9458\n",
            "Epoch 92/200\n",
            "34/34 [==============================] - 0s 3ms/step - loss: 5541.2632 - mae: 5541.2632\n",
            "Epoch 93/200\n",
            "34/34 [==============================] - 0s 3ms/step - loss: 5504.3984 - mae: 5504.3984\n",
            "Epoch 94/200\n",
            "34/34 [==============================] - 0s 4ms/step - loss: 5465.2544 - mae: 5465.2544\n",
            "Epoch 95/200\n",
            "34/34 [==============================] - 0s 3ms/step - loss: 5414.9189 - mae: 5414.9189\n",
            "Epoch 96/200\n",
            "34/34 [==============================] - 0s 3ms/step - loss: 5375.7593 - mae: 5375.7593\n",
            "Epoch 97/200\n",
            "34/34 [==============================] - 0s 3ms/step - loss: 5327.4971 - mae: 5327.4971\n",
            "Epoch 98/200\n",
            "34/34 [==============================] - 0s 3ms/step - loss: 5271.4448 - mae: 5271.4448\n",
            "Epoch 99/200\n",
            "34/34 [==============================] - 0s 3ms/step - loss: 5217.8237 - mae: 5217.8237\n",
            "Epoch 100/200\n",
            "34/34 [==============================] - 0s 3ms/step - loss: 5165.0454 - mae: 5165.0454\n",
            "Epoch 101/200\n",
            "34/34 [==============================] - 0s 3ms/step - loss: 5102.9712 - mae: 5102.9712\n",
            "Epoch 102/200\n",
            "34/34 [==============================] - 0s 3ms/step - loss: 5041.9668 - mae: 5041.9668\n",
            "Epoch 103/200\n",
            "34/34 [==============================] - 0s 3ms/step - loss: 4982.2876 - mae: 4982.2876\n",
            "Epoch 104/200\n",
            "34/34 [==============================] - 0s 3ms/step - loss: 4911.5474 - mae: 4911.5474\n",
            "Epoch 105/200\n",
            "34/34 [==============================] - 0s 4ms/step - loss: 4838.3945 - mae: 4838.3945\n",
            "Epoch 106/200\n",
            "34/34 [==============================] - 0s 3ms/step - loss: 4762.3232 - mae: 4762.3232\n",
            "Epoch 107/200\n",
            "34/34 [==============================] - 0s 3ms/step - loss: 4685.6768 - mae: 4685.6768\n",
            "Epoch 108/200\n",
            "34/34 [==============================] - 0s 3ms/step - loss: 4605.0220 - mae: 4605.0220\n",
            "Epoch 109/200\n",
            "34/34 [==============================] - 0s 3ms/step - loss: 4521.1313 - mae: 4521.1313\n",
            "Epoch 110/200\n",
            "34/34 [==============================] - 0s 3ms/step - loss: 4435.2925 - mae: 4435.2925\n",
            "Epoch 111/200\n",
            "34/34 [==============================] - 0s 4ms/step - loss: 4351.3999 - mae: 4351.3999\n",
            "Epoch 112/200\n",
            "34/34 [==============================] - 0s 3ms/step - loss: 4277.8867 - mae: 4277.8867\n",
            "Epoch 113/200\n",
            "34/34 [==============================] - 0s 4ms/step - loss: 4195.6855 - mae: 4195.6855\n",
            "Epoch 114/200\n",
            "34/34 [==============================] - 0s 3ms/step - loss: 4119.5146 - mae: 4119.5146\n",
            "Epoch 115/200\n",
            "34/34 [==============================] - 0s 4ms/step - loss: 4048.3738 - mae: 4048.3738\n",
            "Epoch 116/200\n",
            "34/34 [==============================] - 0s 4ms/step - loss: 3992.4014 - mae: 3992.4014\n",
            "Epoch 117/200\n",
            "34/34 [==============================] - 0s 5ms/step - loss: 3968.5925 - mae: 3968.5925\n",
            "Epoch 118/200\n",
            "34/34 [==============================] - 0s 5ms/step - loss: 3935.5725 - mae: 3935.5725\n",
            "Epoch 119/200\n",
            "34/34 [==============================] - 0s 4ms/step - loss: 3900.4192 - mae: 3900.4192\n",
            "Epoch 120/200\n",
            "34/34 [==============================] - 0s 4ms/step - loss: 3871.6831 - mae: 3871.6831\n",
            "Epoch 121/200\n",
            "34/34 [==============================] - 0s 4ms/step - loss: 3858.4380 - mae: 3858.4380\n",
            "Epoch 122/200\n",
            "34/34 [==============================] - 0s 5ms/step - loss: 3847.7981 - mae: 3847.7981\n",
            "Epoch 123/200\n",
            "34/34 [==============================] - 0s 5ms/step - loss: 3838.2476 - mae: 3838.2476\n",
            "Epoch 124/200\n",
            "34/34 [==============================] - 0s 5ms/step - loss: 3830.5571 - mae: 3830.5571\n",
            "Epoch 125/200\n",
            "34/34 [==============================] - 0s 4ms/step - loss: 3813.3269 - mae: 3813.3269\n",
            "Epoch 126/200\n",
            "34/34 [==============================] - 0s 5ms/step - loss: 3824.8176 - mae: 3824.8176\n",
            "Epoch 127/200\n",
            "34/34 [==============================] - 0s 4ms/step - loss: 3812.3909 - mae: 3812.3909\n",
            "Epoch 128/200\n",
            "34/34 [==============================] - 0s 4ms/step - loss: 3807.0186 - mae: 3807.0186\n",
            "Epoch 129/200\n",
            "34/34 [==============================] - 0s 4ms/step - loss: 3809.4436 - mae: 3809.4436\n",
            "Epoch 130/200\n",
            "34/34 [==============================] - 0s 4ms/step - loss: 3798.9370 - mae: 3798.9370\n",
            "Epoch 131/200\n",
            "34/34 [==============================] - 0s 5ms/step - loss: 3791.9702 - mae: 3791.9702\n",
            "Epoch 132/200\n",
            "34/34 [==============================] - 0s 4ms/step - loss: 3783.5869 - mae: 3783.5869\n",
            "Epoch 133/200\n",
            "34/34 [==============================] - 0s 4ms/step - loss: 3778.8931 - mae: 3778.8931\n",
            "Epoch 134/200\n",
            "34/34 [==============================] - 0s 4ms/step - loss: 3779.3621 - mae: 3779.3621\n",
            "Epoch 135/200\n",
            "34/34 [==============================] - 0s 4ms/step - loss: 3774.9646 - mae: 3774.9646\n",
            "Epoch 136/200\n",
            "34/34 [==============================] - 0s 4ms/step - loss: 3773.9590 - mae: 3773.9590\n",
            "Epoch 137/200\n",
            "34/34 [==============================] - 0s 5ms/step - loss: 3782.8174 - mae: 3782.8174\n",
            "Epoch 138/200\n",
            "34/34 [==============================] - 0s 6ms/step - loss: 3787.9492 - mae: 3787.9492\n",
            "Epoch 139/200\n",
            "34/34 [==============================] - 0s 4ms/step - loss: 3769.2859 - mae: 3769.2859\n",
            "Epoch 140/200\n",
            "34/34 [==============================] - 0s 4ms/step - loss: 3771.5112 - mae: 3771.5112\n",
            "Epoch 141/200\n",
            "34/34 [==============================] - 0s 4ms/step - loss: 3770.7588 - mae: 3770.7588\n",
            "Epoch 142/200\n",
            "34/34 [==============================] - 0s 4ms/step - loss: 3769.7063 - mae: 3769.7063\n",
            "Epoch 143/200\n",
            "34/34 [==============================] - 0s 5ms/step - loss: 3761.9702 - mae: 3761.9702\n",
            "Epoch 144/200\n",
            "34/34 [==============================] - 0s 6ms/step - loss: 3757.0125 - mae: 3757.0125\n",
            "Epoch 145/200\n",
            "34/34 [==============================] - 0s 6ms/step - loss: 3760.3340 - mae: 3760.3340\n",
            "Epoch 146/200\n",
            "34/34 [==============================] - 0s 4ms/step - loss: 3762.4568 - mae: 3762.4568\n",
            "Epoch 147/200\n",
            "34/34 [==============================] - 0s 5ms/step - loss: 3759.6794 - mae: 3759.6794\n",
            "Epoch 148/200\n",
            "34/34 [==============================] - 0s 4ms/step - loss: 3763.4216 - mae: 3763.4216\n",
            "Epoch 149/200\n",
            "34/34 [==============================] - 0s 5ms/step - loss: 3750.2710 - mae: 3750.2710\n",
            "Epoch 150/200\n",
            "34/34 [==============================] - 0s 4ms/step - loss: 3745.5210 - mae: 3745.5210\n",
            "Epoch 151/200\n",
            "34/34 [==============================] - 0s 4ms/step - loss: 3749.2949 - mae: 3749.2949\n",
            "Epoch 152/200\n",
            "34/34 [==============================] - 0s 4ms/step - loss: 3750.5750 - mae: 3750.5750\n",
            "Epoch 153/200\n",
            "34/34 [==============================] - 0s 4ms/step - loss: 3748.5598 - mae: 3748.5598\n",
            "Epoch 154/200\n",
            "34/34 [==============================] - 0s 5ms/step - loss: 3743.6013 - mae: 3743.6013\n",
            "Epoch 155/200\n",
            "34/34 [==============================] - 0s 4ms/step - loss: 3747.5891 - mae: 3747.5891\n",
            "Epoch 156/200\n",
            "34/34 [==============================] - 0s 4ms/step - loss: 3742.4814 - mae: 3742.4814\n",
            "Epoch 157/200\n",
            "34/34 [==============================] - 0s 3ms/step - loss: 3740.1816 - mae: 3740.1816\n",
            "Epoch 158/200\n",
            "34/34 [==============================] - 0s 5ms/step - loss: 3736.1169 - mae: 3736.1169\n",
            "Epoch 159/200\n",
            "34/34 [==============================] - 0s 4ms/step - loss: 3735.2720 - mae: 3735.2720\n",
            "Epoch 160/200\n",
            "34/34 [==============================] - 0s 3ms/step - loss: 3740.4172 - mae: 3740.4172\n",
            "Epoch 161/200\n",
            "34/34 [==============================] - 0s 3ms/step - loss: 3736.6895 - mae: 3736.6895\n",
            "Epoch 162/200\n",
            "34/34 [==============================] - 0s 3ms/step - loss: 3730.6719 - mae: 3730.6719\n",
            "Epoch 163/200\n",
            "34/34 [==============================] - 0s 4ms/step - loss: 3729.1873 - mae: 3729.1873\n",
            "Epoch 164/200\n",
            "34/34 [==============================] - 0s 4ms/step - loss: 3733.7886 - mae: 3733.7886\n",
            "Epoch 165/200\n",
            "34/34 [==============================] - 0s 4ms/step - loss: 3726.9768 - mae: 3726.9768\n",
            "Epoch 166/200\n",
            "34/34 [==============================] - 0s 3ms/step - loss: 3728.4424 - mae: 3728.4424\n",
            "Epoch 167/200\n",
            "34/34 [==============================] - 0s 4ms/step - loss: 3728.8721 - mae: 3728.8721\n",
            "Epoch 168/200\n",
            "34/34 [==============================] - 0s 4ms/step - loss: 3721.8542 - mae: 3721.8542\n",
            "Epoch 169/200\n",
            "34/34 [==============================] - 0s 4ms/step - loss: 3720.3579 - mae: 3720.3579\n",
            "Epoch 170/200\n",
            "34/34 [==============================] - 0s 4ms/step - loss: 3715.8689 - mae: 3715.8689\n",
            "Epoch 171/200\n",
            "34/34 [==============================] - 0s 4ms/step - loss: 3714.7683 - mae: 3714.7683\n",
            "Epoch 172/200\n",
            "34/34 [==============================] - 0s 3ms/step - loss: 3718.0493 - mae: 3718.0493\n",
            "Epoch 173/200\n",
            "34/34 [==============================] - 0s 4ms/step - loss: 3711.4280 - mae: 3711.4280\n",
            "Epoch 174/200\n",
            "34/34 [==============================] - 0s 3ms/step - loss: 3716.4561 - mae: 3716.4561\n",
            "Epoch 175/200\n",
            "34/34 [==============================] - 0s 3ms/step - loss: 3718.6389 - mae: 3718.6389\n",
            "Epoch 176/200\n",
            "34/34 [==============================] - 0s 3ms/step - loss: 3713.6521 - mae: 3713.6521\n",
            "Epoch 177/200\n",
            "34/34 [==============================] - 0s 3ms/step - loss: 3707.1008 - mae: 3707.1008\n",
            "Epoch 178/200\n",
            "34/34 [==============================] - 0s 3ms/step - loss: 3705.9541 - mae: 3705.9541\n",
            "Epoch 179/200\n",
            "34/34 [==============================] - 0s 4ms/step - loss: 3717.1868 - mae: 3717.1868\n",
            "Epoch 180/200\n",
            "34/34 [==============================] - 0s 3ms/step - loss: 3719.2688 - mae: 3719.2688\n",
            "Epoch 181/200\n",
            "34/34 [==============================] - 0s 4ms/step - loss: 3704.3408 - mae: 3704.3408\n",
            "Epoch 182/200\n",
            "34/34 [==============================] - 0s 3ms/step - loss: 3702.3350 - mae: 3702.3350\n",
            "Epoch 183/200\n",
            "34/34 [==============================] - 0s 3ms/step - loss: 3700.3552 - mae: 3700.3552\n",
            "Epoch 184/200\n",
            "34/34 [==============================] - 0s 3ms/step - loss: 3705.6926 - mae: 3705.6926\n",
            "Epoch 185/200\n",
            "34/34 [==============================] - 0s 3ms/step - loss: 3704.0088 - mae: 3704.0088\n",
            "Epoch 186/200\n",
            "34/34 [==============================] - 0s 4ms/step - loss: 3705.0408 - mae: 3705.0408\n",
            "Epoch 187/200\n",
            "34/34 [==============================] - 0s 4ms/step - loss: 3695.1145 - mae: 3695.1145\n",
            "Epoch 188/200\n",
            "34/34 [==============================] - 0s 3ms/step - loss: 3703.2683 - mae: 3703.2683\n",
            "Epoch 189/200\n",
            "34/34 [==============================] - 0s 4ms/step - loss: 3693.0312 - mae: 3693.0312\n",
            "Epoch 190/200\n",
            "34/34 [==============================] - 0s 4ms/step - loss: 3693.2336 - mae: 3693.2336\n",
            "Epoch 191/200\n",
            "34/34 [==============================] - 0s 4ms/step - loss: 3706.1450 - mae: 3706.1450\n",
            "Epoch 192/200\n",
            "34/34 [==============================] - 0s 4ms/step - loss: 3693.6074 - mae: 3693.6074\n",
            "Epoch 193/200\n",
            "34/34 [==============================] - 0s 4ms/step - loss: 3683.9170 - mae: 3683.9170\n",
            "Epoch 194/200\n",
            "34/34 [==============================] - 0s 4ms/step - loss: 3684.9238 - mae: 3684.9238\n",
            "Epoch 195/200\n",
            "34/34 [==============================] - 0s 4ms/step - loss: 3682.2747 - mae: 3682.2747\n",
            "Epoch 196/200\n",
            "34/34 [==============================] - 0s 4ms/step - loss: 3689.3096 - mae: 3689.3096\n",
            "Epoch 197/200\n",
            "34/34 [==============================] - 0s 3ms/step - loss: 3675.6360 - mae: 3675.6360\n",
            "Epoch 198/200\n",
            "34/34 [==============================] - 0s 4ms/step - loss: 3682.3184 - mae: 3682.3184\n",
            "Epoch 199/200\n",
            "34/34 [==============================] - 0s 3ms/step - loss: 3688.4231 - mae: 3688.4231\n",
            "Epoch 200/200\n",
            "34/34 [==============================] - 0s 3ms/step - loss: 3675.4678 - mae: 3675.4678\n"
          ]
        }
      ]
    },
    {
      "cell_type": "code",
      "source": [
        "# Evaluate our third model\n",
        "insurance_model_3.evaluate(X_test, y_test)"
      ],
      "metadata": {
        "colab": {
          "base_uri": "https://localhost:8080/"
        },
        "id": "sqR4DZpyAHRW",
        "outputId": "f110e7ce-6a7b-4707-c68e-4cddd8c00020"
      },
      "execution_count": 85,
      "outputs": [
        {
          "output_type": "stream",
          "name": "stdout",
          "text": [
            "9/9 [==============================] - 0s 3ms/step - loss: 3507.5415 - mae: 3507.5415\n"
          ]
        },
        {
          "output_type": "execute_result",
          "data": {
            "text/plain": [
              "[3507.54150390625, 3507.54150390625]"
            ]
          },
          "metadata": {},
          "execution_count": 85
        }
      ]
    },
    {
      "cell_type": "code",
      "source": [
        "insurance_model.evaluate(X_test, y_test)"
      ],
      "metadata": {
        "colab": {
          "base_uri": "https://localhost:8080/"
        },
        "id": "cDBfr2olAZZa",
        "outputId": "7b7d7c95-478f-4784-f95e-298d92afca1e"
      },
      "execution_count": 86,
      "outputs": [
        {
          "output_type": "stream",
          "name": "stdout",
          "text": [
            "9/9 [==============================] - 0s 3ms/step - loss: 7743.0493 - mae: 7743.0493\n"
          ]
        },
        {
          "output_type": "execute_result",
          "data": {
            "text/plain": [
              "[7743.04931640625, 7743.04931640625]"
            ]
          },
          "metadata": {},
          "execution_count": 86
        }
      ]
    },
    {
      "cell_type": "code",
      "source": [
        "# Plot history (also known as a loss curve or a training curve)\n",
        "pd.DataFrame(history.history).plot()\n",
        "plt.ylabel(\"loss\")\n",
        "plt.xlabel(\"epochs\")"
      ],
      "metadata": {
        "colab": {
          "base_uri": "https://localhost:8080/",
          "height": 467
        },
        "id": "3njDR659Atr3",
        "outputId": "0e916061-bd2d-49bc-8079-817828cfb963"
      },
      "execution_count": 87,
      "outputs": [
        {
          "output_type": "execute_result",
          "data": {
            "text/plain": [
              "Text(0.5, 0, 'epochs')"
            ]
          },
          "metadata": {},
          "execution_count": 87
        },
        {
          "output_type": "display_data",
          "data": {
            "text/plain": [
              "<Figure size 640x480 with 1 Axes>"
            ],
            "image/png": "[encoded data removed]"
          },
          "metadata": {}
        }
      ]
    },
    {
      "cell_type": "code",
      "source": [
        "pd.DataFrame(history.history)"
      ],
      "metadata": {
        "colab": {
          "base_uri": "https://localhost:8080/",
          "height": 424
        },
        "id": "B7NCfemS_MZH",
        "outputId": "70fabe0e-7cba-4454-a2a7-b8029b3dbb93"
      },
      "execution_count": 91,
      "outputs": [
        {
          "output_type": "execute_result",
          "data": {
            "text/plain": [
              "             loss           mae\n",
              "0    13297.706055  13297.706055\n",
              "1    13144.941406  13144.941406\n",
              "2    12823.444336  12823.444336\n",
              "3    12195.449219  12195.449219\n",
              "4    11136.675781  11136.675781\n",
              "..            ...           ...\n",
              "195   3689.309570   3689.309570\n",
              "196   3675.635986   3675.635986\n",
              "197   3682.318359   3682.318359\n",
              "198   3688.423096   3688.423096\n",
              "199   3675.467773   3675.467773\n",
              "\n",
              "[200 rows x 2 columns]"
            ],
            "text/html": [
              "\n",
              "  <div id=\"df-2feb8473-ea7b-4b3d-a5e2-246cca20a543\">\n",
              "    <div class=\"colab-df-container\">\n",
              "      <div>\n",
              "<style scoped>\n",
              "    .dataframe tbody tr th:only-of-type {\n",
              "        vertical-align: middle;\n",
              "    }\n",
              "\n",
              "    .dataframe tbody tr th {\n",
              "        vertical-align: top;\n",
              "    }\n",
              "\n",
              "    .dataframe thead th {\n",
              "        text-align: right;\n",
              "    }\n",
              "</style>\n",
              "<table border=\"1\" class=\"dataframe\">\n",
              "  <thead>\n",
              "    <tr style=\"text-align: right;\">\n",
              "      <th></th>\n",
              "      <th>loss</th>\n",
              "      <th>mae</th>\n",
              "    </tr>\n",
              "  </thead>\n",
              "  <tbody>\n",
              "    <tr>\n",
              "      <th>0</th>\n",
              "      <td>13297.706055</td>\n",
              "      <td>13297.706055</td>\n",
              "    </tr>\n",
              "    <tr>\n",
              "      <th>1</th>\n",
              "      <td>13144.941406</td>\n",
              "      <td>13144.941406</td>\n",
              "    </tr>\n",
              "    <tr>\n",
              "      <th>2</th>\n",
              "      <td>12823.444336</td>\n",
              "      <td>12823.444336</td>\n",
              "    </tr>\n",
              "    <tr>\n",
              "      <th>3</th>\n",
              "      <td>12195.449219</td>\n",
              "      <td>12195.449219</td>\n",
              "    </tr>\n",
              "    <tr>\n",
              "      <th>4</th>\n",
              "      <td>11136.675781</td>\n",
              "      <td>11136.675781</td>\n",
              "    </tr>\n",
              "    <tr>\n",
              "      <th>...</th>\n",
              "      <td>...</td>\n",
              "      <td>...</td>\n",
              "    </tr>\n",
              "    <tr>\n",
              "      <th>195</th>\n",
              "      <td>3689.309570</td>\n",
              "      <td>3689.309570</td>\n",
              "    </tr>\n",
              "    <tr>\n",
              "      <th>196</th>\n",
              "      <td>3675.635986</td>\n",
              "      <td>3675.635986</td>\n",
              "    </tr>\n",
              "    <tr>\n",
              "      <th>197</th>\n",
              "      <td>3682.318359</td>\n",
              "      <td>3682.318359</td>\n",
              "    </tr>\n",
              "    <tr>\n",
              "      <th>198</th>\n",
              "      <td>3688.423096</td>\n",
              "      <td>3688.423096</td>\n",
              "    </tr>\n",
              "    <tr>\n",
              "      <th>199</th>\n",
              "      <td>3675.467773</td>\n",
              "      <td>3675.467773</td>\n",
              "    </tr>\n",
              "  </tbody>\n",
              "</table>\n",
              "<p>200 rows × 2 columns</p>\n",
              "</div>\n",
              "      <button class=\"colab-df-convert\" onclick=\"convertToInteractive('df-2feb8473-ea7b-4b3d-a5e2-246cca20a543')\"\n",
              "              title=\"Convert this dataframe to an interactive table.\"\n",
              "              style=\"display:none;\">\n",
              "        \n",
              "  <svg xmlns=\"http://www.w3.org/2000/svg\" height=\"24px\"viewBox=\"0 0 24 24\"\n",
              "       width=\"24px\">\n",
              "    <path d=\"M0 0h24v24H0V0z\" fill=\"none\"/>\n",
              "    <path d=\"M18.56 5.44l.94 2.06.94-2.06 2.06-.94-2.06-.94-.94-2.06-.94 2.06-2.06.94zm-11 1L8.5 8.5l.94-2.06 2.06-.94-2.06-.94L8.5 2.5l-.94 2.06-2.06.94zm10 10l.94 2.06.94-2.06 2.06-.94-2.06-.94-.94-2.06-.94 2.06-2.06.94z\"/><path d=\"M17.41 7.96l-1.37-1.37c-.4-.4-.92-.59-1.43-.59-.52 0-1.04.2-1.43.59L10.3 9.45l-7.72 7.72c-.78.78-.78 2.05 0 2.83L4 21.41c.39.39.9.59 1.41.59.51 0 1.02-.2 1.41-.59l7.78-7.78 2.81-2.81c.8-.78.8-2.07 0-2.86zM5.41 20L4 18.59l7.72-7.72 1.47 1.35L5.41 20z\"/>\n",
              "  </svg>\n",
              "      </button>\n",
              "      \n",
              "  <style>\n",
              "    .colab-df-container {\n",
              "      display:flex;\n",
              "      flex-wrap:wrap;\n",
              "      gap: 12px;\n",
              "    }\n",
              "\n",
              "    .colab-df-convert {\n",
              "      background-color: #E8F0FE;\n",
              "      border: none;\n",
              "      border-radius: 50%;\n",
              "      cursor: pointer;\n",
              "      display: none;\n",
              "      fill: #1967D2;\n",
              "      height: 32px;\n",
              "      padding: 0 0 0 0;\n",
              "      width: 32px;\n",
              "    }\n",
              "\n",
              "    .colab-df-convert:hover {\n",
              "      background-color: #E2EBFA;\n",
              "      box-shadow: 0px 1px 2px rgba(60, 64, 67, 0.3), 0px 1px 3px 1px rgba(60, 64, 67, 0.15);\n",
              "      fill: #174EA6;\n",
              "    }\n",
              "\n",
              "    [theme=dark] .colab-df-convert {\n",
              "      background-color: #3B4455;\n",
              "      fill: #D2E3FC;\n",
              "    }\n",
              "\n",
              "    [theme=dark] .colab-df-convert:hover {\n",
              "      background-color: #434B5C;\n",
              "      box-shadow: 0px 1px 3px 1px rgba(0, 0, 0, 0.15);\n",
              "      filter: drop-shadow(0px 1px 2px rgba(0, 0, 0, 0.3));\n",
              "      fill: #FFFFFF;\n",
              "    }\n",
              "  </style>\n",
              "\n",
              "      <script>\n",
              "        const buttonEl =\n",
              "          document.querySelector('#df-2feb8473-ea7b-4b3d-a5e2-246cca20a543 button.colab-df-convert');\n",
              "        buttonEl.style.display =\n",
              "          google.colab.kernel.accessAllowed ? 'block' : 'none';\n",
              "\n",
              "        async function convertToInteractive(key) {\n",
              "          const element = document.querySelector('#df-2feb8473-ea7b-4b3d-a5e2-246cca20a543');\n",
              "          const dataTable =\n",
              "            await google.colab.kernel.invokeFunction('convertToInteractive',\n",
              "                                                     [key], {});\n",
              "          if (!dataTable) return;\n",
              "\n",
              "          const docLinkHtml = 'Like what you see? Visit the ' +\n",
              "            '<a target=\"_blank\" href=https://colab.research.google.com/notebooks/data_table.ipynb>data table notebook</a>'\n",
              "            + ' to learn more about interactive tables.';\n",
              "          element.innerHTML = '';\n",
              "          dataTable['output_type'] = 'display_data';\n",
              "          await google.colab.output.renderOutput(dataTable, element);\n",
              "          const docLink = document.createElement('div');\n",
              "          docLink.innerHTML = docLinkHtml;\n",
              "          element.appendChild(docLink);\n",
              "        }\n",
              "      </script>\n",
              "    </div>\n",
              "  </div>\n",
              "  "
            ]
          },
          "metadata": {},
          "execution_count": 91
        }
      ]
    },
    {
      "cell_type": "markdown",
      "source": [
        "> 🤔 **Question:** How long should you train for?\n",
        "\n",
        "It depends. Really it depends on the problem you're working on. However many people have asked this question before... so TensorFlow has a solution! It's called the [EarlyStopping Callback] (https://www.tensorflow.org/api_docs/python/tf/keras/callbacks/EarlyStopping), which is a TensorFlow component you can add to your model to stop training once it stops improving a certain metric.  "
      ],
      "metadata": {
        "id": "Y_QLThii_PH5"
      }
    },
    {
      "cell_type": "markdown",
      "source": [
        "## Preprocessing data (normalization and standardization)"
      ],
      "metadata": {
        "id": "O-ZBYw8sEV2s"
      }
    },
    {
      "cell_type": "code",
      "source": [],
      "metadata": {
        "id": "Z3ycnD-bEhle"
      },
      "execution_count": null,
      "outputs": []
    }
  ],
  "metadata": {
    "colab": {
      "provenance": [],
      "mount_file_id": "1UNuL3XOXGLaccWidsJ05m0LywrxfS2jG",
      "authorship_tag": "ABX9TyOj2R8FAdqBFXKUCkxmkiit",
      "include_colab_link": true
    },
    "kernelspec": {
      "display_name": "Python 3",
      "name": "python3"
    },
    "language_info": {
      "name": "python"
    }
  },
  "nbformat": 4,
  "nbformat_minor": 0
}